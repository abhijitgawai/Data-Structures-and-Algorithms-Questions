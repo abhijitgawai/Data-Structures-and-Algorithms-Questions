{
 "cells": [
  {
   "cell_type": "markdown",
   "metadata": {},
   "source": [
    "# 317\tImplement a Maxheap/MinHeap using arrays and recursion.\n"
   ]
  },
  {
   "cell_type": "code",
   "execution_count": 401,
   "metadata": {
    "collapsed": true
   },
   "outputs": [
    {
     "data": {
      "text/plain": [
       "['__about__',\n",
       " '__all__',\n",
       " '__builtins__',\n",
       " '__cached__',\n",
       " '__doc__',\n",
       " '__file__',\n",
       " '__loader__',\n",
       " '__name__',\n",
       " '__package__',\n",
       " '__spec__',\n",
       " '_heapify_max',\n",
       " '_heappop_max',\n",
       " '_heapreplace_max',\n",
       " '_siftdown',\n",
       " '_siftdown_max',\n",
       " '_siftup',\n",
       " '_siftup_max',\n",
       " 'heapify',\n",
       " 'heappop',\n",
       " 'heappush',\n",
       " 'heappushpop',\n",
       " 'heapreplace',\n",
       " 'merge',\n",
       " 'nlargest',\n",
       " 'nsmallest']"
      ]
     },
     "execution_count": 401,
     "metadata": {},
     "output_type": "execute_result"
    }
   ],
   "source": [
    "dir(heapq)"
   ]
  },
  {
   "cell_type": "code",
   "execution_count": 387,
   "metadata": {},
   "outputs": [
    {
     "name": "stdout",
     "output_type": "stream",
     "text": [
      "17 15 13 11 8 10 9 6 1 5 4 2 3 7 -1 "
     ]
    }
   ],
   "source": [
    "'''MY Inserting from starting    insert- nlogn   delete-log(n)'''  #inserting O(n) cause we are checking for only half of elements. Not checking for leaf nodes\n",
    "'''MAX Heap'''\n",
    "def buildHeap_from_front(arr,n):\n",
    "    from math import ceil\n",
    "    for i in range(1,n):\n",
    "        #print(arr[i])\n",
    "        j=i\n",
    "        while( j>=0 and arr[j]>arr[ceil((j-1)/2)]):         # ceil((j-1)/2)>=0                   \n",
    "            arr[j],arr[ceil((j-1)/2)]=arr[ceil((j-1)/2)],arr[j]                            #also works for a[ceil(j/2)-1]\n",
    "            j=ceil((j-1)/2)      \n",
    "                \n",
    "arr = [0,1,2,3,4,5]\n",
    "n = len(arr)\n",
    "buildHeap_from_front(arr, n)\n",
    "for i in arr: print(i,end=' ')"
   ]
  },
  {
   "cell_type": "code",
   "execution_count": 397,
   "metadata": {},
   "outputs": [
    {
     "name": "stdout",
     "output_type": "stream",
     "text": [
      "6 5 1 4 2 3 "
     ]
    }
   ],
   "source": [
    "'''MY Inserting from Ending    insert- (n)   delete-log(n)'''  #inserting O(n) cause we are checking for only half of elements. Not checking for leaf nodes\n",
    "'''MAX Heap'''\n",
    "'''worng because of 1 codndition'''\n",
    "def buildHeap_from_front(arr,n):\n",
    "    import math\n",
    "    a=math.ceil(n/2-1)                          #to skip leaf nodes, and start from last but one'th height from last\n",
    "    #a=n\n",
    "    for i in range(a,-1,-1):\n",
    "        j=i\n",
    "        #print(i)\n",
    "#         if j<=n-1 and n>j*2+1:\n",
    "#             if n<=j*2+2:                                                               #This condition is fkked, need to correct and add this condition here\n",
    "#                 if arr[j]<arr[j*2+1]:\n",
    "#                     arr[j],arr[j*2+1]=arr[j*2+1],arr[j]\n",
    "#                     j=j*2+1\n",
    "                    \n",
    "        while(j<=n-1 and  n>j*2+1 and n>j*2+2 and ((arr[j]<arr[j*2+1] or arr[j]<arr[j*2+2]))): \n",
    "                #print('j',j)\n",
    "                #print(arr[j*2+1],arr[j*2+2])\n",
    "                if arr[j*2+1]<arr[j*2+2]:\n",
    "                    arr[j],arr[j*2+2]=arr[j*2+2],arr[j]\n",
    "                    j=j*2+2\n",
    "                    #print('j swapped',j)\n",
    "                else:\n",
    "                    arr[j],arr[j*2+1]=arr[j*2+1],arr[j]\n",
    "                    j=j*2+1\n",
    "                    #print('j swapped',j)\n",
    "        \n",
    "arr=[1,2,6,4,5,3]            \n",
    "#arr = [1, 3, 5, 4, 6, 13, 10, 9, 8, 15, 17, 2, 11, 7, -1]\n",
    "n = len(arr)\n",
    "buildHeap_from_front(arr, n)\n",
    "for i in arr: print(i,end=' ') "
   ]
  },
  {
   "cell_type": "code",
   "execution_count": null,
   "metadata": {},
   "outputs": [],
   "source": [
    "'del'\n",
    "def buildHeap_from_front(arr,n):\n",
    "    \n",
    "        \n",
    "                \n",
    "arr = [1, 3, 5, 4, 6, 13, 10, 9, 8, 15, 17, 2, 11, 7, -1]\n",
    "n = len(arr)\n",
    "buildHeap_from_front(arr, n)\n",
    "for i in arr: print(i,end=' ') "
   ]
  },
  {
   "cell_type": "code",
   "execution_count": 267,
   "metadata": {},
   "outputs": [
    {
     "name": "stdout",
     "output_type": "stream",
     "text": [
      "17 15 13 9 6 11 10 4 8 3 1 2 5 7 -1 "
     ]
    }
   ],
   "source": [
    "'''MAX Heap'''\n",
    "def buildHeap_from_front(arr,n):\n",
    "    import heapq\n",
    "    heapq._heapify_max(arr)\n",
    "    \n",
    "                \n",
    "arr = [1, 3, 5, 4, 6, 13, 10, 9, 8, 15, 17, 2, 11, 7, -1]\n",
    "n = len(arr)\n",
    "buildHeap_from_front(arr, n)\n",
    "for i in arr: print(i,end=' ')"
   ]
  },
  {
   "cell_type": "code",
   "execution_count": 399,
   "metadata": {},
   "outputs": [
    {
     "name": "stdout",
     "output_type": "stream",
     "text": [
      "Array representation of Heap is:\n",
      "6 5 3 4 2 1 \n"
     ]
    }
   ],
   "source": [
    "'''GFG MAX Heap'''\n",
    "\n",
    "def heapify(arr, n, i):\n",
    "\n",
    "\tlargest = i; \n",
    "\tl = 2 * i + 1; \n",
    "\tr = 2 * i + 2;\n",
    "\n",
    "\tif l < n and arr[l] > arr[largest]:\n",
    "\t\tlargest = l;\n",
    "\n",
    "\tif r < n and arr[r] > arr[largest]:\n",
    "\t\tlargest = r;\n",
    "\n",
    "\tif largest != i:\n",
    "\t\tarr[i], arr[largest] = arr[largest], arr[i];\n",
    "\n",
    "\t\theapify(arr, n, largest);\n",
    "\n",
    "def buildHeap(arr, n):\n",
    "\n",
    "\tstartIdx = n // 2 - 1;\n",
    "\n",
    "\tfor i in range(startIdx, -1, -1):\n",
    "\t\theapify(arr, n, i);\n",
    "\n",
    "def printHeap(arr, n):\n",
    "\tprint(\"Array representation of Heap is:\");\n",
    "\tfor i in range(n):\n",
    "\t\tprint(arr[i], end = \" \");\n",
    "\tprint();\n",
    "if __name__ == '__main__':\n",
    "\t#arr = [ 1, 3, 5, 4, 6, 13,10, 9, 8, 15, 17 ];\n",
    "\tarr=[1,2,3,4,5,6]\n",
    "\tn = len(arr);\n",
    "\tbuildHeap(arr, n);\n",
    "\tprintHeap(arr, n);"
   ]
  },
  {
   "cell_type": "markdown",
   "metadata": {},
   "source": [
    "# MIN HEAP"
   ]
  },
  {
   "cell_type": "code",
   "execution_count": 67,
   "metadata": {},
   "outputs": [
    {
     "name": "stdout",
     "output_type": "stream",
     "text": [
      "-1 3 1 4 6 2 5 9 8 15 17 13 11 7 10 "
     ]
    }
   ],
   "source": [
    "'''MY Inserting from Ending    insert- (n)   delete-log(n)'''  #inserting O(n) cause we are checking for only half of elements. Not checking for leaf nodes\n",
    "'''MIN Heap'''\n",
    "def buildHeap_from_front(arr,n):\n",
    "    import math\n",
    "    a=math.ceil(n/2-1)                          #to skip leaf nodes, and start from last but one'th height from last\n",
    "    #a=n\n",
    "    for i in range(a,-1,-1):\n",
    "        j=i\n",
    "        #print(i)\n",
    "        while(j<=n-1 and  n>j*2+1 and n>j*2+2 and ((arr[j]>arr[j*2+1] or arr[j]>arr[j*2+2]))): \n",
    "                #print('j',j)\n",
    "                #print(arr[j*2+1],arr[j*2+2])\n",
    "                if arr[j*2+1]<arr[j*2+2]:\n",
    "                    arr[j],arr[j*2+1]=arr[j*2+1],arr[j]\n",
    "                    j=j*2+1\n",
    "                    #print('j swapped',j)\n",
    "                else:\n",
    "                    arr[j],arr[j*2+2]=arr[j*2+2],arr[j]\n",
    "                    j=j*2+2\n",
    "                    #print('j swapped',j)\n",
    "                \n",
    "arr = [1, 3, 5, 4, 6, 13, 10, 9, 8, 15, 17, 2, 11, 7, -1]\n",
    "n = len(arr)\n",
    "buildHeap_from_front(arr, n)\n",
    "for i in arr: print(i,end=' ') "
   ]
  },
  {
   "cell_type": "code",
   "execution_count": 268,
   "metadata": {},
   "outputs": [
    {
     "name": "stdout",
     "output_type": "stream",
     "text": [
      "-1 3 1 4 6 2 5 9 8 15 17 13 11 7 10 "
     ]
    }
   ],
   "source": [
    "'''MIN Heap'''\n",
    "def buildHeap_from_front(arr,n):\n",
    "    import heapq\n",
    "    heapq.heapify(arr)\n",
    "                \n",
    "arr = [1, 3, 5, 4, 6, 13, 10, 9, 8, 15, 17, 2, 11, 7, -1]\n",
    "n = len(arr)\n",
    "buildHeap_from_front(arr, n)\n",
    "for i in arr: print(i,end=' ') "
   ]
  },
  {
   "cell_type": "markdown",
   "metadata": {},
   "source": [
    "# 318\tSort an Array using heap. (HeapSort)\n"
   ]
  },
  {
   "cell_type": "code",
   "execution_count": 63,
   "metadata": {},
   "outputs": [
    {
     "name": "stdout",
     "output_type": "stream",
     "text": [
      "-1\n",
      "1\n",
      "2\n",
      "3\n",
      "4\n",
      "5\n",
      "6\n",
      "7\n",
      "8\n",
      "9\n",
      "10\n",
      "11\n",
      "13\n",
      "15\n",
      "17\n",
      "\n",
      "\n",
      "-1 3 1 4 6 2 5 9 8 15 17 13 11 7 10 "
     ]
    }
   ],
   "source": [
    "'''sorting O( nlogn ) MIN Heap'''\n",
    "def buildHeap_from_front(arr):\n",
    "    import math\n",
    "    n=len(arr)\n",
    "    a=math.ceil(len(arr)/2-1)                          #to skip leaf nodes, and start from last but one'th height from last\n",
    "    #a=n\n",
    "    for i in range(a,-1,-1):\n",
    "        j=i\n",
    "        #print(i)\n",
    "        while(j<=n-1 and  n>j*2+1 and n>j*2+2 and ((arr[j]>arr[j*2+1] or arr[j]>arr[j*2+2]))): \n",
    "                if arr[j*2+1]<arr[j*2+2]:\n",
    "                    arr[j],arr[j*2+1]=arr[j*2+1],arr[j]\n",
    "                    j=j*2+1\n",
    "                else:\n",
    "                    arr[j],arr[j*2+2]=arr[j*2+2],arr[j]\n",
    "                    j=j*2+2\n",
    "    if n>0:                                                     # '''only Change'''\n",
    "        print(arr[0])#,arr)\n",
    "        buildHeap_from_front(arr[1:])\n",
    "                \n",
    "arr = [1, 3, 5, 4, 6, 13, 10, 9, 8, 15, 17, 2, 11, 7, -1]\n",
    "#n = len(arr)\n",
    "buildHeap_from_front(arr)\n",
    "print('\\n')\n",
    "for i in arr: print(i,end=' ') "
   ]
  },
  {
   "cell_type": "markdown",
   "metadata": {},
   "source": [
    "# 319\tMaximum of all subarrays of size k.\n"
   ]
  },
  {
   "cell_type": "code",
   "execution_count": 269,
   "metadata": {},
   "outputs": [
    {
     "name": "stdout",
     "output_type": "stream",
     "text": [
      "deque([0, 1, 2, 3])\n",
      "[10]\n",
      "i 5 n -8\n",
      "i 6 n 2\n",
      "i 7 n -6\n",
      "[10, 10, 9, 2]\n",
      "deque([6, 7])\n"
     ]
    }
   ],
   "source": [
    "'''queue'''\n",
    "k = 5\n",
    "nums =[9,10,9,-7,-4,-8,2,-6]\n",
    "n=len(nums)\n",
    "if k==1:\n",
    "\n",
    "    print(nums)\n",
    "result=[]\n",
    "from collections import deque\n",
    "a=max(nums[:k])\n",
    "d=deque()\n",
    "#d.extend([i for i in range(nums.index(a),k) if nums[k+1]>nums[i]])\n",
    "for i in range(k-1):\n",
    "    if len(nums)>=k:\n",
    "        if nums[k]<nums[i]:\n",
    "            d.append(i)\n",
    "\n",
    "print(d)\n",
    "result.append(a)\n",
    "print(result)\n",
    "for i,n in enumerate(nums):\n",
    "    if i<k:\n",
    "        continue\n",
    "    print('i',i,'n',n)\n",
    "    while(d and d[0]<=i-k):\n",
    "    #if d[0]==i-k:\n",
    "        d.popleft()\n",
    "    while(d and nums[d[-1]]<=nums[i]):\n",
    "        d.pop()\n",
    "    d.append(i)\n",
    "    result.append(nums[d[0]])\n",
    "print(result)\n",
    "print(d)"
   ]
  },
  {
   "cell_type": "code",
   "execution_count": 225,
   "metadata": {},
   "outputs": [
    {
     "data": {
      "text/plain": [
       "[10, 10, 9, 2]"
      ]
     },
     "execution_count": 225,
     "metadata": {},
     "output_type": "execute_result"
    }
   ],
   "source": [
    "'''Heap'''\n",
    "def maxSlidingWindow( nums, k):\n",
    "    if k==1:\n",
    "        return nums\n",
    "\n",
    "    n=len(nums)\n",
    "    from collections import deque\n",
    "    d=deque()\n",
    "    result=[]\n",
    "    for i in range(k-1):\n",
    "        while d and d[-1]<nums[i]:\n",
    "            d.pop()\n",
    "        d.append(nums[i])\n",
    "\n",
    "    for i in range(k-1,n):\n",
    "\n",
    "        while d and d[-1]<nums[i]:\n",
    "            d.pop()\n",
    "        d.append(nums[i])\n",
    "\n",
    "        result.append(d[0])\n",
    "\n",
    "        if d[0]==nums[i-k+1]:\n",
    "            d.popleft()\n",
    "\n",
    "\n",
    "\n",
    "    return result\n",
    "maxSlidingWindow([9,10,9,-7,-4,-8,2,-6],5)"
   ]
  },
  {
   "cell_type": "markdown",
   "metadata": {},
   "source": [
    "# 320\t“k” largest element in an array\n"
   ]
  },
  {
   "cell_type": "code",
   "execution_count": null,
   "metadata": {},
   "outputs": [],
   "source": [
    "def kLargest(self,arr, n, k):\n",
    "    # code here\n",
    "    import heapq\n",
    "    result=[]\n",
    "    heapq._heapify_max(arr)\n",
    "    for i in range(k):\n",
    "        result.append(heapq._heappop_max(arr))\n",
    "\n",
    "\n",
    "\n",
    "    return result"
   ]
  },
  {
   "cell_type": "code",
   "execution_count": 292,
   "metadata": {},
   "outputs": [
    {
     "name": "stdout",
     "output_type": "stream",
     "text": [
      "[10, 9]\n"
     ]
    }
   ],
   "source": [
    "'''Bubble sort'''\n",
    "def kLargest(a,  k):\n",
    "    flag=0\n",
    "    n=len(a)\n",
    "    for i in range(k):\n",
    "        flag=0\n",
    "        for j in range(0,n-i-1):\n",
    "            if a[j]>a[j+1]:\n",
    "                a[j],a[j+1]=a[j+1],a[j]\n",
    "                flag=1\n",
    "        if flag==0:\n",
    "            break\n",
    "\n",
    "    return a[:-k-1:-1]\n",
    "print(kLargest([9,10,9,-7,-4,-8,2,-6],2))"
   ]
  },
  {
   "cell_type": "markdown",
   "metadata": {},
   "source": [
    "# 322\tMerge “K” sorted arrays. [ IMP ]\n"
   ]
  },
  {
   "cell_type": "code",
   "execution_count": 314,
   "metadata": {},
   "outputs": [
    {
     "name": "stdout",
     "output_type": "stream",
     "text": [
      "[1, 2, 2, 2, 3, 3, 4, 4, 5, 5, 6, 6, 7, 8, 9, 9]\n"
     ]
    }
   ],
   "source": [
    "arr=[[1,2,3,4 ],[2,2,3,4 ],[5,5,6,6 ],[7,8,9,9 ] ]\n",
    "a=[]\n",
    "c=[]\n",
    "for i in arr:\n",
    "    a.extend(i)\n",
    "heapq.heapify(a)\n",
    "for i in range(len(a)):\n",
    "    b=heapq.heappop(a)\n",
    "    c.append(b)\n",
    "print( c)"
   ]
  },
  {
   "cell_type": "markdown",
   "metadata": {},
   "source": [
    "# 323\tMerge 2 Binary Max Heaps\n"
   ]
  },
  {
   "cell_type": "code",
   "execution_count": null,
   "metadata": {},
   "outputs": [],
   "source": [
    "def mergeHeaps(self, a, b, n, m):\n",
    "    a.extend(b)\n",
    "    import heapq\n",
    "    heapq._heapify_max(a)\n",
    "    return a"
   ]
  },
  {
   "cell_type": "markdown",
   "metadata": {},
   "source": [
    "# 324\tKth largest sum continuous subarrays\n"
   ]
  },
  {
   "cell_type": "code",
   "execution_count": 410,
   "metadata": {},
   "outputs": [],
   "source": [
    "def getKthLargest(arr, k):\n",
    "    b=[]\n",
    "    for i in range(len(arr)):\n",
    "        for j in range(i+2,len(arr)+1):\n",
    "\n",
    "            b.append(sum(arr[i:j]))\n",
    "    arr.extend(b)\n",
    "\n",
    "    import heapq\n",
    "    for i in range(len(arr)):\n",
    "        arr[i]=-arr[i]\n",
    "    heapq.heapify(arr)\n",
    "    #print(arr)\n",
    "    for i in range(k-1):\n",
    "        heapq.heappop(arr)\n",
    "    return -heapq.heappop(arr)"
   ]
  },
  {
   "cell_type": "code",
   "execution_count": 409,
   "metadata": {
    "collapsed": true
   },
   "outputs": [
    {
     "name": "stdout",
     "output_type": "stream",
     "text": [
      "[0, 1]\n",
      "[0, 1, 2]\n",
      "[0, 1, 2, 3]\n",
      "[0, 1, 2, 3, 4]\n",
      "[0, 1, 2, 3, 4, 5]\n",
      "[0, 1, 2, 3, 4, 5, 6]\n",
      "[1, 2]\n",
      "[1, 2, 3]\n",
      "[1, 2, 3, 4]\n",
      "[1, 2, 3, 4, 5]\n",
      "[1, 2, 3, 4, 5, 6]\n",
      "[2, 3]\n",
      "[2, 3, 4]\n",
      "[2, 3, 4, 5]\n",
      "[2, 3, 4, 5, 6]\n",
      "[3, 4]\n",
      "[3, 4, 5]\n",
      "[3, 4, 5, 6]\n",
      "[4, 5]\n",
      "[4, 5, 6]\n",
      "[5, 6]\n"
     ]
    }
   ],
   "source": [
    "a=[0,1,2,3,4,5,6]\n",
    "\n",
    "for i in range(len(a)):\n",
    "    for j in range(i+2,len(a)+1):\n",
    "        print(a[i:j])"
   ]
  }
 ],
 "metadata": {
  "kernelspec": {
   "display_name": "Python 3",
   "language": "python",
   "name": "python3"
  },
  "language_info": {
   "codemirror_mode": {
    "name": "ipython",
    "version": 3
   },
   "file_extension": ".py",
   "mimetype": "text/x-python",
   "name": "python",
   "nbconvert_exporter": "python",
   "pygments_lexer": "ipython3",
   "version": "3.7.3"
  }
 },
 "nbformat": 4,
 "nbformat_minor": 2
}
