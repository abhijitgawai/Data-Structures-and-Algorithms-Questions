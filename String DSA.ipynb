{
 "cells": [
  {
   "cell_type": "markdown",
   "metadata": {},
   "source": [
    ";/;# 47 Reverse a String\n"
   ]
  },
  {
   "cell_type": "code",
   "execution_count": 10,
   "metadata": {},
   "outputs": [
    {
     "name": "stdout",
     "output_type": "stream",
     "text": [
      "tijihba"
     ]
    }
   ],
   "source": [
    "def reverseString(self, s: List[str]) -> None:\n",
    "    for i in range(len(s)):\n",
    "\n",
    "        s[i],s[len(s)-1-i]=s[len(s)-1-i],s[i]\n",
    "        if i>=len(s)//2-1:\n",
    "            break\n",
    "    print(s)\n",
    "    return s"
   ]
  },
  {
   "cell_type": "markdown",
   "metadata": {},
   "source": [
    "# 48 Check whether a String is Palindrome or not\n"
   ]
  },
  {
   "cell_type": "code",
   "execution_count": 41,
   "metadata": {},
   "outputs": [
    {
     "name": "stdout",
     "output_type": "stream",
     "text": [
      "1\n"
     ]
    }
   ],
   "source": [
    "a=\"abcacba\"\n",
    "flag=1\n",
    "for i in range(len(a)//2):\n",
    "    if (a[i]!=a[len(a)-i-1]):       #palindrome nahi\n",
    "        flag=0\n",
    "print(flag)"
   ]
  },
  {
   "cell_type": "markdown",
   "metadata": {},
   "source": [
    "# Check whether a String is Palindrome or not after removing at least one element\n"
   ]
  },
  {
   "cell_type": "code",
   "execution_count": null,
   "metadata": {},
   "outputs": [],
   "source": [
    "def validPalindrome(self, s: str) -> bool:\n",
    "    print('--------')\n",
    "    if s[:]==s[::-1]:\n",
    "        return True\n",
    "        #pass\n",
    "    flag=1\n",
    "    n=len(s)\n",
    "    for i in range(len(s)-1):\n",
    "        if s[i]==s[n-i-1]:\n",
    "            continue\n",
    "        else:\n",
    "            a=s[i+1:n-i]\n",
    "            print(a,a[::-1])\n",
    "            if a==a[::-1]:\n",
    "                return True\n",
    "            a=s[i:n-i-1]\n",
    "            print(a,a[::-1])\n",
    "            if a==a[::-1]:\n",
    "                return True\n",
    "            return False\n",
    "\n",
    "    return False"
   ]
  },
  {
   "cell_type": "markdown",
   "metadata": {},
   "source": [
    "# 49\tFind Duplicate characters in a string\n"
   ]
  },
  {
   "cell_type": "code",
   "execution_count": 72,
   "metadata": {},
   "outputs": [
    {
     "name": "stdout",
     "output_type": "stream",
     "text": [
      "t 3\n",
      "s 2\n",
      "test string\n"
     ]
    }
   ],
   "source": [
    "from collections import Counter      \n",
    "def printDups(st):\n",
    "    x=Counter(st)\n",
    "    #print(x)\n",
    "    for i in x:\n",
    "        #print(x[i])\n",
    "        if x[i]>=2:\n",
    "            print(i,x[i])\n",
    "    \n",
    "    return st\n",
    "string = \"test string\"\n",
    "print (printDups(string))"
   ]
  },
  {
   "cell_type": "markdown",
   "metadata": {},
   "source": [
    "# 51\tWrite a Code to check whether one string is a rotation of another\n"
   ]
  },
  {
   "cell_type": "code",
   "execution_count": 8,
   "metadata": {},
   "outputs": [
    {
     "name": "stdout",
     "output_type": "stream",
     "text": [
      "bhijita\n",
      "hijitab\n",
      "ijitabh\n",
      "jitabhi\n",
      "4\n",
      "itabhij\n",
      "tabhiji\n",
      "abhijit\n"
     ]
    }
   ],
   "source": [
    "a='abhijit'\n",
    "b='itabhij'\n",
    "for i in range(len(a)):\n",
    "    a=a[1:]+a[0]\n",
    "    if a==b:\n",
    "        print(i)\n",
    "    print(a)"
   ]
  },
  {
   "cell_type": "code",
   "execution_count": 13,
   "metadata": {},
   "outputs": [
    {
     "name": "stdout",
     "output_type": "stream",
     "text": [
      "rotation\n"
     ]
    }
   ],
   "source": [
    "a='abhijit'\n",
    "b='jitabhi'\n",
    "a=a+a\n",
    "a\n",
    "if b in a:\n",
    "    print('rotation')"
   ]
  },
  {
   "cell_type": "markdown",
   "metadata": {},
   "source": [
    "# 52\tWrite a Program to check whether a string is a valid shuffle of two strings or not\n"
   ]
  },
  {
   "cell_type": "code",
   "execution_count": 46,
   "metadata": {},
   "outputs": [
    {
     "name": "stdout",
     "output_type": "stream",
     "text": [
      "return 0\n",
      "ABCD\n",
      "ABCD\n",
      "Yes, it is\n"
     ]
    }
   ],
   "source": [
    "A = \"AB\"\n",
    "B = \"CD\"\n",
    "C = \"ACBD\"\n",
    "\n",
    "if len(A)+len(B)==len(C):\n",
    "    print('return 0')\n",
    "    #return 0\n",
    "a=sorted(A+B)\n",
    "a=''.join(a)\n",
    "print(a)\n",
    "\n",
    "c=sorted(C)\n",
    "c=''.join(c)\n",
    "print(c)\n",
    "if a==c:\n",
    "    print('Yes, it is')\n"
   ]
  },
  {
   "cell_type": "markdown",
   "metadata": {},
   "source": [
    "# 53\tCount and Say problem"
   ]
  },
  {
   "cell_type": "code",
   "execution_count": 80,
   "metadata": {
    "scrolled": false
   },
   "outputs": [
    {
     "name": "stdout",
     "output_type": "stream",
     "text": [
      "1112213324"
     ]
    }
   ],
   "source": [
    "'''\n",
    "In such problems always start searching from ix=1 and compare a[i-1] to curr\n",
    "handle last index\n",
    "'''\n",
    "a='12113334455'\n",
    "b=[]\n",
    "cur=a[0]\n",
    "#print(a[0])\n",
    "#lst=0\n",
    "cnt=0\n",
    "\n",
    "for i in range(len(a)):\n",
    "    if i==(len(a)-1):\n",
    "        #print(cnt,cur,a[i-1],a[i])\n",
    "        if cur==a[i-1]:\n",
    "            cnt=cnt+1\n",
    "            \n",
    "             \n",
    "        break\n",
    "    if cur==a[i+1]:\n",
    "        cnt=cnt+1      \n",
    "        #print(cnt,cur,a[i+1])\n",
    "        cur=a[i+1]\n",
    "    if cur!=a[i+1]:\n",
    "        cnt=cnt+1       \n",
    "        #print(cnt,cur,a[i+1],'-')\n",
    "        print(cnt,cur,sep='',end='')\n",
    "        cur=a[i+1]\n",
    "        #lst=cnt\n",
    "        cnt=0"
   ]
  },
  {
   "cell_type": "markdown",
   "metadata": {},
   "source": [
    "# 54\tWrite a program to find the longest Palindrome in a string.[ Longest palindromic Substring]\n"
   ]
  },
  {
   "cell_type": "code",
   "execution_count": 284,
   "metadata": {},
   "outputs": [
    {
     "name": "stdout",
     "output_type": "stream",
     "text": [
      "hi ih\n",
      "2\n"
     ]
    }
   ],
   "source": [
    "a='abhijit'\n",
    "\n",
    "print(a[2:4],a[4-1:2-1:-1])\n",
    "print(j-i+1)\n"
   ]
  },
  {
   "cell_type": "code",
   "execution_count": 104,
   "metadata": {
    "collapsed": true
   },
   "outputs": [
    {
     "name": "stdout",
     "output_type": "stream",
     "text": [
      "v \t\t\t\t \n",
      "vn \t\t\t\t \n",
      "vnr \t\t\t\t \n",
      "vnrt \t\t\t\t \n",
      "vnrty \t\t\t\t \n",
      "vnrtys \t\t\t\t \n",
      "vnrtysf \t\t\t\t \n",
      "vnrtysfr \t\t\t\t \n",
      "vnrtysfrz \t\t\t\t \n",
      "vnrtysfrzr \t\t\t\t \n",
      "vnrtysfrzrm \t\t\t\t \n",
      "vnrtysfrzrmz \t\t\t\t \n",
      "vnrtysfrzrmzl \t\t\t\t \n",
      "vnrtysfrzrmzly \t\t\t\t \n",
      "vnrtysfrzrmzlyg \t\t\t\t \n",
      "vnrtysfrzrmzlygf \t\t\t\t \n",
      "vnrtysfrzrmzlygfv \t\t\t\t \n",
      "n \t\t\t\t n\n",
      "Gaot\n",
      "2 n\n",
      "nr \t\t\t\t rn\n",
      "nrt \t\t\t\t trn\n",
      "nrty \t\t\t\t ytrn\n",
      "nrtys \t\t\t\t sytrn\n",
      "nrtysf \t\t\t\t fsytrn\n",
      "nrtysfr \t\t\t\t rfsytrn\n",
      "nrtysfrz \t\t\t\t zrfsytrn\n",
      "nrtysfrzr \t\t\t\t rzrfsytrn\n",
      "nrtysfrzrm \t\t\t\t mrzrfsytrn\n",
      "nrtysfrzrmz \t\t\t\t zmrzrfsytrn\n",
      "nrtysfrzrmzl \t\t\t\t lzmrzrfsytrn\n",
      "nrtysfrzrmzly \t\t\t\t ylzmrzrfsytrn\n",
      "nrtysfrzrmzlyg \t\t\t\t gylzmrzrfsytrn\n",
      "nrtysfrzrmzlygf \t\t\t\t fgylzmrzrfsytrn\n",
      "nrtysfrzrmzlygfv \t\t\t\t vfgylzmrzrfsytrn\n",
      "r \t\t\t\t r\n",
      "Gaot\n",
      "rt \t\t\t\t tr\n",
      "rty \t\t\t\t ytr\n",
      "rtys \t\t\t\t sytr\n",
      "rtysf \t\t\t\t fsytr\n",
      "rtysfr \t\t\t\t rfsytr\n",
      "rtysfrz \t\t\t\t zrfsytr\n",
      "rtysfrzr \t\t\t\t rzrfsytr\n",
      "rtysfrzrm \t\t\t\t mrzrfsytr\n",
      "rtysfrzrmz \t\t\t\t zmrzrfsytr\n",
      "rtysfrzrmzl \t\t\t\t lzmrzrfsytr\n",
      "rtysfrzrmzly \t\t\t\t ylzmrzrfsytr\n",
      "rtysfrzrmzlyg \t\t\t\t gylzmrzrfsytr\n",
      "rtysfrzrmzlygf \t\t\t\t fgylzmrzrfsytr\n",
      "rtysfrzrmzlygfv \t\t\t\t vfgylzmrzrfsytr\n",
      "t \t\t\t\t t\n",
      "Gaot\n",
      "ty \t\t\t\t yt\n",
      "tys \t\t\t\t syt\n",
      "tysf \t\t\t\t fsyt\n",
      "tysfr \t\t\t\t rfsyt\n",
      "tysfrz \t\t\t\t zrfsyt\n",
      "tysfrzr \t\t\t\t rzrfsyt\n",
      "tysfrzrm \t\t\t\t mrzrfsyt\n",
      "tysfrzrmz \t\t\t\t zmrzrfsyt\n",
      "tysfrzrmzl \t\t\t\t lzmrzrfsyt\n",
      "tysfrzrmzly \t\t\t\t ylzmrzrfsyt\n",
      "tysfrzrmzlyg \t\t\t\t gylzmrzrfsyt\n",
      "tysfrzrmzlygf \t\t\t\t fgylzmrzrfsyt\n",
      "tysfrzrmzlygfv \t\t\t\t vfgylzmrzrfsyt\n",
      "y \t\t\t\t y\n",
      "Gaot\n",
      "ys \t\t\t\t sy\n",
      "ysf \t\t\t\t fsy\n",
      "ysfr \t\t\t\t rfsy\n",
      "ysfrz \t\t\t\t zrfsy\n",
      "ysfrzr \t\t\t\t rzrfsy\n",
      "ysfrzrm \t\t\t\t mrzrfsy\n",
      "ysfrzrmz \t\t\t\t zmrzrfsy\n",
      "ysfrzrmzl \t\t\t\t lzmrzrfsy\n",
      "ysfrzrmzly \t\t\t\t ylzmrzrfsy\n",
      "ysfrzrmzlyg \t\t\t\t gylzmrzrfsy\n",
      "ysfrzrmzlygf \t\t\t\t fgylzmrzrfsy\n",
      "ysfrzrmzlygfv \t\t\t\t vfgylzmrzrfsy\n",
      "s \t\t\t\t s\n",
      "Gaot\n",
      "sf \t\t\t\t fs\n",
      "sfr \t\t\t\t rfs\n",
      "sfrz \t\t\t\t zrfs\n",
      "sfrzr \t\t\t\t rzrfs\n",
      "sfrzrm \t\t\t\t mrzrfs\n",
      "sfrzrmz \t\t\t\t zmrzrfs\n",
      "sfrzrmzl \t\t\t\t lzmrzrfs\n",
      "sfrzrmzly \t\t\t\t ylzmrzrfs\n",
      "sfrzrmzlyg \t\t\t\t gylzmrzrfs\n",
      "sfrzrmzlygf \t\t\t\t fgylzmrzrfs\n",
      "sfrzrmzlygfv \t\t\t\t vfgylzmrzrfs\n",
      "f \t\t\t\t f\n",
      "Gaot\n",
      "fr \t\t\t\t rf\n",
      "frz \t\t\t\t zrf\n",
      "frzr \t\t\t\t rzrf\n",
      "frzrm \t\t\t\t mrzrf\n",
      "frzrmz \t\t\t\t zmrzrf\n",
      "frzrmzl \t\t\t\t lzmrzrf\n",
      "frzrmzly \t\t\t\t ylzmrzrf\n",
      "frzrmzlyg \t\t\t\t gylzmrzrf\n",
      "frzrmzlygf \t\t\t\t fgylzmrzrf\n",
      "frzrmzlygfv \t\t\t\t vfgylzmrzrf\n",
      "r \t\t\t\t r\n",
      "Gaot\n",
      "rz \t\t\t\t zr\n",
      "rzr \t\t\t\t rzr\n",
      "Gaot\n",
      "10 rzr\n",
      "rzrm \t\t\t\t mrzr\n",
      "rzrmz \t\t\t\t zmrzr\n",
      "rzrmzl \t\t\t\t lzmrzr\n",
      "rzrmzly \t\t\t\t ylzmrzr\n",
      "rzrmzlyg \t\t\t\t gylzmrzr\n",
      "rzrmzlygf \t\t\t\t fgylzmrzr\n",
      "rzrmzlygfv \t\t\t\t vfgylzmrzr\n",
      "z \t\t\t\t z\n",
      "Gaot\n",
      "zr \t\t\t\t rz\n",
      "zrm \t\t\t\t mrz\n",
      "zrmz \t\t\t\t zmrz\n",
      "zrmzl \t\t\t\t lzmrz\n",
      "zrmzly \t\t\t\t ylzmrz\n",
      "zrmzlyg \t\t\t\t gylzmrz\n",
      "zrmzlygf \t\t\t\t fgylzmrz\n",
      "zrmzlygfv \t\t\t\t vfgylzmrz\n",
      "r \t\t\t\t r\n",
      "Gaot\n",
      "rm \t\t\t\t mr\n",
      "rmz \t\t\t\t zmr\n",
      "rmzl \t\t\t\t lzmr\n",
      "rmzly \t\t\t\t ylzmr\n",
      "rmzlyg \t\t\t\t gylzmr\n",
      "rmzlygf \t\t\t\t fgylzmr\n",
      "rmzlygfv \t\t\t\t vfgylzmr\n",
      "m \t\t\t\t m\n",
      "Gaot\n",
      "mz \t\t\t\t zm\n",
      "mzl \t\t\t\t lzm\n",
      "mzly \t\t\t\t ylzm\n",
      "mzlyg \t\t\t\t gylzm\n",
      "mzlygf \t\t\t\t fgylzm\n",
      "mzlygfv \t\t\t\t vfgylzm\n",
      "z \t\t\t\t z\n",
      "Gaot\n",
      "zl \t\t\t\t lz\n",
      "zly \t\t\t\t ylz\n",
      "zlyg \t\t\t\t gylz\n",
      "zlygf \t\t\t\t fgylz\n",
      "zlygfv \t\t\t\t vfgylz\n",
      "l \t\t\t\t l\n",
      "Gaot\n",
      "ly \t\t\t\t yl\n",
      "lyg \t\t\t\t gyl\n",
      "lygf \t\t\t\t fgyl\n",
      "lygfv \t\t\t\t vfgyl\n",
      "y \t\t\t\t y\n",
      "Gaot\n",
      "yg \t\t\t\t gy\n",
      "ygf \t\t\t\t fgy\n",
      "ygfv \t\t\t\t vfgy\n",
      "g \t\t\t\t g\n",
      "Gaot\n",
      "gf \t\t\t\t fg\n",
      "gfv \t\t\t\t vfg\n",
      "f \t\t\t\t f\n",
      "Gaot\n",
      "fv \t\t\t\t vf\n",
      "v \t\t\t\t v\n",
      "Gaot\n",
      "ressul rzr\n"
     ]
    }
   ],
   "source": [
    "S='vnrtysfrzrmzlygfv'\n",
    "lle=1\n",
    "re=1\n",
    "ressul=''\n",
    "for i in range(len(S)):\n",
    "    for j in range(i+1,len(S)+1):\n",
    "        #print(i,j)\n",
    "        #print(S[i:j],end='')\n",
    "    \n",
    "        print(S[i:j],'\\t\\t\\t\\t',S[j-1:i-1:-1])\n",
    "        if S[i:j]==S[j-1:i-1:-1]:\n",
    "            print('Gaot')#f'{s:>5}\n",
    "            re=j-1+1\n",
    "            \n",
    "            \n",
    "            if len(S[i:j])>len(ressul):\n",
    "                lle=S[i:j]\n",
    "                ressul=S[i:j]\n",
    "                print(re, ressul)\n",
    "if len(ressul)==1:\n",
    "    print( S[0])\n",
    "print('ressul',ressul)"
   ]
  },
  {
   "cell_type": "code",
   "execution_count": 169,
   "metadata": {
    "collapsed": true
   },
   "outputs": [
    {
     "name": "stdout",
     "output_type": "stream",
     "text": [
      "[[1, 1, 0, 0, 0, 0, 0, 0], [0, 1, 1, 0, 0, 0, 0, 0], [0, 0, 1, 1, 0, 0, 0, 0], [0, 0, 0, 1, 0, 0, 0, 0], [0, 0, 0, 0, 1, 1, 0, 0], [0, 0, 0, 0, 0, 1, 0, 0], [0, 0, 0, 0, 0, 0, 1, 1], [0, 0, 0, 0, 0, 0, 0, 1]]\n",
      "5 7\n",
      "4 6\n",
      "4 7\n",
      "3 5\n",
      "3 6\n",
      "3 6 ij\n",
      "3 7\n",
      "2 4\n",
      "2 5\n",
      "2 6\n",
      "2 7\n",
      "2 7 ij\n",
      "1 3\n",
      "1 3 ij\n",
      "1 4\n",
      "1 5\n",
      "1 6\n",
      "1 7\n",
      "0 2\n",
      "0 2 ij\n",
      "0 3\n",
      "0 3 ij\n",
      "0 4\n",
      "0 5\n",
      "0 6\n",
      "0 7\n",
      "[[1, 1, 1, 1, 0, 0, 0, 0], [0, 1, 1, 1, 0, 0, 0, 0], [0, 0, 1, 1, 0, 0, 0, 1], [0, 0, 0, 1, 0, 0, 1, 0], [0, 0, 0, 0, 1, 1, 0, 0], [0, 0, 0, 0, 0, 1, 0, 0], [0, 0, 0, 0, 0, 0, 1, 1], [0, 0, 0, 0, 0, 0, 0, 1]]\n",
      "7 2 ijij\n",
      "aabbaa\n"
     ]
    }
   ],
   "source": [
    "def longestPalin( s):\n",
    "    left=0\n",
    "    right=0\n",
    "    if len(s)<=2:\n",
    "        if s[:]==s[::-1]:\n",
    "            return s\n",
    "        return s[0]\n",
    "\n",
    "    n=len(s)\n",
    "    c=1\n",
    "    m=[[0 for i in range(len(s))] for i in range(len(s))]\n",
    "    for i in range(len(m)-1):\n",
    "        m[i][i]=1\n",
    "        if s[i]==s[i+1]:\n",
    "            m[i][i+1]=1\n",
    "            if c>0:\n",
    "                left=i\n",
    "                right=i+1\n",
    "                c-=1\n",
    "            \n",
    "    m[len(s)-1][len(s)-1]=1\n",
    "    print(m)\n",
    "\n",
    "    for i in range(n,-1,-1):\n",
    "        for j in range(i+2,n):\n",
    "            \n",
    "                print(i,j)\n",
    "                if s[i]==s[j] and m[i+1][j-1]==1:\n",
    "                    m[i][j]=1\n",
    "                    print(i,j,'ij')\n",
    "                    if j-i>=right-left:\n",
    "                        right=j\n",
    "                        left=i\n",
    "    \n",
    "    print(m)\n",
    "    print(right,left,'ijij')\n",
    "    print(s[left:right+1])\n",
    "longestPalin('aaaabbaa')"
   ]
  },
  {
   "cell_type": "code",
   "execution_count": 133,
   "metadata": {
    "collapsed": true
   },
   "outputs": [
    {
     "data": {
      "text/plain": [
       "[[0, 22, 23, 24, 25, 26, 27, 28],\n",
       " [0, 0, 16, 17, 18, 19, 20, 21],\n",
       " [0, 0, 0, 11, 12, 13, 14, 15],\n",
       " [0, 0, 0, 0, 7, 8, 9, 10],\n",
       " [0, 0, 0, 0, 0, 4, 5, 6],\n",
       " [0, 0, 0, 0, 0, 0, 2, 3],\n",
       " [0, 0, 0, 0, 0, 0, 0, 1],\n",
       " [0, 0, 0, 0, 0, 0, 0, 0]]"
      ]
     },
     "execution_count": 133,
     "metadata": {},
     "output_type": "execute_result"
    }
   ],
   "source": [
    "'''crazy idea.. no need to traverse diagonal'''\n",
    "n=8\n",
    "a=[[0]*n for i in range(n)]\n",
    "cnt=0\n",
    "for i in range(n-2,-1,-1):\n",
    "    for j in range(i+1,n):\n",
    "        cnt+=1\n",
    "        a[i][j]=cnt\n",
    "a"
   ]
  },
  {
   "cell_type": "markdown",
   "metadata": {},
   "source": [
    "#  Substring of a string.\n"
   ]
  },
  {
   "cell_type": "code",
   "execution_count": 103,
   "metadata": {},
   "outputs": [
    {
     "name": "stdout",
     "output_type": "stream",
     "text": [
      "a\n",
      "ab\n",
      "abc\n",
      "b\n",
      "bc\n",
      "c\n"
     ]
    }
   ],
   "source": [
    "'''MY substring'''\n",
    "from itertools import combinations_with_replacement\n",
    "str='abc'\n",
    "for i,j in combinations_with_replacement(range(len(str)),2):\n",
    "    #print(i,j)\n",
    "    print(str[i:j+1])\n",
    "    "
   ]
  },
  {
   "cell_type": "code",
   "execution_count": 91,
   "metadata": {},
   "outputs": [
    {
     "name": "stdout",
     "output_type": "stream",
     "text": [
      "('a', 'b')\n",
      "('a', 'c')\n",
      "('b', 'c')\n"
     ]
    }
   ],
   "source": [
    "from itertools import combinations\n",
    "str='abc'\n",
    "for i in combinations('abc',2):\n",
    "    print(i)"
   ]
  },
  {
   "cell_type": "code",
   "execution_count": 66,
   "metadata": {
    "scrolled": true
   },
   "outputs": [
    {
     "name": "stdout",
     "output_type": "stream",
     "text": [
      "M\n",
      "MI\n",
      "MIS\n",
      "MISS\n",
      "MISSI\n",
      "MISSIS\n",
      "MISSISS\n",
      "MISSISSI\n",
      "MISSISSIP\n",
      "MISSISSIPP\n",
      "MISSISSIPPI\n",
      "I\n",
      "IS\n",
      "ISS\n",
      "ISSI\n",
      "ISSIS\n",
      "ISSISS\n",
      "ISSISSI\n",
      "ISSISSIP\n",
      "ISSISSIPP\n",
      "ISSISSIPPI\n",
      "S\n",
      "SS\n",
      "SSI\n",
      "SSIS\n",
      "SSISS\n",
      "SSISSI\n",
      "SSISSIP\n",
      "SSISSIPP\n",
      "SSISSIPPI\n",
      "SI\n",
      "SIS\n",
      "SISS\n",
      "SISSI\n",
      "SISSIP\n",
      "SISSIPP\n",
      "SISSIPPI\n",
      "ISSIP\n",
      "ISSIPP\n",
      "ISSIPPI\n",
      "SSIP\n",
      "SSIPP\n",
      "SSIPPI\n",
      "SIP\n",
      "SIPP\n",
      "SIPPI\n",
      "IP\n",
      "IPP\n",
      "IPPI\n",
      "P\n",
      "PP\n",
      "PPI\n",
      "PI\n"
     ]
    }
   ],
   "source": [
    "from itertools import combinations_with_replacement\n",
    "\n",
    "s = 'MISSISSIPPI'\n",
    "lst = []\n",
    "\n",
    "for i,j in combinations_with_replacement(range(len(s)), 2):\n",
    "    if s[i:(j+1)] not in lst:\n",
    "        lst.append(s[i:(j+1)]) # save new combination into list\n",
    "        print(lst[-1]) # print new combination"
   ]
  },
  {
   "cell_type": "code",
   "execution_count": 84,
   "metadata": {
    "scrolled": false
   },
   "outputs": [
    {
     "name": "stdout",
     "output_type": "stream",
     "text": [
      "0 0 0\n",
      "0 0 1\n",
      "0 0 2\n",
      "0 0 3\n",
      "0 0 4\n",
      "0 1 1\n",
      "0 1 2\n",
      "0 1 3\n",
      "0 1 4\n",
      "0 2 2\n",
      "0 2 3\n",
      "0 2 4\n",
      "0 3 3\n",
      "0 3 4\n",
      "0 4 4\n",
      "1 1 1\n",
      "1 1 2\n",
      "1 1 3\n",
      "1 1 4\n",
      "1 2 2\n",
      "1 2 3\n",
      "1 2 4\n",
      "1 3 3\n",
      "1 3 4\n",
      "1 4 4\n",
      "2 2 2\n",
      "2 2 3\n",
      "2 2 4\n",
      "2 3 3\n",
      "2 3 4\n",
      "2 4 4\n",
      "3 3 3\n",
      "3 3 4\n",
      "3 4 4\n",
      "4 4 4\n"
     ]
    }
   ],
   "source": [
    "from itertools import combinations_with_replacement\n",
    "for i,j,k in combinations_with_replacement(range(5), 3):\n",
    "    print(i,j,k)"
   ]
  },
  {
   "cell_type": "markdown",
   "metadata": {},
   "source": [
    "# 55\tFind Longest Recurring Subsequence in String\n"
   ]
  },
  {
   "cell_type": "code",
   "execution_count": 62,
   "metadata": {},
   "outputs": [
    {
     "data": {
      "text/plain": [
       "[[0, 0, 0, 0, 0, 0],\n",
       " [0, 0, 0, 0, 0, 0],\n",
       " [0, 0, 0, 1, 1, 1],\n",
       " [0, 0, 1, 1, 2, 2],\n",
       " [0, 0, 1, 2, 2, 2],\n",
       " [0, 0, 1, 2, 2, 2]]"
      ]
     },
     "execution_count": 62,
     "metadata": {},
     "output_type": "execute_result"
    }
   ],
   "source": [
    "import numpy as np\n",
    "str='axxxy'\n",
    "str1=str\n",
    "nn=len(str)\n",
    "mm=[[0 for k in range(nn+1)] for l in range(nn+1)]  #mm=np.zeros([x+1,y+1])\n",
    "mm\n",
    "\n",
    "for i in range(1,len(mm)):\n",
    "    for j in range(1,len(mm)):\n",
    "        if str[i-1]==str1[j-1] and i!=j:\n",
    "            mm[i][j]=1+mm[i-1][j-1]\n",
    "    \n",
    "        else:\n",
    "            mm[i][j]=max(mm[i-1][j],mm[i][j-1])\n",
    "\n",
    "mm"
   ]
  },
  {
   "cell_type": "markdown",
   "metadata": {},
   "source": [
    "# 56\tPrint all Subsequences of a string.\n"
   ]
  },
  {
   "cell_type": "code",
   "execution_count": 171,
   "metadata": {
    "scrolled": true
   },
   "outputs": [
    {
     "name": "stdout",
     "output_type": "stream",
     "text": [
      "1 ['a']\n",
      "1 ['b']\n",
      "1 ['c']\n",
      "2 ['a', 'b']\n",
      "2 ['a', 'c']\n",
      "2 ['b', 'c']\n",
      "3 ['a', 'b', 'c']\n"
     ]
    }
   ],
   "source": [
    "'''MY N^2'''\n",
    "from itertools import combinations\n",
    "for i in range(1,len('abc')+1):\n",
    "    for j in combinations('abc',i):\n",
    "        print(i,list(j))"
   ]
  },
  {
   "cell_type": "code",
   "execution_count": 178,
   "metadata": {},
   "outputs": [
    {
     "name": "stdout",
     "output_type": "stream",
     "text": [
      "abc\n",
      "ab\n",
      "ac\n",
      "a\n",
      "bc\n",
      "b\n",
      "c\n",
      "\n"
     ]
    }
   ],
   "source": [
    "'''MY recurssive Programing'''\n",
    "str='abc'\n",
    "def ss(str,output):\n",
    "    if len(str)==0:\n",
    "        print(output)\n",
    "        return\n",
    "    \n",
    "    ss(str[1:],output+str[0])\n",
    "    \n",
    "    ss(str[1:],output)\n",
    "    \n",
    "output=''  \n",
    "ss(str,output)   "
   ]
  },
  {
   "cell_type": "code",
   "execution_count": 109,
   "metadata": {},
   "outputs": [
    {
     "data": {
      "text/plain": [
       "['a', 'ab', 'abc', 'ac', 'b', 'bc', 'c']"
      ]
     },
     "execution_count": 109,
     "metadata": {},
     "output_type": "execute_result"
    }
   ],
   "source": [
    "'''N^2'''\n",
    "from itertools import combinations\n",
    "s='Hello'\n",
    "def all_subsequences(s):\n",
    "    out = set()\n",
    "    for r in range(1, len(s) + 1):\n",
    "        for c in combinations(s, r):\n",
    "            out.add(''.join(c))\n",
    "    return sorted(out)\n",
    "all_subsequences('abc')"
   ]
  },
  {
   "cell_type": "code",
   "execution_count": 214,
   "metadata": {},
   "outputs": [
    {
     "name": "stdout",
     "output_type": "stream",
     "text": [
      "[[('a',), ('b',), ('c',)]]\n",
      "[[('a',), ('b',), ('c',)], [('a', 'b'), ('a', 'c'), ('b', 'c')]]\n",
      "[[('a',), ('b',), ('c',)], [('a', 'b'), ('a', 'c'), ('b', 'c')], [('a', 'b', 'c')]]\n",
      "a b c ab ac bc abc "
     ]
    }
   ],
   "source": [
    "'''2N'''\n",
    "import itertools\n",
    "\n",
    "def Sub_Sequences(STR):\n",
    "\tcombs = []\n",
    "\tfor l in range(1, len(STR)+1):\n",
    "\t\tcombs.append(list(itertools.combinations(STR, l)))\n",
    "\t\tprint(combs)\n",
    "\tfor c in combs:\n",
    "\t\tfor t in c:\n",
    "\t\t\tprint (''.join(t), end =' ')\n",
    "\n",
    "# Testing with driver code\n",
    "Sub_Sequences('abc')"
   ]
  },
  {
   "cell_type": "code",
   "execution_count": 175,
   "metadata": {},
   "outputs": [
    {
     "name": "stdout",
     "output_type": "stream",
     "text": [
      "[[('1', '1'), ('1', '2'), ('1', '2'), ('1', '2'), ('1', '2'), ('2', '2')]]\n"
     ]
    }
   ],
   "source": [
    "aa=[]\n",
    "aa.append(list(itertools.combinations('1122',2)))\n",
    "\n",
    "print(aa)"
   ]
  },
  {
   "cell_type": "markdown",
   "metadata": {},
   "source": [
    "# 57\tPrint all the permutations of the given string\n"
   ]
  },
  {
   "cell_type": "code",
   "execution_count": null,
   "metadata": {},
   "outputs": [],
   "source": [
    "def find_permutation(self, s):\n",
    "        # Code here\n",
    "        n=len(s)\n",
    "        re=[]\n",
    "        import itertools\n",
    "        for i in itertools.permutations(s,n):\n",
    "            re.append(''.join(i))\n",
    "        #print(re)\n",
    "        return sorted(re)"
   ]
  },
  {
   "cell_type": "code",
   "execution_count": 262,
   "metadata": {},
   "outputs": [
    {
     "name": "stdout",
     "output_type": "stream",
     "text": [
      "ABC ACB BAC BCA CAB CBA "
     ]
    }
   ],
   "source": [
    "'''MY'''\n",
    "import itertools\n",
    "for i,j,k in itertools.permutations('ABC',3):\n",
    "    print(i,j,k,sep='',end=' ')"
   ]
  },
  {
   "cell_type": "code",
   "execution_count": 236,
   "metadata": {},
   "outputs": [
    {
     "name": "stdout",
     "output_type": "stream",
     "text": [
      "[('A', 'B', 'C'), ('A', 'C', 'B'), ('B', 'A', 'C'), ('B', 'C', 'A'), ('C', 'A', 'B'), ('C', 'B', 'A')]\n",
      "['ABC', 'ACB', 'BAC', 'BCA', 'CAB', 'CBA']\n"
     ]
    }
   ],
   "source": [
    "nums = list(\"ABC\")\n",
    "permutations = list(itertools.permutations(nums))\n",
    "print(permutations)\n",
    "# Output: ['ABC', 'ACB', 'BAC', 'BCA', 'CAB', 'CBA']\n",
    "print([''.join(permutation) for permutation in permutations])"
   ]
  },
  {
   "cell_type": "code",
   "execution_count": 261,
   "metadata": {},
   "outputs": [
    {
     "name": "stdout",
     "output_type": "stream",
     "text": [
      "ABC ACB BAC BCA CAB CBA "
     ]
    }
   ],
   "source": [
    "import itertools\n",
    "S='ABC'\n",
    "y=''\n",
    "x=[]\n",
    "x.append(list(itertools.permutations(S,len(S))))\n",
    "x\n",
    "for i in range(len(k)):\n",
    "    for k in x:\n",
    "        y=''.join(k[i])\n",
    "        print(y ,end=' ')\n"
   ]
  },
  {
   "cell_type": "code",
   "execution_count": 284,
   "metadata": {},
   "outputs": [
    {
     "name": "stdout",
     "output_type": "stream",
     "text": [
      "abc\n",
      "acb\n",
      "bac\n",
      "bca\n",
      "cba\n",
      "cab\n"
     ]
    }
   ],
   "source": [
    "'''MY Dynamic'''\n",
    "import string\n",
    "def permu(a,l,r):\n",
    "    #print(a,l,r)\n",
    "    \n",
    "    if l==r:\n",
    "        print(toString(a))\n",
    "    else:\n",
    "        for i in range(l,r+1):\n",
    "            a[l],a[i]=a[i],a[l]\n",
    "            permu(a,l+1,r)\n",
    "            a[l],a[i]=a[i],a[l]\n",
    "a=list('abc')\n",
    "#print(a)\n",
    "permu(a,0,len(a)-1)\n",
    "    "
   ]
  },
  {
   "cell_type": "code",
   "execution_count": 226,
   "metadata": {},
   "outputs": [
    {
     "name": "stdout",
     "output_type": "stream",
     "text": [
      "ASD\n",
      "ADS\n",
      "SAD\n",
      "SDA\n",
      "DAS\n",
      "DSA\n"
     ]
    }
   ],
   "source": [
    "def perms(in_str, prefix=\"\"):\n",
    "    if not len(in_str) :\n",
    "        print(prefix)\n",
    "    else:        \n",
    "        for i in range(0, len(in_str)):\n",
    "            perms(in_str[:i] + in_str[i + 1:], prefix + in_str[i])\n",
    "\n",
    "perms('ASD')"
   ]
  },
  {
   "cell_type": "code",
   "execution_count": 228,
   "metadata": {},
   "outputs": [
    {
     "data": {
      "text/plain": [
       "{'ABC', 'ACB', 'BAC', 'BCA', 'CAB', 'CBA'}"
      ]
     },
     "execution_count": 228,
     "metadata": {},
     "output_type": "execute_result"
    }
   ],
   "source": [
    "def get_permutations(string):\n",
    "\n",
    "    # base case\n",
    "    if len(string) <= 1:\n",
    "        return set([string])\n",
    "\n",
    "    all_chars_except_last = string[:-1]\n",
    "    last_char = string[-1]\n",
    "\n",
    "    # recursive call: get all possible permutations for all chars except last\n",
    "    permutations_of_all_chars_except_last = get_permutations(all_chars_except_last)\n",
    "\n",
    "    # put the last char in all possible positions for each of the above permutations\n",
    "    permutations = set()\n",
    "    for permutation_of_all_chars_except_last in permutations_of_all_chars_except_last:\n",
    "        for position in range(len(all_chars_except_last) + 1):\n",
    "            permutation = permutation_of_all_chars_except_last[:position] + last_char + permutation_of_all_chars_except_last[position:]\n",
    "            permutations.add(permutation)\n",
    "\n",
    "    return permutations\n",
    "get_permutations('ABC')"
   ]
  },
  {
   "cell_type": "code",
   "execution_count": 232,
   "metadata": {},
   "outputs": [
    {
     "name": "stdout",
     "output_type": "stream",
     "text": [
      "abc\n",
      "acb\n",
      "bac\n",
      "bca\n",
      "cab\n",
      "cba\n"
     ]
    }
   ],
   "source": [
    "from typing import Iterator\n",
    "\n",
    "def permutations(string: str, prefix: str = '') -> Iterator[str]:\n",
    "    if len(string) == 0:\n",
    "        yield prefix\n",
    "    for i, character in enumerate(string):\n",
    "        yield from permutations(string[:i] + string[i + 1:], prefix + character)\n",
    "        \n",
    "for p in permutations('abc'):\n",
    "    print(p)"
   ]
  },
  {
   "cell_type": "code",
   "execution_count": 233,
   "metadata": {},
   "outputs": [
    {
     "name": "stdout",
     "output_type": "stream",
     "text": [
      "['abc', 'bac', 'bca', 'acb', 'cab', 'cba']\n"
     ]
    }
   ],
   "source": [
    "def permutations(s):\n",
    "    if len(s) == 1 or len(s) == 0:\n",
    "        return s\n",
    "    _permutations = []\n",
    "    for permutation in permutations(s[1:]):\n",
    "        for i in range(len(permutation) + 1):\n",
    "            _permutations.append(permutation[:i] + s[0] + permutation[i:])\n",
    "    return _permutations\n",
    "\n",
    "\n",
    "def main(s):\n",
    "    print(permutations(s))\n",
    "\n",
    "\n",
    "if __name__ == '__main__':\n",
    "    main('abc')"
   ]
  },
  {
   "cell_type": "code",
   "execution_count": 234,
   "metadata": {
    "collapsed": true
   },
   "outputs": [
    {
     "ename": "SyntaxError",
     "evalue": "invalid syntax (<ipython-input-234-9dcf44c210c8>, line 1)",
     "output_type": "error",
     "traceback": [
      "\u001b[1;36m  File \u001b[1;32m\"<ipython-input-234-9dcf44c210c8>\"\u001b[1;36m, line \u001b[1;32m1\u001b[0m\n\u001b[1;33m    https://www.techiedelight.com/find-all-permutations-string-python/\u001b[0m\n\u001b[1;37m           ^\u001b[0m\n\u001b[1;31mSyntaxError\u001b[0m\u001b[1;31m:\u001b[0m invalid syntax\n"
     ]
    }
   ],
   "source": [
    "https://www.techiedelight.com/find-all-permutations-string-python/"
   ]
  },
  {
   "cell_type": "markdown",
   "metadata": {},
   "source": [
    "# 58\tSplit the Binary string into two substring with equal 0’s and 1’s\n"
   ]
  },
  {
   "cell_type": "code",
   "execution_count": 290,
   "metadata": {},
   "outputs": [
    {
     "name": "stdout",
     "output_type": "stream",
     "text": [
      "4\n"
     ]
    }
   ],
   "source": [
    "str = '0100110101' \n",
    "cnt=0\n",
    "zer=0\n",
    "on=0\n",
    "for x in str:\n",
    "    if x=='0':\n",
    "        zer+=1\n",
    "    if x=='1':\n",
    "        on+=1\n",
    "    if zer==on:\n",
    "        cnt+=1\n",
    "        zer=0\n",
    "        on=0\n",
    "if cnt==0:\n",
    "    print(-1)\n",
    "else:\n",
    "    print(cnt)"
   ]
  },
  {
   "cell_type": "markdown",
   "metadata": {},
   "source": [
    "# 59\tWord Wrap Problem [VERY IMP].\n"
   ]
  },
  {
   "cell_type": "code",
   "execution_count": 305,
   "metadata": {},
   "outputs": [
    {
     "data": {
      "text/plain": [
       "[(1, 2, 3), (1, 3, 2), (2, 1, 3), (2, 3, 1), (3, 1, 2), (3, 2, 1)]"
      ]
     },
     "execution_count": 305,
     "metadata": {},
     "output_type": "execute_result"
    }
   ],
   "source": [
    "import itertools\n",
    "list(itertools.permutations([1, 2, 3]))"
   ]
  },
  {
   "cell_type": "code",
   "execution_count": 331,
   "metadata": {},
   "outputs": [
    {
     "name": "stdout",
     "output_type": "stream",
     "text": [
      "[(3, 2, 2, 5), (3, 2, 5, 2), (3, 2, 2, 5), (3, 2, 5, 2), (3, 5, 2, 2), (3, 5, 2, 2), (2, 3, 2, 5), (2, 3, 5, 2), (2, 2, 3, 5), (2, 2, 5, 3), (2, 5, 3, 2), (2, 5, 2, 3), (2, 3, 2, 5), (2, 3, 5, 2), (2, 2, 3, 5), (2, 2, 5, 3), (2, 5, 3, 2), (2, 5, 2, 3), (5, 3, 2, 2), (5, 3, 2, 2), (5, 2, 3, 2), (5, 2, 2, 3), (5, 2, 3, 2), (5, 2, 2, 3)]\n"
     ]
    }
   ],
   "source": [
    "from itertools import combinations\n",
    "y=[]\n",
    "def solveWordWrap(nums,k):\n",
    "    x= y.extend(list(itertools.permutations(nums)))\n",
    "    #print(x,end='')\n",
    "    print(y)\n",
    "    \n",
    "    \n",
    "\n",
    "nums=[3,2,2,5]\n",
    "k=6\n",
    "solveWordWrap(nums,k)"
   ]
  },
  {
   "cell_type": "markdown",
   "metadata": {},
   "source": [
    "# 60\tEDIT Distance [Very Imp]\n"
   ]
  },
  {
   "cell_type": "code",
   "execution_count": 1,
   "metadata": {},
   "outputs": [
    {
     "name": "stdout",
     "output_type": "stream",
     "text": [
      "[[0. 1. 2. 3. 4. 5.]\n",
      " [1. 0. 1. 2. 3. 4.]\n",
      " [2. 1. 0. 1. 2. 3.]\n",
      " [3. 2. 1. 0. 1. 2.]\n",
      " [4. 3. 2. 1. 1. 1.]]\n",
      "1\n"
     ]
    }
   ],
   "source": [
    "class Solution:\n",
    "    def editDistance(self, s, t):\n",
    "\n",
    "        import numpy as np\n",
    "        a=np.zeros([len(s)+1,len(t)+1])\n",
    "        #print(a)\n",
    "        for i in range(len(s)+1):\n",
    "            for j in range(len(t)+1):\n",
    "                if j==0:\n",
    "                    a[i][j]=i\n",
    "                if i==0:\n",
    "                    a[i][j]=j\n",
    "                    \n",
    "        for i in range(1,len(s)+1):\n",
    "            for j in range(1,len(t)+1):                \n",
    "                if s[i-1]==t[j-1]:\n",
    "                        a[i][j]=a[i-1][j-1]  # +1\n",
    "                else:\n",
    "                    a[i][j]=1+min(a[i-1][j-1],a[i][j-1],a[i-1][j])\n",
    "                                    #replace   #inset    #remove\n",
    "        print(a)\n",
    "        return int(a[len(s)][len(t)])\n",
    "\n",
    "if __name__ == '__main__':\n",
    "\t\ts, t = 'geek','geeak'\n",
    "\t\tob = Solution();\n",
    "\t\tans = ob.editDistance(s, t)\n",
    "\t\tprint(ans)"
   ]
  },
  {
   "cell_type": "code",
   "execution_count": 2,
   "metadata": {
    "scrolled": true
   },
   "outputs": [
    {
     "name": "stdout",
     "output_type": "stream",
     "text": [
      "[1, 2, 3, 6, 5, 4]\n",
      "break\n",
      "[1, 2, 3, 6, 4, 5]\n",
      "[1, 2, 3, 5, 6, 4]\n",
      "[1, 2, 3, 5, 4, 6]\n",
      "[1, 2, 3, 4, 6, 5]\n",
      "[1, 2, 3, 4, 5, 6]\n",
      "[1, 2, 6, 3, 5, 4]\n",
      "[1, 2, 6, 3, 4, 5]\n",
      "[1, 2, 6, 5, 3, 4]\n",
      "[1, 2, 6, 5, 4, 3]\n",
      "[1, 2, 6, 4, 3, 5]\n",
      "[1, 2, 6, 4, 5, 3]\n",
      "[1, 2, 5, 3, 6, 4]\n",
      "[1, 2, 5, 3, 4, 6]\n",
      "[1, 2, 5, 6, 3, 4]\n",
      "[1, 2, 5, 6, 4, 3]\n",
      "[1, 2, 5, 4, 3, 6]\n",
      "[1, 2, 5, 4, 6, 3]\n",
      "[1, 2, 4, 3, 6, 5]\n",
      "[1, 2, 4, 3, 5, 6]\n",
      "[1, 2, 4, 6, 3, 5]\n",
      "[1, 2, 4, 6, 5, 3]\n",
      "[1, 2, 4, 5, 3, 6]\n",
      "[1, 2, 4, 5, 6, 3]\n",
      "[1, 3, 2, 6, 5, 4]\n",
      "[1, 3, 2, 6, 4, 5]\n",
      "[1, 3, 2, 5, 6, 4]\n",
      "[1, 3, 2, 5, 4, 6]\n",
      "[1, 3, 2, 4, 6, 5]\n",
      "[1, 3, 2, 4, 5, 6]\n",
      "[1, 3, 6, 2, 5, 4]\n",
      "[1, 3, 6, 2, 4, 5]\n",
      "[1, 3, 6, 5, 2, 4]\n",
      "[1, 3, 6, 5, 4, 2]\n",
      "[1, 3, 6, 4, 2, 5]\n",
      "[1, 3, 6, 4, 5, 2]\n",
      "[1, 3, 5, 2, 6, 4]\n",
      "[1, 3, 5, 2, 4, 6]\n",
      "[1, 3, 5, 6, 2, 4]\n",
      "[1, 3, 5, 6, 4, 2]\n",
      "[1, 3, 5, 4, 2, 6]\n",
      "[1, 3, 5, 4, 6, 2]\n",
      "[1, 3, 4, 2, 6, 5]\n",
      "[1, 3, 4, 2, 5, 6]\n",
      "[1, 3, 4, 6, 2, 5]\n",
      "[1, 3, 4, 6, 5, 2]\n",
      "[1, 3, 4, 5, 2, 6]\n",
      "[1, 3, 4, 5, 6, 2]\n",
      "[1, 6, 2, 3, 5, 4]\n",
      "[1, 6, 2, 3, 4, 5]\n",
      "[1, 6, 2, 5, 3, 4]\n",
      "[1, 6, 2, 5, 4, 3]\n",
      "[1, 6, 2, 4, 3, 5]\n",
      "[1, 6, 2, 4, 5, 3]\n",
      "[1, 6, 3, 2, 5, 4]\n",
      "[1, 6, 3, 2, 4, 5]\n",
      "[1, 6, 3, 5, 2, 4]\n",
      "[1, 6, 3, 5, 4, 2]\n",
      "[1, 6, 3, 4, 2, 5]\n",
      "[1, 6, 3, 4, 5, 2]\n",
      "[1, 6, 5, 2, 3, 4]\n",
      "[1, 6, 5, 2, 4, 3]\n",
      "[1, 6, 5, 3, 2, 4]\n",
      "[1, 6, 5, 3, 4, 2]\n",
      "[1, 6, 5, 4, 2, 3]\n",
      "[1, 6, 5, 4, 3, 2]\n",
      "[1, 6, 4, 2, 3, 5]\n",
      "[1, 6, 4, 2, 5, 3]\n",
      "[1, 6, 4, 3, 2, 5]\n",
      "[1, 6, 4, 3, 5, 2]\n",
      "[1, 6, 4, 5, 2, 3]\n",
      "[1, 6, 4, 5, 3, 2]\n",
      "[1, 5, 2, 3, 6, 4]\n",
      "[1, 5, 2, 3, 4, 6]\n",
      "[1, 5, 2, 6, 3, 4]\n",
      "[1, 5, 2, 6, 4, 3]\n",
      "[1, 5, 2, 4, 3, 6]\n",
      "[1, 5, 2, 4, 6, 3]\n",
      "[1, 5, 3, 2, 6, 4]\n",
      "[1, 5, 3, 2, 4, 6]\n",
      "[1, 5, 3, 6, 2, 4]\n",
      "[1, 5, 3, 6, 4, 2]\n",
      "[1, 5, 3, 4, 2, 6]\n",
      "[1, 5, 3, 4, 6, 2]\n",
      "[1, 5, 6, 2, 3, 4]\n",
      "[1, 5, 6, 2, 4, 3]\n",
      "[1, 5, 6, 3, 2, 4]\n",
      "[1, 5, 6, 3, 4, 2]\n",
      "[1, 5, 6, 4, 2, 3]\n",
      "[1, 5, 6, 4, 3, 2]\n",
      "[1, 5, 4, 2, 3, 6]\n",
      "[1, 5, 4, 2, 6, 3]\n",
      "[1, 5, 4, 3, 2, 6]\n",
      "[1, 5, 4, 3, 6, 2]\n",
      "[1, 5, 4, 6, 2, 3]\n",
      "[1, 5, 4, 6, 3, 2]\n",
      "[1, 4, 2, 3, 6, 5]\n",
      "[1, 4, 2, 3, 5, 6]\n",
      "[1, 4, 2, 6, 3, 5]\n",
      "[1, 4, 2, 6, 5, 3]\n",
      "[1, 4, 2, 5, 3, 6]\n",
      "[1, 4, 2, 5, 6, 3]\n",
      "[1, 4, 3, 2, 6, 5]\n",
      "[1, 4, 3, 2, 5, 6]\n",
      "[1, 4, 3, 6, 2, 5]\n",
      "[1, 4, 3, 6, 5, 2]\n",
      "[1, 4, 3, 5, 2, 6]\n",
      "[1, 4, 3, 5, 6, 2]\n",
      "[1, 4, 6, 2, 3, 5]\n",
      "[1, 4, 6, 2, 5, 3]\n",
      "[1, 4, 6, 3, 2, 5]\n",
      "[1, 4, 6, 3, 5, 2]\n",
      "[1, 4, 6, 5, 2, 3]\n",
      "[1, 4, 6, 5, 3, 2]\n",
      "[1, 4, 5, 2, 3, 6]\n",
      "[1, 4, 5, 2, 6, 3]\n",
      "[1, 4, 5, 3, 2, 6]\n",
      "[1, 4, 5, 3, 6, 2]\n",
      "[1, 4, 5, 6, 2, 3]\n",
      "[1, 4, 5, 6, 3, 2]\n",
      "[2, 1, 3, 6, 5, 4]\n",
      "[2, 1, 3, 6, 4, 5]\n",
      "[2, 1, 3, 5, 6, 4]\n",
      "[2, 1, 3, 5, 4, 6]\n",
      "[2, 1, 3, 4, 6, 5]\n",
      "[2, 1, 3, 4, 5, 6]\n",
      "[2, 1, 6, 3, 5, 4]\n",
      "[2, 1, 6, 3, 4, 5]\n",
      "[2, 1, 6, 5, 3, 4]\n",
      "[2, 1, 6, 5, 4, 3]\n",
      "[2, 1, 6, 4, 3, 5]\n",
      "[2, 1, 6, 4, 5, 3]\n",
      "[2, 1, 5, 3, 6, 4]\n",
      "[2, 1, 5, 3, 4, 6]\n",
      "[2, 1, 5, 6, 3, 4]\n",
      "[2, 1, 5, 6, 4, 3]\n",
      "[2, 1, 5, 4, 3, 6]\n",
      "[2, 1, 5, 4, 6, 3]\n",
      "[2, 1, 4, 3, 6, 5]\n",
      "[2, 1, 4, 3, 5, 6]\n",
      "[2, 1, 4, 6, 3, 5]\n",
      "[2, 1, 4, 6, 5, 3]\n",
      "[2, 1, 4, 5, 3, 6]\n",
      "[2, 1, 4, 5, 6, 3]\n",
      "[2, 3, 1, 6, 5, 4]\n",
      "[2, 3, 1, 6, 4, 5]\n",
      "[2, 3, 1, 5, 6, 4]\n",
      "[2, 3, 1, 5, 4, 6]\n",
      "[2, 3, 1, 4, 6, 5]\n",
      "[2, 3, 1, 4, 5, 6]\n",
      "[2, 3, 6, 1, 5, 4]\n",
      "[2, 3, 6, 1, 4, 5]\n",
      "[2, 3, 6, 5, 1, 4]\n",
      "[2, 3, 6, 5, 4, 1]\n",
      "[2, 3, 6, 4, 1, 5]\n",
      "[2, 3, 6, 4, 5, 1]\n",
      "[2, 3, 5, 1, 6, 4]\n",
      "[2, 3, 5, 1, 4, 6]\n",
      "[2, 3, 5, 6, 1, 4]\n",
      "[2, 3, 5, 6, 4, 1]\n",
      "[2, 3, 5, 4, 1, 6]\n",
      "[2, 3, 5, 4, 6, 1]\n",
      "[2, 3, 4, 1, 6, 5]\n",
      "[2, 3, 4, 1, 5, 6]\n",
      "[2, 3, 4, 6, 1, 5]\n",
      "[2, 3, 4, 6, 5, 1]\n",
      "[2, 3, 4, 5, 1, 6]\n",
      "[2, 3, 4, 5, 6, 1]\n",
      "[2, 6, 1, 3, 5, 4]\n",
      "[2, 6, 1, 3, 4, 5]\n",
      "[2, 6, 1, 5, 3, 4]\n",
      "[2, 6, 1, 5, 4, 3]\n",
      "[2, 6, 1, 4, 3, 5]\n",
      "[2, 6, 1, 4, 5, 3]\n",
      "[2, 6, 3, 1, 5, 4]\n",
      "[2, 6, 3, 1, 4, 5]\n",
      "[2, 6, 3, 5, 1, 4]\n",
      "[2, 6, 3, 5, 4, 1]\n",
      "[2, 6, 3, 4, 1, 5]\n",
      "[2, 6, 3, 4, 5, 1]\n",
      "[2, 6, 5, 1, 3, 4]\n",
      "[2, 6, 5, 1, 4, 3]\n",
      "[2, 6, 5, 3, 1, 4]\n",
      "[2, 6, 5, 3, 4, 1]\n",
      "[2, 6, 5, 4, 1, 3]\n",
      "[2, 6, 5, 4, 3, 1]\n",
      "[2, 6, 4, 1, 3, 5]\n",
      "[2, 6, 4, 1, 5, 3]\n",
      "[2, 6, 4, 3, 1, 5]\n",
      "[2, 6, 4, 3, 5, 1]\n",
      "[2, 6, 4, 5, 1, 3]\n",
      "[2, 6, 4, 5, 3, 1]\n",
      "[2, 5, 1, 3, 6, 4]\n",
      "[2, 5, 1, 3, 4, 6]\n",
      "[2, 5, 1, 6, 3, 4]\n",
      "[2, 5, 1, 6, 4, 3]\n",
      "[2, 5, 1, 4, 3, 6]\n",
      "[2, 5, 1, 4, 6, 3]\n",
      "[2, 5, 3, 1, 6, 4]\n",
      "[2, 5, 3, 1, 4, 6]\n",
      "[2, 5, 3, 6, 1, 4]\n",
      "[2, 5, 3, 6, 4, 1]\n",
      "[2, 5, 3, 4, 1, 6]\n",
      "[2, 5, 3, 4, 6, 1]\n",
      "[2, 5, 6, 1, 3, 4]\n",
      "[2, 5, 6, 1, 4, 3]\n",
      "[2, 5, 6, 3, 1, 4]\n",
      "[2, 5, 6, 3, 4, 1]\n",
      "[2, 5, 6, 4, 1, 3]\n",
      "[2, 5, 6, 4, 3, 1]\n",
      "[2, 5, 4, 1, 3, 6]\n",
      "[2, 5, 4, 1, 6, 3]\n",
      "[2, 5, 4, 3, 1, 6]\n",
      "[2, 5, 4, 3, 6, 1]\n",
      "[2, 5, 4, 6, 1, 3]\n",
      "[2, 5, 4, 6, 3, 1]\n",
      "[2, 4, 1, 3, 6, 5]\n",
      "[2, 4, 1, 3, 5, 6]\n",
      "[2, 4, 1, 6, 3, 5]\n",
      "[2, 4, 1, 6, 5, 3]\n",
      "[2, 4, 1, 5, 3, 6]\n",
      "[2, 4, 1, 5, 6, 3]\n",
      "[2, 4, 3, 1, 6, 5]\n",
      "[2, 4, 3, 1, 5, 6]\n",
      "[2, 4, 3, 6, 1, 5]\n",
      "[2, 4, 3, 6, 5, 1]\n",
      "[2, 4, 3, 5, 1, 6]\n",
      "[2, 4, 3, 5, 6, 1]\n",
      "[2, 4, 6, 1, 3, 5]\n",
      "[2, 4, 6, 1, 5, 3]\n",
      "[2, 4, 6, 3, 1, 5]\n",
      "[2, 4, 6, 3, 5, 1]\n",
      "[2, 4, 6, 5, 1, 3]\n",
      "[2, 4, 6, 5, 3, 1]\n",
      "[2, 4, 5, 1, 3, 6]\n",
      "[2, 4, 5, 1, 6, 3]\n",
      "[2, 4, 5, 3, 1, 6]\n",
      "[2, 4, 5, 3, 6, 1]\n",
      "[2, 4, 5, 6, 1, 3]\n",
      "[2, 4, 5, 6, 3, 1]\n",
      "[3, 1, 2, 6, 5, 4]\n",
      "[3, 1, 2, 6, 4, 5]\n",
      "[3, 1, 2, 5, 6, 4]\n",
      "[3, 1, 2, 5, 4, 6]\n",
      "[3, 1, 2, 4, 6, 5]\n",
      "[3, 1, 2, 4, 5, 6]\n",
      "[3, 1, 6, 2, 5, 4]\n",
      "[3, 1, 6, 2, 4, 5]\n",
      "[3, 1, 6, 5, 2, 4]\n",
      "[3, 1, 6, 5, 4, 2]\n",
      "[3, 1, 6, 4, 2, 5]\n",
      "[3, 1, 6, 4, 5, 2]\n",
      "[3, 1, 5, 2, 6, 4]\n",
      "[3, 1, 5, 2, 4, 6]\n",
      "[3, 1, 5, 6, 2, 4]\n",
      "[3, 1, 5, 6, 4, 2]\n",
      "[3, 1, 5, 4, 2, 6]\n",
      "[3, 1, 5, 4, 6, 2]\n",
      "[3, 1, 4, 2, 6, 5]\n",
      "[3, 1, 4, 2, 5, 6]\n",
      "[3, 1, 4, 6, 2, 5]\n",
      "[3, 1, 4, 6, 5, 2]\n",
      "[3, 1, 4, 5, 2, 6]\n",
      "[3, 1, 4, 5, 6, 2]\n",
      "[3, 2, 1, 6, 5, 4]\n",
      "[3, 2, 1, 6, 4, 5]\n",
      "[3, 2, 1, 5, 6, 4]\n",
      "[3, 2, 1, 5, 4, 6]\n",
      "[3, 2, 1, 4, 6, 5]\n",
      "[3, 2, 1, 4, 5, 6]\n",
      "[3, 2, 6, 1, 5, 4]\n",
      "[3, 2, 6, 1, 4, 5]\n",
      "[3, 2, 6, 5, 1, 4]\n",
      "[3, 2, 6, 5, 4, 1]\n",
      "[3, 2, 6, 4, 1, 5]\n",
      "[3, 2, 6, 4, 5, 1]\n",
      "[3, 2, 5, 1, 6, 4]\n",
      "[3, 2, 5, 1, 4, 6]\n",
      "[3, 2, 5, 6, 1, 4]\n",
      "[3, 2, 5, 6, 4, 1]\n",
      "[3, 2, 5, 4, 1, 6]\n",
      "[3, 2, 5, 4, 6, 1]\n",
      "[3, 2, 4, 1, 6, 5]\n",
      "[3, 2, 4, 1, 5, 6]\n",
      "[3, 2, 4, 6, 1, 5]\n",
      "[3, 2, 4, 6, 5, 1]\n",
      "[3, 2, 4, 5, 1, 6]\n",
      "[3, 2, 4, 5, 6, 1]\n",
      "[3, 6, 1, 2, 5, 4]\n",
      "[3, 6, 1, 2, 4, 5]\n",
      "[3, 6, 1, 5, 2, 4]\n",
      "[3, 6, 1, 5, 4, 2]\n",
      "[3, 6, 1, 4, 2, 5]\n",
      "[3, 6, 1, 4, 5, 2]\n",
      "[3, 6, 2, 1, 5, 4]\n",
      "[3, 6, 2, 1, 4, 5]\n",
      "[3, 6, 2, 5, 1, 4]\n",
      "[3, 6, 2, 5, 4, 1]\n",
      "[3, 6, 2, 4, 1, 5]\n",
      "[3, 6, 2, 4, 5, 1]\n",
      "[3, 6, 5, 1, 2, 4]\n",
      "[3, 6, 5, 1, 4, 2]\n",
      "[3, 6, 5, 2, 1, 4]\n",
      "[3, 6, 5, 2, 4, 1]\n",
      "[3, 6, 5, 4, 1, 2]\n",
      "[3, 6, 5, 4, 2, 1]\n",
      "[3, 6, 4, 1, 2, 5]\n",
      "[3, 6, 4, 1, 5, 2]\n",
      "[3, 6, 4, 2, 1, 5]\n",
      "[3, 6, 4, 2, 5, 1]\n",
      "[3, 6, 4, 5, 1, 2]\n",
      "[3, 6, 4, 5, 2, 1]\n",
      "[3, 5, 1, 2, 6, 4]\n",
      "[3, 5, 1, 2, 4, 6]\n",
      "[3, 5, 1, 6, 2, 4]\n",
      "[3, 5, 1, 6, 4, 2]\n",
      "[3, 5, 1, 4, 2, 6]\n",
      "[3, 5, 1, 4, 6, 2]\n",
      "[3, 5, 2, 1, 6, 4]\n",
      "[3, 5, 2, 1, 4, 6]\n",
      "[3, 5, 2, 6, 1, 4]\n",
      "[3, 5, 2, 6, 4, 1]\n",
      "[3, 5, 2, 4, 1, 6]\n",
      "[3, 5, 2, 4, 6, 1]\n",
      "[3, 5, 6, 1, 2, 4]\n",
      "[3, 5, 6, 1, 4, 2]\n",
      "[3, 5, 6, 2, 1, 4]\n",
      "[3, 5, 6, 2, 4, 1]\n",
      "[3, 5, 6, 4, 1, 2]\n",
      "[3, 5, 6, 4, 2, 1]\n",
      "[3, 5, 4, 1, 2, 6]\n",
      "[3, 5, 4, 1, 6, 2]\n",
      "[3, 5, 4, 2, 1, 6]\n",
      "[3, 5, 4, 2, 6, 1]\n",
      "[3, 5, 4, 6, 1, 2]\n",
      "[3, 5, 4, 6, 2, 1]\n",
      "[3, 4, 1, 2, 6, 5]\n",
      "[3, 4, 1, 2, 5, 6]\n",
      "[3, 4, 1, 6, 2, 5]\n",
      "[3, 4, 1, 6, 5, 2]\n",
      "[3, 4, 1, 5, 2, 6]\n",
      "[3, 4, 1, 5, 6, 2]\n",
      "[3, 4, 2, 1, 6, 5]\n",
      "[3, 4, 2, 1, 5, 6]\n",
      "[3, 4, 2, 6, 1, 5]\n",
      "[3, 4, 2, 6, 5, 1]\n",
      "[3, 4, 2, 5, 1, 6]\n",
      "[3, 4, 2, 5, 6, 1]\n",
      "[3, 4, 6, 1, 2, 5]\n",
      "[3, 4, 6, 1, 5, 2]\n",
      "[3, 4, 6, 2, 1, 5]\n",
      "[3, 4, 6, 2, 5, 1]\n",
      "[3, 4, 6, 5, 1, 2]\n",
      "[3, 4, 6, 5, 2, 1]\n",
      "[3, 4, 5, 1, 2, 6]\n",
      "[3, 4, 5, 1, 6, 2]\n",
      "[3, 4, 5, 2, 1, 6]\n",
      "[3, 4, 5, 2, 6, 1]\n",
      "[3, 4, 5, 6, 1, 2]\n",
      "[3, 4, 5, 6, 2, 1]\n",
      "[6, 1, 2, 3, 5, 4]\n",
      "[6, 1, 2, 3, 4, 5]\n",
      "[6, 1, 2, 5, 3, 4]\n",
      "[6, 1, 2, 5, 4, 3]\n",
      "[6, 1, 2, 4, 3, 5]\n",
      "[6, 1, 2, 4, 5, 3]\n",
      "[6, 1, 3, 2, 5, 4]\n",
      "[6, 1, 3, 2, 4, 5]\n",
      "[6, 1, 3, 5, 2, 4]\n",
      "[6, 1, 3, 5, 4, 2]\n",
      "[6, 1, 3, 4, 2, 5]\n",
      "[6, 1, 3, 4, 5, 2]\n",
      "[6, 1, 5, 2, 3, 4]\n",
      "[6, 1, 5, 2, 4, 3]\n",
      "[6, 1, 5, 3, 2, 4]\n",
      "[6, 1, 5, 3, 4, 2]\n",
      "[6, 1, 5, 4, 2, 3]\n",
      "[6, 1, 5, 4, 3, 2]\n",
      "[6, 1, 4, 2, 3, 5]\n",
      "[6, 1, 4, 2, 5, 3]\n",
      "[6, 1, 4, 3, 2, 5]\n",
      "[6, 1, 4, 3, 5, 2]\n",
      "[6, 1, 4, 5, 2, 3]\n",
      "[6, 1, 4, 5, 3, 2]\n",
      "[6, 2, 1, 3, 5, 4]\n",
      "[6, 2, 1, 3, 4, 5]\n",
      "[6, 2, 1, 5, 3, 4]\n",
      "[6, 2, 1, 5, 4, 3]\n",
      "[6, 2, 1, 4, 3, 5]\n",
      "[6, 2, 1, 4, 5, 3]\n",
      "[6, 2, 3, 1, 5, 4]\n",
      "[6, 2, 3, 1, 4, 5]\n",
      "[6, 2, 3, 5, 1, 4]\n",
      "[6, 2, 3, 5, 4, 1]\n",
      "[6, 2, 3, 4, 1, 5]\n",
      "[6, 2, 3, 4, 5, 1]\n",
      "[6, 2, 5, 1, 3, 4]\n",
      "[6, 2, 5, 1, 4, 3]\n",
      "[6, 2, 5, 3, 1, 4]\n",
      "[6, 2, 5, 3, 4, 1]\n",
      "[6, 2, 5, 4, 1, 3]\n",
      "[6, 2, 5, 4, 3, 1]\n",
      "[6, 2, 4, 1, 3, 5]\n",
      "[6, 2, 4, 1, 5, 3]\n",
      "[6, 2, 4, 3, 1, 5]\n",
      "[6, 2, 4, 3, 5, 1]\n",
      "[6, 2, 4, 5, 1, 3]\n",
      "[6, 2, 4, 5, 3, 1]\n",
      "[6, 3, 1, 2, 5, 4]\n",
      "[6, 3, 1, 2, 4, 5]\n",
      "[6, 3, 1, 5, 2, 4]\n",
      "[6, 3, 1, 5, 4, 2]\n",
      "[6, 3, 1, 4, 2, 5]\n",
      "[6, 3, 1, 4, 5, 2]\n",
      "[6, 3, 2, 1, 5, 4]\n",
      "[6, 3, 2, 1, 4, 5]\n",
      "[6, 3, 2, 5, 1, 4]\n",
      "[6, 3, 2, 5, 4, 1]\n",
      "[6, 3, 2, 4, 1, 5]\n",
      "[6, 3, 2, 4, 5, 1]\n",
      "[6, 3, 5, 1, 2, 4]\n",
      "[6, 3, 5, 1, 4, 2]\n",
      "[6, 3, 5, 2, 1, 4]\n",
      "[6, 3, 5, 2, 4, 1]\n",
      "[6, 3, 5, 4, 1, 2]\n",
      "[6, 3, 5, 4, 2, 1]\n",
      "[6, 3, 4, 1, 2, 5]\n",
      "[6, 3, 4, 1, 5, 2]\n",
      "[6, 3, 4, 2, 1, 5]\n",
      "[6, 3, 4, 2, 5, 1]\n",
      "[6, 3, 4, 5, 1, 2]\n",
      "[6, 3, 4, 5, 2, 1]\n",
      "[6, 5, 1, 2, 3, 4]\n",
      "[6, 5, 1, 2, 4, 3]\n",
      "[6, 5, 1, 3, 2, 4]\n",
      "[6, 5, 1, 3, 4, 2]\n",
      "[6, 5, 1, 4, 2, 3]\n",
      "[6, 5, 1, 4, 3, 2]\n",
      "[6, 5, 2, 1, 3, 4]\n",
      "[6, 5, 2, 1, 4, 3]\n",
      "[6, 5, 2, 3, 1, 4]\n",
      "[6, 5, 2, 3, 4, 1]\n",
      "[6, 5, 2, 4, 1, 3]\n",
      "[6, 5, 2, 4, 3, 1]\n",
      "[6, 5, 3, 1, 2, 4]\n",
      "[6, 5, 3, 1, 4, 2]\n",
      "[6, 5, 3, 2, 1, 4]\n",
      "[6, 5, 3, 2, 4, 1]\n",
      "[6, 5, 3, 4, 1, 2]\n",
      "[6, 5, 3, 4, 2, 1]\n",
      "[6, 5, 4, 1, 2, 3]\n",
      "[6, 5, 4, 1, 3, 2]\n",
      "[6, 5, 4, 2, 1, 3]\n",
      "[6, 5, 4, 2, 3, 1]\n",
      "[6, 5, 4, 3, 1, 2]\n",
      "[6, 5, 4, 3, 2, 1]\n",
      "[6, 4, 1, 2, 3, 5]\n",
      "[6, 4, 1, 2, 5, 3]\n",
      "[6, 4, 1, 3, 2, 5]\n",
      "[6, 4, 1, 3, 5, 2]\n",
      "[6, 4, 1, 5, 2, 3]\n",
      "[6, 4, 1, 5, 3, 2]\n",
      "[6, 4, 2, 1, 3, 5]\n",
      "[6, 4, 2, 1, 5, 3]\n",
      "[6, 4, 2, 3, 1, 5]\n",
      "[6, 4, 2, 3, 5, 1]\n",
      "[6, 4, 2, 5, 1, 3]\n",
      "[6, 4, 2, 5, 3, 1]\n",
      "[6, 4, 3, 1, 2, 5]\n",
      "[6, 4, 3, 1, 5, 2]\n",
      "[6, 4, 3, 2, 1, 5]\n",
      "[6, 4, 3, 2, 5, 1]\n",
      "[6, 4, 3, 5, 1, 2]\n",
      "[6, 4, 3, 5, 2, 1]\n",
      "[6, 4, 5, 1, 2, 3]\n",
      "[6, 4, 5, 1, 3, 2]\n",
      "[6, 4, 5, 2, 1, 3]\n",
      "[6, 4, 5, 2, 3, 1]\n",
      "[6, 4, 5, 3, 1, 2]\n",
      "[6, 4, 5, 3, 2, 1]\n",
      "[5, 1, 2, 3, 6, 4]\n",
      "[5, 1, 2, 3, 4, 6]\n",
      "[5, 1, 2, 6, 3, 4]\n",
      "[5, 1, 2, 6, 4, 3]\n",
      "[5, 1, 2, 4, 3, 6]\n",
      "[5, 1, 2, 4, 6, 3]\n",
      "[5, 1, 3, 2, 6, 4]\n",
      "[5, 1, 3, 2, 4, 6]\n",
      "[5, 1, 3, 6, 2, 4]\n",
      "[5, 1, 3, 6, 4, 2]\n",
      "[5, 1, 3, 4, 2, 6]\n",
      "[5, 1, 3, 4, 6, 2]\n",
      "[5, 1, 6, 2, 3, 4]\n",
      "[5, 1, 6, 2, 4, 3]\n",
      "[5, 1, 6, 3, 2, 4]\n",
      "[5, 1, 6, 3, 4, 2]\n",
      "[5, 1, 6, 4, 2, 3]\n",
      "[5, 1, 6, 4, 3, 2]\n",
      "[5, 1, 4, 2, 3, 6]\n",
      "[5, 1, 4, 2, 6, 3]\n",
      "[5, 1, 4, 3, 2, 6]\n",
      "[5, 1, 4, 3, 6, 2]\n",
      "[5, 1, 4, 6, 2, 3]\n",
      "[5, 1, 4, 6, 3, 2]\n",
      "[5, 2, 1, 3, 6, 4]\n",
      "[5, 2, 1, 3, 4, 6]\n",
      "[5, 2, 1, 6, 3, 4]\n",
      "[5, 2, 1, 6, 4, 3]\n",
      "[5, 2, 1, 4, 3, 6]\n",
      "[5, 2, 1, 4, 6, 3]\n",
      "[5, 2, 3, 1, 6, 4]\n",
      "[5, 2, 3, 1, 4, 6]\n",
      "[5, 2, 3, 6, 1, 4]\n",
      "[5, 2, 3, 6, 4, 1]\n",
      "[5, 2, 3, 4, 1, 6]\n",
      "[5, 2, 3, 4, 6, 1]\n",
      "[5, 2, 6, 1, 3, 4]\n",
      "[5, 2, 6, 1, 4, 3]\n",
      "[5, 2, 6, 3, 1, 4]\n",
      "[5, 2, 6, 3, 4, 1]\n",
      "[5, 2, 6, 4, 1, 3]\n",
      "[5, 2, 6, 4, 3, 1]\n",
      "[5, 2, 4, 1, 3, 6]\n",
      "[5, 2, 4, 1, 6, 3]\n",
      "[5, 2, 4, 3, 1, 6]\n",
      "[5, 2, 4, 3, 6, 1]\n",
      "[5, 2, 4, 6, 1, 3]\n",
      "[5, 2, 4, 6, 3, 1]\n",
      "[5, 3, 1, 2, 6, 4]\n",
      "[5, 3, 1, 2, 4, 6]\n",
      "[5, 3, 1, 6, 2, 4]\n",
      "[5, 3, 1, 6, 4, 2]\n",
      "[5, 3, 1, 4, 2, 6]\n",
      "[5, 3, 1, 4, 6, 2]\n",
      "[5, 3, 2, 1, 6, 4]\n",
      "[5, 3, 2, 1, 4, 6]\n",
      "[5, 3, 2, 6, 1, 4]\n",
      "[5, 3, 2, 6, 4, 1]\n",
      "[5, 3, 2, 4, 1, 6]\n",
      "[5, 3, 2, 4, 6, 1]\n",
      "[5, 3, 6, 1, 2, 4]\n",
      "[5, 3, 6, 1, 4, 2]\n",
      "[5, 3, 6, 2, 1, 4]\n",
      "[5, 3, 6, 2, 4, 1]\n",
      "[5, 3, 6, 4, 1, 2]\n",
      "[5, 3, 6, 4, 2, 1]\n",
      "[5, 3, 4, 1, 2, 6]\n",
      "[5, 3, 4, 1, 6, 2]\n",
      "[5, 3, 4, 2, 1, 6]\n",
      "[5, 3, 4, 2, 6, 1]\n",
      "[5, 3, 4, 6, 1, 2]\n",
      "[5, 3, 4, 6, 2, 1]\n",
      "[5, 6, 1, 2, 3, 4]\n",
      "[5, 6, 1, 2, 4, 3]\n",
      "[5, 6, 1, 3, 2, 4]\n",
      "[5, 6, 1, 3, 4, 2]\n",
      "[5, 6, 1, 4, 2, 3]\n",
      "[5, 6, 1, 4, 3, 2]\n",
      "[5, 6, 2, 1, 3, 4]\n",
      "[5, 6, 2, 1, 4, 3]\n",
      "[5, 6, 2, 3, 1, 4]\n",
      "[5, 6, 2, 3, 4, 1]\n",
      "[5, 6, 2, 4, 1, 3]\n",
      "[5, 6, 2, 4, 3, 1]\n",
      "[5, 6, 3, 1, 2, 4]\n",
      "[5, 6, 3, 1, 4, 2]\n",
      "[5, 6, 3, 2, 1, 4]\n",
      "[5, 6, 3, 2, 4, 1]\n",
      "[5, 6, 3, 4, 1, 2]\n",
      "[5, 6, 3, 4, 2, 1]\n",
      "[5, 6, 4, 1, 2, 3]\n",
      "[5, 6, 4, 1, 3, 2]\n",
      "[5, 6, 4, 2, 1, 3]\n",
      "[5, 6, 4, 2, 3, 1]\n",
      "[5, 6, 4, 3, 1, 2]\n",
      "[5, 6, 4, 3, 2, 1]\n",
      "[5, 4, 1, 2, 3, 6]\n",
      "[5, 4, 1, 2, 6, 3]\n",
      "[5, 4, 1, 3, 2, 6]\n",
      "[5, 4, 1, 3, 6, 2]\n",
      "[5, 4, 1, 6, 2, 3]\n",
      "[5, 4, 1, 6, 3, 2]\n",
      "[5, 4, 2, 1, 3, 6]\n",
      "[5, 4, 2, 1, 6, 3]\n",
      "[5, 4, 2, 3, 1, 6]\n",
      "[5, 4, 2, 3, 6, 1]\n",
      "[5, 4, 2, 6, 1, 3]\n",
      "[5, 4, 2, 6, 3, 1]\n",
      "[5, 4, 3, 1, 2, 6]\n",
      "[5, 4, 3, 1, 6, 2]\n",
      "[5, 4, 3, 2, 1, 6]\n",
      "[5, 4, 3, 2, 6, 1]\n",
      "[5, 4, 3, 6, 1, 2]\n",
      "[5, 4, 3, 6, 2, 1]\n",
      "[5, 4, 6, 1, 2, 3]\n",
      "[5, 4, 6, 1, 3, 2]\n",
      "[5, 4, 6, 2, 1, 3]\n",
      "[5, 4, 6, 2, 3, 1]\n",
      "[5, 4, 6, 3, 1, 2]\n",
      "[5, 4, 6, 3, 2, 1]\n",
      "[4, 1, 2, 3, 6, 5]\n",
      "[4, 1, 2, 3, 5, 6]\n",
      "[4, 1, 2, 6, 3, 5]\n",
      "[4, 1, 2, 6, 5, 3]\n",
      "[4, 1, 2, 5, 3, 6]\n",
      "[4, 1, 2, 5, 6, 3]\n",
      "[4, 1, 3, 2, 6, 5]\n",
      "[4, 1, 3, 2, 5, 6]\n",
      "[4, 1, 3, 6, 2, 5]\n",
      "[4, 1, 3, 6, 5, 2]\n",
      "[4, 1, 3, 5, 2, 6]\n",
      "[4, 1, 3, 5, 6, 2]\n",
      "[4, 1, 6, 2, 3, 5]\n",
      "[4, 1, 6, 2, 5, 3]\n",
      "[4, 1, 6, 3, 2, 5]\n",
      "[4, 1, 6, 3, 5, 2]\n",
      "[4, 1, 6, 5, 2, 3]\n",
      "[4, 1, 6, 5, 3, 2]\n",
      "[4, 1, 5, 2, 3, 6]\n",
      "[4, 1, 5, 2, 6, 3]\n",
      "[4, 1, 5, 3, 2, 6]\n",
      "[4, 1, 5, 3, 6, 2]\n",
      "[4, 1, 5, 6, 2, 3]\n",
      "[4, 1, 5, 6, 3, 2]\n",
      "[4, 2, 1, 3, 6, 5]\n",
      "[4, 2, 1, 3, 5, 6]\n",
      "[4, 2, 1, 6, 3, 5]\n",
      "[4, 2, 1, 6, 5, 3]\n",
      "[4, 2, 1, 5, 3, 6]\n",
      "[4, 2, 1, 5, 6, 3]\n",
      "[4, 2, 3, 1, 6, 5]\n",
      "[4, 2, 3, 1, 5, 6]\n",
      "[4, 2, 3, 6, 1, 5]\n",
      "[4, 2, 3, 6, 5, 1]\n",
      "[4, 2, 3, 5, 1, 6]\n",
      "[4, 2, 3, 5, 6, 1]\n",
      "[4, 2, 6, 1, 3, 5]\n",
      "[4, 2, 6, 1, 5, 3]\n",
      "[4, 2, 6, 3, 1, 5]\n",
      "[4, 2, 6, 3, 5, 1]\n",
      "[4, 2, 6, 5, 1, 3]\n",
      "[4, 2, 6, 5, 3, 1]\n",
      "[4, 2, 5, 1, 3, 6]\n",
      "[4, 2, 5, 1, 6, 3]\n",
      "[4, 2, 5, 3, 1, 6]\n",
      "[4, 2, 5, 3, 6, 1]\n",
      "[4, 2, 5, 6, 1, 3]\n",
      "[4, 2, 5, 6, 3, 1]\n",
      "[4, 3, 1, 2, 6, 5]\n",
      "[4, 3, 1, 2, 5, 6]\n",
      "[4, 3, 1, 6, 2, 5]\n",
      "[4, 3, 1, 6, 5, 2]\n",
      "[4, 3, 1, 5, 2, 6]\n",
      "[4, 3, 1, 5, 6, 2]\n",
      "[4, 3, 2, 1, 6, 5]\n",
      "[4, 3, 2, 1, 5, 6]\n",
      "[4, 3, 2, 6, 1, 5]\n",
      "[4, 3, 2, 6, 5, 1]\n",
      "[4, 3, 2, 5, 1, 6]\n",
      "[4, 3, 2, 5, 6, 1]\n",
      "[4, 3, 6, 1, 2, 5]\n",
      "[4, 3, 6, 1, 5, 2]\n",
      "[4, 3, 6, 2, 1, 5]\n",
      "[4, 3, 6, 2, 5, 1]\n",
      "[4, 3, 6, 5, 1, 2]\n",
      "[4, 3, 6, 5, 2, 1]\n",
      "[4, 3, 5, 1, 2, 6]\n",
      "[4, 3, 5, 1, 6, 2]\n",
      "[4, 3, 5, 2, 1, 6]\n",
      "[4, 3, 5, 2, 6, 1]\n",
      "[4, 3, 5, 6, 1, 2]\n",
      "[4, 3, 5, 6, 2, 1]\n",
      "[4, 6, 1, 2, 3, 5]\n",
      "[4, 6, 1, 2, 5, 3]\n",
      "[4, 6, 1, 3, 2, 5]\n",
      "[4, 6, 1, 3, 5, 2]\n",
      "[4, 6, 1, 5, 2, 3]\n",
      "[4, 6, 1, 5, 3, 2]\n",
      "[4, 6, 2, 1, 3, 5]\n",
      "[4, 6, 2, 1, 5, 3]\n",
      "[4, 6, 2, 3, 1, 5]\n",
      "[4, 6, 2, 3, 5, 1]\n",
      "[4, 6, 2, 5, 1, 3]\n",
      "[4, 6, 2, 5, 3, 1]\n",
      "[4, 6, 3, 1, 2, 5]\n",
      "[4, 6, 3, 1, 5, 2]\n",
      "[4, 6, 3, 2, 1, 5]\n",
      "[4, 6, 3, 2, 5, 1]\n",
      "[4, 6, 3, 5, 1, 2]\n",
      "[4, 6, 3, 5, 2, 1]\n",
      "[4, 6, 5, 1, 2, 3]\n",
      "[4, 6, 5, 1, 3, 2]\n",
      "[4, 6, 5, 2, 1, 3]\n",
      "[4, 6, 5, 2, 3, 1]\n",
      "[4, 6, 5, 3, 1, 2]\n",
      "[4, 6, 5, 3, 2, 1]\n",
      "[4, 5, 1, 2, 3, 6]\n",
      "[4, 5, 1, 2, 6, 3]\n",
      "[4, 5, 1, 3, 2, 6]\n",
      "[4, 5, 1, 3, 6, 2]\n",
      "[4, 5, 1, 6, 2, 3]\n",
      "[4, 5, 1, 6, 3, 2]\n",
      "[4, 5, 2, 1, 3, 6]\n",
      "[4, 5, 2, 1, 6, 3]\n",
      "[4, 5, 2, 3, 1, 6]\n",
      "[4, 5, 2, 3, 6, 1]\n",
      "[4, 5, 2, 6, 1, 3]\n",
      "[4, 5, 2, 6, 3, 1]\n",
      "[4, 5, 3, 1, 2, 6]\n",
      "[4, 5, 3, 1, 6, 2]\n",
      "[4, 5, 3, 2, 1, 6]\n",
      "[4, 5, 3, 2, 6, 1]\n",
      "[4, 5, 3, 6, 1, 2]\n",
      "[4, 5, 3, 6, 2, 1]\n",
      "[4, 5, 6, 1, 2, 3]\n",
      "[4, 5, 6, 1, 3, 2]\n",
      "[4, 5, 6, 2, 1, 3]\n",
      "[4, 5, 6, 2, 3, 1]\n",
      "[4, 5, 6, 3, 1, 2]\n",
      "[4, 5, 6, 3, 2, 1]\n"
     ]
    }
   ],
   "source": [
    "a=[1, 2, 3, 6, 5, 4]\n",
    "n=len(a)\n",
    "from itertools import permutations\n",
    "for i in permutations(a,len(a)):\n",
    "    print(list(i))\n",
    "    if list(i)==a:\n",
    "        print('break')"
   ]
  },
  {
   "cell_type": "markdown",
   "metadata": {},
   "source": [
    "# 79\tFind the longest common subsequence between two strings.\n"
   ]
  },
  {
   "cell_type": "code",
   "execution_count": 181,
   "metadata": {
    "scrolled": true
   },
   "outputs": [
    {
     "name": "stdout",
     "output_type": "stream",
     "text": [
      "1 1 ij\n",
      "1 2 ij\n",
      "2 1 ij\n",
      "2 2 ij\n",
      "3 1 ij\n",
      "3 2 ij\n",
      "[[0, 0, 0], [0, 1, 1], [0, 1, 1], [0, 1, 2]]\n"
     ]
    },
    {
     "data": {
      "text/plain": [
       "2"
      ]
     },
     "execution_count": 181,
     "metadata": {},
     "output_type": "execute_result"
    }
   ],
   "source": [
    "'''can be imporved by removing only unique character in string'''\n",
    "x=3\n",
    "y=2\n",
    "s1='ABC'\n",
    "s2='AC'\n",
    "#print(x,y,s1,s2)\n",
    "import numpy as np\n",
    "mm=[[0 for k in range(y+1)] for l in range(x+1)] #mm=np.zeros([x+1,y+1])\n",
    "mm\n",
    "for i in range(1,len(mm)):\n",
    "    for j in range(1,len(mm[0])):\n",
    "        #mm[i][j]=1\n",
    "        #pass\n",
    "        #print(i,j,'ij')\n",
    "        if s1[i-1]==s2[j-1]:\n",
    "            mm[i][j]=1+mm[i-1][j-1]\n",
    "        else:\n",
    "            mm[i][j]=max(mm[i-1][j],mm[i][j-1])\n",
    "        \n",
    "print(mm)      \n",
    "mm[i][j]\n",
    "        "
   ]
  }
 ],
 "metadata": {
  "kernelspec": {
   "display_name": "Python 3",
   "language": "python",
   "name": "python3"
  },
  "language_info": {
   "codemirror_mode": {
    "name": "ipython",
    "version": 3
   },
   "file_extension": ".py",
   "mimetype": "text/x-python",
   "name": "python",
   "nbconvert_exporter": "python",
   "pygments_lexer": "ipython3",
   "version": "3.7.3"
  }
 },
 "nbformat": 4,
 "nbformat_minor": 2
}
