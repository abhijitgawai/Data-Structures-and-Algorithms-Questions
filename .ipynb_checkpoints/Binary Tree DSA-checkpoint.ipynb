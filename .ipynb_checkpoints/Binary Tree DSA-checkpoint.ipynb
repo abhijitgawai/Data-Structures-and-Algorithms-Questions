{
 "cells": [
  {
   "cell_type": "markdown",
   "metadata": {},
   "source": [
    "# BST Operations"
   ]
  },
  {
   "cell_type": "markdown",
   "metadata": {},
   "source": [
    "\n",
    "# Searching "
   ]
  },
  {
   "cell_type": "code",
   "execution_count": 22,
   "metadata": {},
   "outputs": [],
   "source": [
    "'''recurssive'''\n",
    "def find(root,key):\n",
    "    if root is None or root.val==key:\n",
    "        print(root.val)\n",
    "        return root\n",
    "    if root.val<key:\n",
    "        root=root.right\n",
    "        return find(root,key)\n",
    "    else:\n",
    "        root=root.left\n",
    "        return find(root,key)"
   ]
  },
  {
   "cell_type": "code",
   "execution_count": null,
   "metadata": {},
   "outputs": [],
   "source": [
    "'''iterative'''\n",
    "def find(self,root,new_data):\n",
    "    while(root is not None):\n",
    "        if root.key=new_data:\n",
    "            return root\n",
    "        if root.key<new_data:\n",
    "            root=root.right\n",
    "        if root.key>new_data:\n",
    "            root=root.left"
   ]
  },
  {
   "cell_type": "markdown",
   "metadata": {},
   "source": [
    "# BST ,Insert ,Inorder Traversal"
   ]
  },
  {
   "cell_type": "code",
   "execution_count": 5,
   "metadata": {},
   "outputs": [
    {
     "name": "stdout",
     "output_type": "stream",
     "text": [
      "20\n",
      "30\n",
      "40\n",
      "50\n",
      "60\n",
      "70\n",
      "80\n",
      "\n",
      "\n",
      "20\n",
      "30\n",
      "31\n",
      "40\n",
      "50\n",
      "60\n",
      "70\n",
      "80\n"
     ]
    }
   ],
   "source": [
    "class Node:\n",
    "\tdef __init__(self, key):\n",
    "\t\tself.left = None\n",
    "\t\tself.right = None\n",
    "\t\tself.val = key\n",
    "\n",
    "def insert(root, key):\n",
    "\tif root is None:\n",
    "\t\treturn Node(key)\n",
    "\telse:\n",
    "\t\tif root.val == key:\n",
    "\t\t\treturn root\n",
    "\t\telif root.val < key:\n",
    "\t\t\troot.right = insert(root.right, key)\n",
    "\t\telse:\n",
    "\t\t\troot.left = insert(root.left, key)\n",
    "\treturn root\n",
    "'''# same as above insert_2'''   \n",
    "def insert_2(root,new_):\n",
    "    if root==None:\n",
    "        return Node(new_)\n",
    "    if root.val<new_:\n",
    "        root.right=insert_2(root.right,new_)\n",
    "    if root.val>new_:\n",
    "        root.left=insert_2(root.left,new_)\n",
    "    return root\n",
    "'''insertion using Iteration\n",
    "def insertIntoBST(self, root: TreeNode, val: int) -> TreeNode:\n",
    "    if root is None:\n",
    "        return TreeNode(val)\n",
    "    curr=root\n",
    "    while True:\n",
    "        if curr.val<val:\n",
    "            if curr.right:\n",
    "                curr=curr.right\n",
    "            else:\n",
    "                curr.right=TreeNode(val)\n",
    "        elif curr.val>val:\n",
    "            if curr.left:\n",
    "                curr=curr.left\n",
    "            else:\n",
    "                curr.left=TreeNode(val)\n",
    "        else:\n",
    "            break\n",
    "    return root\n",
    "    \n",
    "#using stack\n",
    "def inorderTraversal(self, root: TreeNode) -> List[int]:\n",
    "    stack,res = [],[]\n",
    "    node = root\n",
    "    # why we need to judge the node or the stack at the same time?\n",
    "    # Because we will stop the first while loop when it reach the far-right leaf.\n",
    "    # However, the stack will be empty when the node reaches the root.\n",
    "    # And the node will be None when we reach the left leaf.\n",
    "    # To make sure the node reaches the far-right leaf, we need to check the node and stack\n",
    "    # in the first while loop.\n",
    "    while node or stack:\n",
    "        while node: # put all left nodes in the stack\n",
    "            stack.append(node)\n",
    "            node = node.left\n",
    "        node = stack.pop()\n",
    "        res.append(node.val)\n",
    "        # change the direction to the right direction after the left.children\n",
    "        # and parent are taken care of, which the inorder means.\n",
    "        node = node.right\n",
    "    return res\n",
    "'''\n",
    "def inorder(root):\n",
    "\tif root:\n",
    "\t\tinorder(root.left)\n",
    "\t\tprint(root.val)\n",
    "\t\tinorder(root.right)\n",
    "r = Node(50)\n",
    "r = insert(r, 30)\n",
    "r = insert(r, 20)\n",
    "r = insert(r, 40)\n",
    "r = insert(r, 70)\n",
    "r = insert(r, 60)\n",
    "r = insert(r, 80)\n",
    "inorder(r)\n",
    "print('\\n')\n",
    "r=insert_2(r,31)\n",
    "#r=insert_2(r,1)\n",
    "#insert_2(32)\n",
    "inorder(r)"
   ]
  },
  {
   "cell_type": "markdown",
   "metadata": {},
   "source": [
    "# BST MinValueNode"
   ]
  },
  {
   "cell_type": "code",
   "execution_count": 6,
   "metadata": {},
   "outputs": [
    {
     "name": "stdout",
     "output_type": "stream",
     "text": [
      "Inorder traversal of the given tree\n",
      "20\n",
      "30\n",
      "40\n",
      "50\n",
      "60\n",
      "70\n",
      "80\n"
     ]
    },
    {
     "data": {
      "text/plain": [
       "20"
      ]
     },
     "execution_count": 6,
     "metadata": {},
     "output_type": "execute_result"
    }
   ],
   "source": [
    "class Node:\n",
    "\n",
    "\t# Constructor to create a new node\n",
    "\tdef __init__(self, key):\n",
    "\t\tself.key = key\n",
    "\t\tself.left = None\n",
    "\t\tself.right = None\n",
    "\n",
    "def inorder(root):\n",
    "\tif root is not None:\n",
    "\t\tinorder(root.left)\n",
    "\t\tprint (root.key,)\n",
    "\t\tinorder(root.right)\n",
    "\n",
    "def insert(node, key):\n",
    "\n",
    "\tif node is None:\n",
    "\t\treturn Node(key)\n",
    "\n",
    "\tif key < node.key:\n",
    "\t\tnode.left = insert(node.left, key)\n",
    "\telse:\n",
    "\t\tnode.right = insert(node.right, key)\n",
    "\n",
    "\treturn node\n",
    "\n",
    "def minValueNode(node):\n",
    "    a=node\n",
    "    while(a.left):\n",
    "        a=a.left\n",
    "    return a\n",
    "\n",
    "def deleteNode(root, key):\n",
    "\n",
    "\tif root is None:\n",
    "\t\treturn root\n",
    "\n",
    "\tif key < root.key:\n",
    "\t\troot.left = deleteNode(root.left, key)\n",
    "\n",
    "\telif(key > root.key):\n",
    "\t\troot.right = deleteNode(root.right, key)\n",
    "\n",
    "\telse:\n",
    "\n",
    "\t\tif root.left is None:\n",
    "\t\t\ttemp = root.right\n",
    "\t\t\troot = None\n",
    "\t\t\treturn temp\n",
    "\n",
    "\t\telif root.right is None:\n",
    "\t\t\ttemp = root.left\n",
    "\t\t\troot = None\n",
    "\t\t\treturn temp\n",
    "\n",
    "\t\ttemp = minValueNode(root.right)\n",
    "\n",
    "\t\troot.key = temp.key\n",
    "\n",
    "\t\troot.right = deleteNode(root.right, temp.key)\n",
    "\n",
    "\treturn root\n",
    "def find(root,key):\n",
    "    if root is None or root.val==key:\n",
    "        print('find',root.val)\n",
    "        return root\n",
    "    if root.val<key:\n",
    "        root=root.right\n",
    "        find(root,key)\n",
    "    else:\n",
    "        root=root.left\n",
    "        find(root,key)\n",
    "\n",
    "\"\"\" Let us create following BST\n",
    "\t\t\t50\n",
    "\t\t/\t \\\n",
    "\t\t30\t 70\n",
    "\t\t/ \\ / \\\n",
    "\t20 40 60 80 \"\"\"\n",
    "root = None\n",
    "root = insert(root, 50)\n",
    "root = insert(root, 30)\n",
    "root = insert(root, 20)\n",
    "root = insert(root, 40)\n",
    "root = insert(root, 70)\n",
    "root = insert(root, 60)\n",
    "root = insert(root, 80)\n",
    "print (\"Inorder traversal of the given tree\")\n",
    "inorder(root)\n",
    "# print \"\\nDelete 20\"\n",
    "# root = deleteNode(root, 20)\n",
    "# print \"Inorder traversal of the modified tree\"\n",
    "# inorder(root)\n",
    "a=minValueNode(root)\n",
    "a.key\n",
    "# print \"\\nDelete 30\"\n",
    "# root = deleteNode(root, 30)\n",
    "# print \"Inorder traversal of the modified tree\"\n",
    "# inorder(root)\n",
    "\n",
    "# print \"\\nDelete 50\"\n",
    "# root = deleteNode(root, 50)\n",
    "# print \"Inorder traversal of the modified tree\"\n",
    "#inorder(root)"
   ]
  },
  {
   "cell_type": "markdown",
   "metadata": {},
   "source": [
    "# BST Delete"
   ]
  },
  {
   "cell_type": "code",
   "execution_count": 54,
   "metadata": {},
   "outputs": [
    {
     "name": "stdout",
     "output_type": "stream",
     "text": [
      "Inorder traversal of the given tree\n",
      "20\n",
      "30\n",
      "40\n",
      "50\n",
      "60\n",
      "70\n",
      "79\n",
      "80\n",
      "81\n",
      "\n",
      "DeleteNode_2(70)\n",
      "\n",
      "20\n",
      "30\n",
      "40\n",
      "50\n",
      "60\n",
      "79\n",
      "79\n",
      "80\n",
      "81\n"
     ]
    }
   ],
   "source": [
    "class Node:\n",
    "\n",
    "\tdef __init__(self, key):\n",
    "\t\tself.key = key\n",
    "\t\tself.left = None\n",
    "\t\tself.right = None\n",
    "\n",
    "def inorder(root):\n",
    "\tif root is not None:\n",
    "\t\tinorder(root.left)\n",
    "\t\tprint (root.key,)\n",
    "\t\tinorder(root.right)\n",
    "\n",
    "def insert(node, key):\n",
    "\tif node is None:\n",
    "\t\treturn Node(key)\n",
    "\tif key < node.key:\n",
    "\t\tnode.left = insert(node.left, key)\n",
    "\telse:\n",
    "\t\tnode.right = insert(node.right, key)\n",
    "\treturn node\n",
    "\n",
    "def minValueNode(node):\n",
    "\tcurrent = node\n",
    "    while(current.left is not None):\n",
    "\t\tcurrent = current.left\n",
    "    return current\n",
    "\n",
    "def deleteNode(root, key):\n",
    "\n",
    "\tif root is None:\n",
    "\t\treturn root\n",
    "\n",
    "\t# If the key to be deleted is smaller than the root's key then it lies in left subtree\n",
    "\tif key < root.key:\n",
    "\t\troot.left = deleteNode(root.left, key)\n",
    "\n",
    "\t# If the kye to be delete is greater than the root's key then it lies in right subtree\n",
    "\telif(key > root.key):\n",
    "\t\troot.right = deleteNode(root.right, key)\n",
    "\n",
    "\telse: #if root.key=key\n",
    "\n",
    "\t\t# Node with only one child or no child\n",
    "\t\tif root.left is None:\n",
    "\t\t\ttemp = root.right\n",
    "\t\t\troot = None\n",
    "\t\t\treturn temp    #we are returning deleted temp because of last statement root.right=deleteNode(root.right, temp.key)\n",
    "\n",
    "\t\telif root.right is None:\n",
    "\t\t\ttemp = root.left\n",
    "\t\t\troot = None\n",
    "\t\t\treturn temp\n",
    "\n",
    "\t\t# Node with two children: Get the inorder successor (smallest in the right subtree)\n",
    "\t\ttemp = minValueNode(root.right)\n",
    "\n",
    "\t\t# Copy the inorder successor's content to this node\n",
    "\t\troot.key = temp.key\n",
    "\n",
    "\t\t# Delete the inorder successor\n",
    "\t\troot.right = deleteNode(root.right, temp.key)\n",
    "\treturn root\n",
    "\n",
    "def find(root,key):\n",
    "    if root is None or root.key==key:\n",
    "        return root\n",
    "    if root.key<key:\n",
    "        root=root.right\n",
    "        return find(root,key)\n",
    "    else:\n",
    "        root=root.left\n",
    "        return find(root,key)\n",
    "\n",
    "'''MY ,Edge case not handled'''\n",
    "def deleteNode_2(root, key):    \n",
    "    #a=find(root,key)\n",
    "    d=find(root,key)\n",
    "      #below ways might be wrong\n",
    "#'''Alternate   to find for key to delete'''\n",
    "#     while(root):\n",
    "#         if root.right or root.left:\n",
    "#             if key<root.key:\n",
    "#                 root=root.left\n",
    "#             if key>root.key:\n",
    "#                 root=root.right  \n",
    "    #print(d.key)\n",
    "    \n",
    "    p=d   # d is to be deleted\n",
    "    \n",
    "    if d.right:\n",
    "        d=d.right\n",
    "        while(d.left):    #minValueNode can also be used to find\n",
    "            prev=d.left\n",
    "            d=d.left\n",
    "        prev.left=None\n",
    "    \n",
    "    p.key=prev.key\n",
    "    return root\n",
    "\n",
    "\"\"\" Let us create following BST\n",
    "\t\t\t50\n",
    "\t   \t/\t \\\n",
    "\t\t30\t 70\n",
    "\t\t/ \\  / \\\n",
    "\t  20 40 60 80\n",
    "             /\\\n",
    "            79 81\"\"\"\n",
    "\n",
    "root = None\n",
    "root = insert(root, 50)\n",
    "root = insert(root, 30)\n",
    "root = insert(root, 20)\n",
    "root = insert(root, 40)\n",
    "root = insert(root, 70)\n",
    "root = insert(root, 60)\n",
    "root = insert(root, 80)\n",
    "root = insert(root, 79)\n",
    "root = insert(root, 81)\n",
    "\n",
    "print (\"Inorder traversal of the given tree\")\n",
    "inorder(root)\n",
    "\n",
    "print (\"\\nDeleteNode_2(70)\\n\")\n",
    "root=deleteNode_2(root,70)\n",
    "inorder(root)"
   ]
  },
  {
   "cell_type": "code",
   "execution_count": null,
   "metadata": {},
   "outputs": [],
   "source": [
    "'''Iterative delete'''\n",
    "def deleteNode(root, key):\n",
    "     if root is None:\n",
    "        return root\n",
    "\n",
    "    # Recursive calls for ancestors of node to be deleted\n",
    "    if key < root.key:\n",
    "        root.left = deleteNode(root.left, key)\n",
    "        return root\n",
    "\n",
    "    elif(key > root.key):\n",
    "        root.right = deleteNode(root.right, key)\n",
    "        return root\n",
    "\n",
    "    # We reach here when root is the node to be deleted. If root node is a leaf node\n",
    "\n",
    "    if root.left is None and root.right is None:\n",
    "          return None\n",
    "\n",
    "    # If one of the children is empty\n",
    "\n",
    "    if root.left is None:\n",
    "        temp = root.right\n",
    "        root = None\n",
    "        return temp\n",
    "\n",
    "    elif root.right is None:\n",
    "        temp = root.left\n",
    "        root = None\n",
    "        return temp\n",
    "\n",
    "    # If both children exist\n",
    "    succParent = root   #to be deleted\n",
    "\n",
    "    # Find Successor\n",
    "    succ = root.right\n",
    "\n",
    "    while succ.left != None:\n",
    "        succParent = succ\n",
    "        succ = succ.left    #minNodeVal(succ.right)\n",
    "\n",
    "    # Delete successor.Since successor is always left child of its parent we can safely make successor's right right child as left of its parent. If there is no succ, then assign succ->right to succParent->right\n",
    "    if succParent != root:\n",
    "        succParent.left = succ.right\n",
    "    else:\n",
    "        succParent.right = succ.right\n",
    "\n",
    "    # Copy Successor Data to root\n",
    "\n",
    "    root.key = succ.key\n",
    "\n",
    "    return root"
   ]
  },
  {
   "cell_type": "markdown",
   "metadata": {},
   "source": [
    "# 166\tlevel order traversal / BFS\n"
   ]
  },
  {
   "cell_type": "code",
   "execution_count": 12,
   "metadata": {},
   "outputs": [
    {
     "name": "stdout",
     "output_type": "stream",
     "text": [
      "[50, 30, 70, 20, 40, 60, 80]\n"
     ]
    }
   ],
   "source": [
    "'''iterative'''\n",
    "def bsf_or_leverOrder(rr):\n",
    "    a=[]\n",
    "    q=[]\n",
    "    q.append(rr)\n",
    "    while(len(q)>0):\n",
    "        t=q.pop(0)\n",
    "        a.append(t.key)\n",
    "        if t.left is not None:\n",
    "            q.append(t.left)\n",
    "        if t.right is not None:\n",
    "            q.append(t.right)\n",
    "    print(a)\n",
    "        \n",
    "rr=root_\n",
    "bsf_or_leverOrder(rr)"
   ]
  },
  {
   "cell_type": "code",
   "execution_count": null,
   "metadata": {},
   "outputs": [],
   "source": [
    "'''recurssive'''\n",
    "def printLevelOrder(root):\n",
    "    h = height(root)\n",
    "    for i in range(1, h+1):\n",
    "        printCurrentLevel(root, i)\n",
    " \n",
    "def printCurrentLevel(root , level):\n",
    "    if root is None:\n",
    "        return\n",
    "    if level == 1:\n",
    "        print(root.data,end=\" \")\n",
    "    elif level > 1 :\n",
    "        printCurrentLevel(root.left , level-1)\n",
    "        printCurrentLevel(root.right , level-1)\n",
    " \n",
    "def height(node):\n",
    "    if node is None:\n",
    "        return 0\n",
    "    else :\n",
    "        lheight = height(node.left)\n",
    "        rheight = height(node.right)\n",
    " \n",
    "        if lheight > rheight :\n",
    "            return lheight+1\n",
    "        else:\n",
    "            return rheight+1"
   ]
  },
  {
   "cell_type": "code",
   "execution_count": null,
   "metadata": {},
   "outputs": [],
   "source": [
    "[[3],[9,20],[15,7],[x]]   #for this thype of output\n",
    "def BSF(self, root: TreeNode) -> List[List[int]]:\n",
    "    queue = []\n",
    "    output = []\n",
    "    if not root:\n",
    "        return root\n",
    "    queue.append(root)\n",
    "\n",
    "    while queue:\n",
    "        level = []\n",
    "\n",
    "        for _ in range(len(queue)):\n",
    "            node = queue.pop(0)\n",
    "            level.append(node.val)\n",
    "            if node.left:\n",
    "                queue.append(node.left)\n",
    "            if node.right:\n",
    "                queue.append(node.right)\n",
    "        output.append(level)  # insert(index,element)\n",
    "    return (output)"
   ]
  },
  {
   "cell_type": "markdown",
   "metadata": {},
   "source": [
    "# 167\tReverse Level Order traversal\n"
   ]
  },
  {
   "cell_type": "code",
   "execution_count": 18,
   "metadata": {},
   "outputs": [
    {
     "name": "stdout",
     "output_type": "stream",
     "text": [
      "[20, 40, 60, 80, 30, 70, 50]\n"
     ]
    }
   ],
   "source": [
    "'''MY'''\n",
    "rr=root_\n",
    "def reverseBsf_or_reverseLevelOrder(rr):\n",
    "    a=[]\n",
    "    q=[]\n",
    "    q.append(rr)\n",
    "    while(len(q)):\n",
    "        t=q.pop(0)\n",
    "        a.append(t.key)\n",
    "        if t.right:\n",
    "            q.append(t.right)\n",
    "        if t.left:\n",
    "            q.append(t.left)\n",
    "\n",
    "    print(a[::-1])    \n",
    "reverseBsf_or_reverseLevelOrder(rr)\n",
    "\n",
    "'''\n",
    "#geeksforgeeks\n",
    "def reverseLevelOrder(root): \n",
    "    q = deque()\n",
    "    q.append(root)\n",
    "    ans = deque()\n",
    "    while q:\n",
    "        node = q.popleft()          \n",
    "        if node is None:\n",
    "            continue         \n",
    "        ans.appendleft(node.data)         #same as mine, i just reversed ans[::-1]\n",
    "        if node.right:\n",
    "            q.append(node.right)             \n",
    "        if node.left:\n",
    "            q.append(node.left)             \n",
    "    return ans'''"
   ]
  },
  {
   "cell_type": "markdown",
   "metadata": {},
   "source": [
    "# 168\tHeight of a tree\n"
   ]
  },
  {
   "cell_type": "code",
   "execution_count": 38,
   "metadata": {},
   "outputs": [
    {
     "name": "stdout",
     "output_type": "stream",
     "text": [
      "rec 3\n",
      "iter 3\n"
     ]
    }
   ],
   "source": [
    "'''MY M1 recurssive'''\n",
    "def Heightttt(rr):\n",
    "    if (rr is None):\n",
    "        return 0\n",
    "    left_=Heightttt(rr.left)\n",
    "    right_=Heightttt(rr.right)\n",
    "        \n",
    "    return max(left_,right_)+1\n",
    "rr=root_\n",
    "print('rec',Heightttt(rr))\n",
    "rr=root_\n",
    "\n",
    "'''recersive 1 liner''' return 1 + max(self.maxDepth(root.left), self.maxDepth(root.right)) if root else 0\n",
    "# def maxDepth(self, root: TreeNode) -> int:\n",
    "#     if not root:\n",
    "#         return 0\n",
    "#     return max(self.maxDepth(root.left), self.maxDepth(root.right)) + 1\n",
    "\n",
    "'''MY M2 Iterative'''\n",
    "def Heightttt_iter(rr):\n",
    "    a=[]\n",
    "    q=[]\n",
    "    ans=0\n",
    "    q.append(rr)\n",
    "    while(q):\n",
    "        c=len(q)\n",
    "        while(c>0):\n",
    "            t=q.pop(0)\n",
    "            c-=1\n",
    "            if t.left is not None:\n",
    "                q.append(t.left)\n",
    "            if t.right is not None:\n",
    "                q.append(t.right)\n",
    "        ans+=1\n",
    "    print('iter',ans)\n",
    "Heightttt_iter(rr)"
   ]
  },
  {
   "cell_type": "code",
   "execution_count": 20,
   "metadata": {},
   "outputs": [
    {
     "name": "stdout",
     "output_type": "stream",
     "text": [
      "20\n",
      "30\n",
      "40\n",
      "50\n",
      "60\n",
      "70\n",
      "80\n"
     ]
    }
   ],
   "source": [
    "'''use this root for all operations'''\n",
    "inorder(root)\n",
    "root_=root"
   ]
  },
  {
   "cell_type": "code",
   "execution_count": 39,
   "metadata": {},
   "outputs": [
    {
     "name": "stdout",
     "output_type": "stream",
     "text": [
      "4\n"
     ]
    }
   ],
   "source": [
    "# Python3 program to find the diameter of a binary tree\n",
    "# A binary tree Node\n",
    "class Node:\n",
    "\n",
    "\t# Constructor to create a new Node\n",
    "\tdef __init__(self, data):\n",
    "\t\tself.data = data\n",
    "\t\tself.left = self.right = None\n",
    "\n",
    "# utility class to pass height object\n",
    "\n",
    "class Height:\n",
    "\tdef __init(self):\n",
    "\t\tself.h = 0\n",
    "\n",
    "# Optimised recursive function to find diameter\n",
    "# of binary tree\n",
    "\n",
    "\n",
    "def diameterOpt(root, height):\n",
    "\n",
    "\t# to store height of left and right subtree\n",
    "\tlh = Height()\n",
    "\trh = Height()\n",
    "\n",
    "\t# base condition- when binary tree is empty\n",
    "\tif root is None:\n",
    "\t\theight.h = 0\n",
    "\t\treturn 0\n",
    "\n",
    "\t\n",
    "\t# ldiameter --> diameter of left subtree\n",
    "\t# rdiamter --> diameter of right subtree\n",
    "\t\n",
    "\t# height of left subtree and right subtree is obtained from lh and rh\n",
    "\t# and returned value of function is stored in ldiameter and rdiameter\n",
    "\t\n",
    "\tldiameter = diameterOpt(root.left, lh)\n",
    "\trdiameter = diameterOpt(root.right, rh)\n",
    "\n",
    "\t# height of tree will be max of left subtree\n",
    "\t# height and right subtree height plus1\n",
    "\n",
    "\theight.h = max(lh.h, rh.h) + 1\n",
    "\n",
    "\t# return maximum of the following\n",
    "\t# 1)left diameter\n",
    "\t# 2)right diameter\n",
    "\t# 3)left height + right height + 1\n",
    "\treturn max(lh.h + rh.h + 1, max(ldiameter, rdiameter))\n",
    "\n",
    "# function to calculate diameter of binary tree\n",
    "def diameter(root):\n",
    "\theight = Height()\n",
    "\treturn diameterOpt(root, height)\n",
    "\n",
    "\n",
    "# Driver Code\n",
    "root = Node(1)\n",
    "root.left = Node(2)\n",
    "root.right = Node(3)\n",
    "root.left.left = Node(4)\n",
    "root.left.right = Node(5)\n",
    "\n",
    "\"\"\"\n",
    "Constructed binary tree is\n",
    "\t\t\t1\n",
    "\t\t/ \\\n",
    "\t\t2\t 3\n",
    "\t/ \\\n",
    "\t4\t 5\n",
    "\"\"\"\n",
    "\n",
    "# Function Call\n",
    "print(diameter(root))\n",
    "\n",
    "# This code is contributed by Shweta Singh(shweta44)\n"
   ]
  },
  {
   "cell_type": "code",
   "execution_count": 44,
   "metadata": {},
   "outputs": [
    {
     "name": "stdout",
     "output_type": "stream",
     "text": [
      "20\n",
      "30\n",
      "40\n",
      "50\n",
      "60\n",
      "70\n",
      "80\n"
     ]
    }
   ],
   "source": [
    "r=root_\n",
    "\n",
    "def _inorder(r):\n",
    "    if r is None:\n",
    "        return\n",
    "    _inorder(r.left)\n",
    "    print(r.key)\n",
    "    _inorder(r.right)\n",
    "_inorder(r)\n",
    "    "
   ]
  },
  {
   "cell_type": "code",
   "execution_count": 72,
   "metadata": {},
   "outputs": [
    {
     "name": "stdout",
     "output_type": "stream",
     "text": [
      "80\n",
      "70\n",
      "60\n",
      "50\n",
      "40\n",
      "30\n",
      "20\n",
      "[50, 70, 30, 80, 60, 40, 20]\n",
      "20\n",
      "30\n",
      "40\n",
      "50\n",
      "60\n",
      "70\n",
      "80\n",
      "\n",
      "\n"
     ]
    }
   ],
   "source": [
    "r=root_\n",
    "def mirror(r):\n",
    "    inorder(r) \n",
    "    a=[]\n",
    "    q=[]\n",
    "    q.append(r)\n",
    "    \n",
    "    while(len(q)>0):\n",
    "        t=q.pop(0)\n",
    "        t.right,t.left=t.left,t.right\n",
    "        a.append(t.key)\n",
    "        if t.right is not None:\n",
    "            q.append(t.right)\n",
    "            \n",
    "        if t.left is not None:\n",
    "            q.append(t.left)\n",
    "    print(a)  #bsf\n",
    "    inorder(r)   #inorder\n",
    "    print('\\n')\n",
    "    #inorder(New_bst)\n",
    "mirror(r) "
   ]
  },
  {
   "cell_type": "markdown",
   "metadata": {},
   "source": [
    "# 169\tDiameter of a tree\n"
   ]
  },
  {
   "cell_type": "code",
   "execution_count": null,
   "metadata": {},
   "outputs": [],
   "source": [
    "class Solution:\n",
    "    \n",
    "    def solve(self,root):\n",
    "        if not root:\n",
    "            return 0\n",
    "        \n",
    "        l=self.solve(root.left)\n",
    "        r=self.solve(root.right)\n",
    "        \n",
    "        temp=max(l,r)+1\n",
    "        ans=max(temp,l+r+1)\n",
    "        self.res=max(ans,self.res)\n",
    "        return temp\n",
    "        \n",
    "    def diameter(self,root):\n",
    "\n",
    "        if not root:\n",
    "            return 0\n",
    "        self.res=0\n",
    "        self.solve(root)\n",
    "        return self.res\n",
    "\n",
    "    \n",
    "'''This is also correct, but TLE'''    \n",
    "# def Height(self,r): \n",
    "#     if r is None:\n",
    "#         return 0\n",
    "#     lef=self.Height(r.left)\n",
    "#     rig=self.Height(r.right)\n",
    "#     return max(lef,rig)+1\n",
    "\n",
    "\n",
    "# def diameter(self,root):\n",
    "#     if root == None:\n",
    "#             return 0\n",
    "#     r=root\n",
    "#     rig=self.Height(r.right)\n",
    "#     lef=self.Height(r.left)\n",
    "#     op1=rig+lef+1\n",
    "#     op2=self.diameter(r.right)\n",
    "#     op3=self.diameter(r.left)\n",
    "#     return max(op1,op2,op3)"
   ]
  },
  {
   "cell_type": "markdown",
   "metadata": {},
   "source": [
    "# 171 INORDER RECURSIVE AND ITERATIVE"
   ]
  },
  {
   "cell_type": "code",
   "execution_count": 81,
   "metadata": {},
   "outputs": [
    {
     "name": "stdout",
     "output_type": "stream",
     "text": [
      "20\n",
      "30\n",
      "40\n",
      "50\n",
      "60\n",
      "70\n",
      "80\n"
     ]
    }
   ],
   "source": [
    "'''recursive inorder'''\n",
    "def recursive_inorder(r):\n",
    "    if r is None:\n",
    "        return\n",
    "    recursive_inorder(r.left)\n",
    "    print(r.key)\n",
    "    recursive_inorder(r.right)\n",
    "\n",
    "r=root_\n",
    "recursive_inorder(r)\n",
    "\n",
    "'''M2'''\n",
    "return  inorder(root.left) + [root.val] + inorder(root.right) if root else []"
   ]
  },
  {
   "cell_type": "code",
   "execution_count": 104,
   "metadata": {},
   "outputs": [
    {
     "name": "stdout",
     "output_type": "stream",
     "text": [
      "20\n",
      "30\n",
      "40\n",
      "50\n",
      "60\n",
      "70\n",
      "80\n"
     ]
    }
   ],
   "source": [
    "'''iterative inorder'''\n",
    "from collections import deque        \n",
    "def iterative_inorder_2(r):\n",
    "    x=deque()\n",
    "    t=r\n",
    "    while(x or t):\n",
    "        if t:\n",
    "            x.append(t)\n",
    "            t=t.left\n",
    "        else:\n",
    "            t=x.pop()\n",
    "            print(t.key)\n",
    "            t=t.right\n",
    "r=root_\n",
    "iterative_inorder_2(r)"
   ]
  },
  {
   "cell_type": "markdown",
   "metadata": {},
   "source": [
    "# 172\tPreorder Traversal of a tree both using recursion and Iteration\n"
   ]
  },
  {
   "cell_type": "code",
   "execution_count": 113,
   "metadata": {},
   "outputs": [
    {
     "name": "stdout",
     "output_type": "stream",
     "text": [
      "50\n",
      "30\n",
      "20\n",
      "40\n",
      "70\n",
      "60\n",
      "80\n"
     ]
    }
   ],
   "source": [
    "'''recursive Preorder'''      \n",
    "def recursive_preOrder(r):\n",
    "    if r is None:\n",
    "        return\n",
    "    print(r.key)\n",
    "    recursive_preOrder(r.left)\n",
    "    recursive_preOrder(r.right)\n",
    "r=root_\n",
    "recursive_preOrder(r)\n",
    "\n",
    "'''M2'''\n",
    "return [root.val] + preorder(root.left) + preorder(root.right) if root else []"
   ]
  },
  {
   "cell_type": "code",
   "execution_count": 126,
   "metadata": {},
   "outputs": [
    {
     "name": "stdout",
     "output_type": "stream",
     "text": [
      "50\n",
      "30\n",
      "20\n",
      "40\n",
      "70\n",
      "60\n",
      "80\n"
     ]
    }
   ],
   "source": [
    "'''iterative Preorder'''   \n",
    "def preOrder_iterative(r):\n",
    "    q=deque()\n",
    "    t=r\n",
    "    q.append(t)\n",
    "    while(q):\n",
    "            t=q.pop()\n",
    "            print(t.key)\n",
    "            if t.right:\n",
    "                q.append(t.right)\n",
    "            if t.left:\n",
    "                q.append(t.left)\n",
    "r=root_\n",
    "preOrder_iterative(r)"
   ]
  },
  {
   "cell_type": "code",
   "execution_count": 135,
   "metadata": {},
   "outputs": [
    {
     "name": "stdout",
     "output_type": "stream",
     "text": [
      "50\n",
      "30\n",
      "20\n",
      "40\n",
      "70\n",
      "60\n",
      "80\n"
     ]
    }
   ],
   "source": [
    "'''iterative Preorder optimised'''   \n",
    "def preOrder_iterative(r):\n",
    "    q=deque()\n",
    "    q.append(r)\n",
    "    t=r\n",
    "    while(q):\n",
    "            if t:\n",
    "                print(t.key)\n",
    "                if t.right:\n",
    "                    q.append(t.right)\n",
    "                t=t.left\n",
    "            else:\n",
    "                    t=q.pop()\n",
    "r=root_\n",
    "preOrder_iterative(r)"
   ]
  },
  {
   "cell_type": "markdown",
   "metadata": {},
   "source": [
    "# 173\tPostorder Traversal of a tree both using recursion and Iteration\n"
   ]
  },
  {
   "cell_type": "code",
   "execution_count": 137,
   "metadata": {},
   "outputs": [
    {
     "name": "stdout",
     "output_type": "stream",
     "text": [
      "20\n",
      "40\n",
      "30\n",
      "60\n",
      "80\n",
      "70\n",
      "50\n"
     ]
    }
   ],
   "source": [
    "'''recursive PostOrder'''\n",
    "def recursive_postOrder(r):\n",
    "    if r is None:\n",
    "        return\n",
    "    recursive_postOrder(r.left)\n",
    "    recursive_postOrder(r.right)\n",
    "    print(r.key)\n",
    "    \n",
    "r=root_\n",
    "recursive_postOrder(r)\n",
    "\n",
    "'''M2'''\n",
    "return  postorder(root.left) + postorder(root.right) + [root.val] if root else []"
   ]
  },
  {
   "cell_type": "code",
   "execution_count": 146,
   "metadata": {},
   "outputs": [
    {
     "name": "stdout",
     "output_type": "stream",
     "text": [
      "20\n",
      "40\n",
      "30\n",
      "60\n",
      "80\n",
      "70\n",
      "50\n"
     ]
    }
   ],
   "source": [
    "'''iterative PostOrder'''\n",
    "def iterative_postOrder(r):\n",
    "    qq=deque()\n",
    "    t=r\n",
    "    qq.append(t)\n",
    "    ans=deque()\n",
    "    while(qq):\n",
    "        t=qq.pop()\n",
    "        ans.append(t.key)#print(t.key)            #we have to reverse our answer\n",
    "        if t.left:\n",
    "            qq.append(t.left)\n",
    "        if t.right:\n",
    "            \n",
    "            qq.append(t.right)\n",
    "    for x in range(len(ans)):\n",
    "        print(ans.pop())\n",
    "r=root_\n",
    "iterative_postOrder(r)"
   ]
  },
  {
   "cell_type": "markdown",
   "metadata": {},
   "source": [
    "# 174\tLeft View of a tree\n"
   ]
  },
  {
   "cell_type": "code",
   "execution_count": 207,
   "metadata": {},
   "outputs": [
    {
     "name": "stdout",
     "output_type": "stream",
     "text": [
      "[50, 30, 20]\n"
     ]
    }
   ],
   "source": [
    "from collections import deque\n",
    "r=root_\n",
    "def left_bst(r):\n",
    "    a=[]\n",
    "    if r is None:\n",
    "        return a\n",
    "    q=deque()\n",
    "    t=r\n",
    "    q.append(t)\n",
    "    while(q):\n",
    "        for i in range(len(q)):\n",
    "            t=q.popleft()\n",
    "            if i==0:\n",
    "                a.append(t.key)\n",
    "            if t.left:\n",
    "                q.append(t.left)\n",
    "            if t.right:\n",
    "                q.append(t.right)\n",
    "    print(a)     \n",
    "left_bst(r)"
   ]
  },
  {
   "cell_type": "markdown",
   "metadata": {},
   "source": [
    "# 175\tRight View of Tree\n"
   ]
  },
  {
   "cell_type": "code",
   "execution_count": 212,
   "metadata": {},
   "outputs": [
    {
     "name": "stdout",
     "output_type": "stream",
     "text": [
      "[30, 79, 40, 79]\n"
     ]
    }
   ],
   "source": [
    "from collections import deque\n",
    "r=root_\n",
    "def left_bst(r):\n",
    "        if root is None:\n",
    "            return q\n",
    "        a=[]\n",
    "        q=[]\n",
    "        q.append(root)\n",
    "        while(q):\n",
    "            \n",
    "            for i in range(len(q)):\n",
    "                t=q.pop(0)\n",
    "                if i == len(q)-1:\n",
    "                    a.append(t.key)\n",
    "                if t.left:\n",
    "                    q.append(t.left)\n",
    "                if t.right:\n",
    "                    q.append(t.right)\n",
    "        print(a)      \n",
    "left_bst(r)"
   ]
  }
 ],
 "metadata": {
  "kernelspec": {
   "display_name": "Python 3",
   "language": "python",
   "name": "python3"
  },
  "language_info": {
   "codemirror_mode": {
    "name": "ipython",
    "version": 3
   },
   "file_extension": ".py",
   "mimetype": "text/x-python",
   "name": "python",
   "nbconvert_exporter": "python",
   "pygments_lexer": "ipython3",
   "version": "3.7.3"
  }
 },
 "nbformat": 4,
 "nbformat_minor": 2
}
