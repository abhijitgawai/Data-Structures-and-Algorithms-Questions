{
 "cells": [
  {
   "cell_type": "code",
   "execution_count": null,
   "metadata": {},
   "outputs": [],
   "source": [
    "385\tCoin ChangeProblem\n"
   ]
  },
  {
   "cell_type": "markdown",
   "metadata": {},
   "source": [
    "# 386\tKnapsack Problem\n"
   ]
  },
  {
   "cell_type": "code",
   "execution_count": 12,
   "metadata": {},
   "outputs": [
    {
     "data": {
      "text/plain": [
       "3"
      ]
     },
     "execution_count": 12,
     "metadata": {},
     "output_type": "execute_result"
    }
   ],
   "source": [
    "'''Recurssion'''\n",
    "def knapSack(W, wt, val, n):        #add self in class\n",
    "    if n==0 or W==0:\n",
    "       return 0\n",
    " \n",
    "    if wt[n-1]<=W:\n",
    "        return max(val[n-1]+knapSack(W-wt[n-1],wt,val,n-1)     , knapSack(W,wt,val,n-1)        )\n",
    "    # code here\n",
    "    else:\n",
    "        return knapSack(W,wt,val,n-1)     # This is using Recurssion\n",
    "knapSack(4,[4,5,1],[1,2,3],3)"
   ]
  },
  {
   "cell_type": "code",
   "execution_count": 13,
   "metadata": {},
   "outputs": [
    {
     "name": "stdout",
     "output_type": "stream",
     "text": [
      "[[0, 0, 0, 0, 0], [0, 0, 0, 0, 1], [0, 0, 0, 0, 1], [0, 3, 3, 3, 3]]\n"
     ]
    },
    {
     "data": {
      "text/plain": [
       "3"
      ]
     },
     "execution_count": 13,
     "metadata": {},
     "output_type": "execute_result"
    }
   ],
   "source": [
    "'''Top Down'''\n",
    "def knapSack(W, wt, val, n):\n",
    "        t=[ [ 0 for i in range(W+1) ] for j in range(len(wt)+1) ]\n",
    "        for i in range(1,len(t)):\n",
    "            for j in range(1,len(t[0])):\n",
    "\n",
    "                if j>=wt[i-1]:\n",
    "                    t[i][j]=max(  val[i-1]+t[i-1][j-wt[i-1]],t[i-1][j]     )\n",
    "                else:\n",
    "                    t[i][j]=t[i-1][j]\n",
    "        print(t)\n",
    "        return t[len(wt)][W]\n",
    "knapSack(4,[4,5,1],[1,2,3],3)"
   ]
  },
  {
   "cell_type": "code",
   "execution_count": 14,
   "metadata": {},
   "outputs": [
    {
     "name": "stdout",
     "output_type": "stream",
     "text": [
      "220\n"
     ]
    }
   ],
   "source": [
    "'''GFG'''\n",
    "def knapSack(W, wt, val, n):\n",
    "\tdp = [0 for i in range(W+1)] # Making the dp array\n",
    "\n",
    "\tfor i in range(1, n+1): # taking first i elements\n",
    "\t\tfor w in range(W, 0, -1): # starting from back,so that we also have data of\n",
    "\t\t\t\t\t\t\t\t# previous computation when taking i-1 items\n",
    "\t\t\tif wt[i-1] <= w:\n",
    "\t\t\t\t# finding the maximum value\n",
    "\t\t\t\tdp[w] = max(dp[w], dp[w-wt[i-1]]+val[i-1])\n",
    "\treturn dp[W] \n",
    "\n",
    "val = [60, 100, 120]\n",
    "wt = [10, 20, 30]\n",
    "W = 50\n",
    "n = len(val)\n",
    "print(knapSack(W, wt, val, n))"
   ]
  },
  {
   "cell_type": "code",
   "execution_count": null,
   "metadata": {},
   "outputs": [],
   "source": [
    "387\tBinomial CoefficientProblem\n",
    "388\tPermutation CoefficientProblem\n",
    "389\tProgram for nth Catalan Number\n",
    "390\tMatrix Chain Multiplication \n",
    "391\tEdit Distance"
   ]
  },
  {
   "cell_type": "markdown",
   "metadata": {},
   "source": [
    "# 392\tSubset Sum Problem\n"
   ]
  },
  {
   "cell_type": "code",
   "execution_count": 31,
   "metadata": {},
   "outputs": [],
   "source": [
    "'''recurssive'''\n",
    "class Solution:\n",
    "    \n",
    "    def subset(self,N,arr,summ):\n",
    "        if summ<0:\n",
    "            return False\n",
    "        if 0==summ:\n",
    "            return True\n",
    "        if N==0:\n",
    "            return False\n",
    "        return self.subset(N-1,arr[1:],summ-arr[0]) or self.subset(N-1,arr[1:],summ)\n",
    "        \n",
    "        \n",
    "    def equalPartition(self, N, arr):\n",
    "        a=sum(arr)\n",
    "        if a%2==1:\n",
    "            return 0\n",
    "        return self.subset(N,arr,a/2)"
   ]
  },
  {
   "cell_type": "code",
   "execution_count": 25,
   "metadata": {},
   "outputs": [
    {
     "name": "stdout",
     "output_type": "stream",
     "text": [
      "1\n"
     ]
    }
   ],
   "source": [
    "'''Top down dp'''\n",
    "def equalPartition( N, arr):\n",
    "    a=sum(arr)\n",
    "    if a%2==1:\n",
    "        return 0\n",
    "    #return self.subset(N,arr,a/2)\n",
    "    a=int(a/2)\n",
    "\n",
    "    t=[[0 for i in range(a+1)] for j in range(N+1)]\n",
    "\n",
    "    for i in range(len(t)):\n",
    "        for j in range(len(t[0])):\n",
    "            if i==0 and j==0:\n",
    "                t[i][j]=1\n",
    "                continue\n",
    "            if i==0:\n",
    "                t[i][j]=0\n",
    "                continue\n",
    "            if j==0:\n",
    "                t[i][j]=1\n",
    "                continue\n",
    "\n",
    "            if arr[i-1]<=j:\n",
    "                t[i][j]=t[i-1][j-arr[i-1]] or t[i-1][j]\n",
    "            else:\n",
    "                t[i][j]=t[i-1][j]\n",
    "    return t[-1][-1]\n",
    "print(equalPartition(4,[1, 5, 11, 5]))"
   ]
  },
  {
   "cell_type": "markdown",
   "metadata": {},
   "source": [
    "# Minimum sum partition"
   ]
  },
  {
   "cell_type": "code",
   "execution_count": 41,
   "metadata": {},
   "outputs": [
    {
     "name": "stdout",
     "output_type": "stream",
     "text": [
      "1\n"
     ]
    }
   ],
   "source": [
    "def minDifference( arr, n):\n",
    "    a=sum(arr)\n",
    "    t=[[0 for i in range(a+1)] for i in range(len(arr)+1)]\n",
    "\n",
    "    for i in range(len(t)):\n",
    "        for j in range(len(t[0])):\n",
    "            if i==0 and j==0:\n",
    "                t[i][j]=1\n",
    "                continue\n",
    "            if i==0:\n",
    "                t[i][j]=0\n",
    "                continue\n",
    "            if j==0:\n",
    "                t[i][j]=1\n",
    "                continue\n",
    "\n",
    "            if arr[i-1]<=j:\n",
    "                #t[i][j]=min(abs(a_2-t[i-1][j-arr[i-1]]) ,abs(a_2- t[i-1][j]))\n",
    "                t[i][j]=t[i-1][j-arr[i-1]] or t[i-1][j]\n",
    "            else:\n",
    "                t[i][j]=t[i-1][j]\n",
    "    for j in range(a // 2, -1, -1):\n",
    "        if t[-1][j] == True:\n",
    "            diff = a - (2 * j)\n",
    "            break\n",
    "\n",
    "    return diff\n",
    "arr=[1, 6, 11, 5]\n",
    "print(minDifference(arr,len(arr)))"
   ]
  },
  {
   "cell_type": "code",
   "execution_count": null,
   "metadata": {},
   "outputs": [],
   "source": []
  },
  {
   "cell_type": "code",
   "execution_count": null,
   "metadata": {},
   "outputs": [],
   "source": []
  },
  {
   "cell_type": "code",
   "execution_count": null,
   "metadata": {},
   "outputs": [],
   "source": []
  },
  {
   "cell_type": "code",
   "execution_count": null,
   "metadata": {},
   "outputs": [],
   "source": []
  },
  {
   "cell_type": "code",
   "execution_count": null,
   "metadata": {},
   "outputs": [],
   "source": []
  },
  {
   "cell_type": "code",
   "execution_count": null,
   "metadata": {},
   "outputs": [],
   "source": []
  },
  {
   "cell_type": "code",
   "execution_count": null,
   "metadata": {},
   "outputs": [],
   "source": []
  },
  {
   "cell_type": "code",
   "execution_count": null,
   "metadata": {},
   "outputs": [],
   "source": []
  },
  {
   "cell_type": "code",
   "execution_count": null,
   "metadata": {},
   "outputs": [],
   "source": []
  }
 ],
 "metadata": {
  "kernelspec": {
   "display_name": "Python 3",
   "language": "python",
   "name": "python3"
  },
  "language_info": {
   "codemirror_mode": {
    "name": "ipython",
    "version": 3
   },
   "file_extension": ".py",
   "mimetype": "text/x-python",
   "name": "python",
   "nbconvert_exporter": "python",
   "pygments_lexer": "ipython3",
   "version": "3.7.3"
  }
 },
 "nbformat": 4,
 "nbformat_minor": 2
}
