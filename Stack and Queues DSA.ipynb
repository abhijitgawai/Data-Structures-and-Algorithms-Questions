{
 "cells": [
  {
   "cell_type": "markdown",
   "metadata": {},
   "source": [
    "# 279\t Stack (array,linkedList)\n"
   ]
  },
  {
   "cell_type": "code",
   "execution_count": 707,
   "metadata": {},
   "outputs": [
    {
     "name": "stdout",
     "output_type": "stream",
     "text": [
      "s : 3 4 5 6 \n",
      "\n"
     ]
    },
    {
     "data": {
      "text/plain": [
       "6"
      ]
     },
     "execution_count": 707,
     "metadata": {},
     "output_type": "execute_result"
    }
   ],
   "source": [
    "from collections import deque\n",
    "stack=deque()\n",
    "def leen(s):\n",
    "    if len(s)==0:\n",
    "        return -1\n",
    "    return len(s)\n",
    "def poop(s):\n",
    "    if len(s)==0:\n",
    "        return -1\n",
    "    return s.pop()\n",
    "\n",
    "def puush(stack,key):\n",
    "    return stack.append(key)\n",
    "def prrint(s):\n",
    "    print('s : ',end='')\n",
    "    for i in s:\n",
    "        print(i,end=' ')\n",
    "    print('\\n')\n",
    "def peek(s):\n",
    "    if len(s)==0:\n",
    "        return -1\n",
    "    return s[len(s)-1]\n",
    "puush(stack,3)\n",
    "puush(stack,4)\n",
    "puush(stack,5)\n",
    "puush(stack,6)\n",
    "puush(stack,7)\n",
    "poop(stack)\n",
    "prrint(stack)\n",
    "peek(stack)"
   ]
  },
  {
   "cell_type": "code",
   "execution_count": 724,
   "metadata": {},
   "outputs": [
    {
     "name": "stdout",
     "output_type": "stream",
     "text": [
      "False\n",
      "we puushed 5\n",
      "we puushed 6\n",
      "we puushed 7\n",
      "('pooped : ', 7)\n",
      "we puushed 8\n",
      "8\n",
      "6\n",
      "5\n"
     ]
    }
   ],
   "source": [
    "class Node:\n",
    "    def __init__(self,data,next=None):\n",
    "        self.data=data\n",
    "        self.next=next\n",
    "        \n",
    "class stack:\n",
    "    def __init__(self):\n",
    "        self.head=None\n",
    "    def puush(self,ke):\n",
    "        t=Node(ke)\n",
    "        t.next=self.head\n",
    "        self.head=t\n",
    "        print('we puushed',self.head.data)\n",
    "    def isEmpty(self):\n",
    "        return False if self.head is None else True\n",
    "    def prrint(self):\n",
    "        h=self.head\n",
    "        while(h):\n",
    "            print(h.data)\n",
    "            h=h.next\n",
    "            \n",
    "    def poop(self):\n",
    "        if self.head is not None:\n",
    "            a=self.head\n",
    "            self.head=self.head.next\n",
    "            \n",
    "            return 'pooped : ',a.data\n",
    "        \n",
    "        \n",
    "s=stack()\n",
    "print(s.isEmpty())\n",
    "s.puush(5 )\n",
    "s.puush(6 )\n",
    "s.puush(7 )\n",
    "print(s.poop())\n",
    "s.puush(8 )\n",
    "s.isEmpty()\n",
    "s.prrint( )"
   ]
  },
  {
   "cell_type": "markdown",
   "metadata": {},
   "source": [
    "# 280\t  Queue (Stack,LinkedList)"
   ]
  },
  {
   "cell_type": "code",
   "execution_count": 729,
   "metadata": {},
   "outputs": [
    {
     "name": "stdout",
     "output_type": "stream",
     "text": [
      "s : 1 2 3 4 5 6 \n",
      "\n"
     ]
    }
   ],
   "source": [
    "from collections import deque\n",
    "q=deque()\n",
    "\n",
    "def prrin(q):\n",
    "    print('printing q : ')\n",
    "    for i in q:\n",
    "        print(i,end=' ')\n",
    "def appendfront(q,ke):\n",
    "    q.appendleft(ke)\n",
    "    \n",
    "def appendbehind(q,ke):\n",
    "    q.append(ke)\n",
    "appendfront(q,5)\n",
    "appendfront(q,4)\n",
    "appendfront(q,3)\n",
    "appendfront(q,2)\n",
    "appendfront(q,1)\n",
    "appendbehind(q,6)\n",
    "prrint(q)"
   ]
  },
  {
   "cell_type": "raw",
   "metadata": {},
   "source": [
    "class NNode():\n",
    "    def __init__(self,data,prev=None,next=None):\n",
    "        self.prev=prev\n",
    "        self.next=next\n",
    "        self.data=data\n",
    "        \n",
    "class Dllinkedlist():\n",
    "    def __init__(self):\n",
    "        self.head=None\n",
    "        self.mid=None\n",
    "        self.count=0\n",
    "        \n",
    "    def insert1st(self,ke):\n",
    "        self.head=NNode(ke)\n",
    "a=Dllinkedlist()\n",
    "a.insert1st(5)\n",
    "print(a.head.data)"
   ]
  },
  {
   "cell_type": "markdown",
   "metadata": {},
   "source": [
    "# 281\tImplement 2 stack in an array\n"
   ]
  },
  {
   "cell_type": "code",
   "execution_count": null,
   "metadata": {},
   "outputs": [],
   "source": [
    "def push1(a,x):\n",
    "    global top1\n",
    "    top1+=1\n",
    "    a[top1]=x\n",
    "    \n",
    "def push2(a,x):\n",
    "    global top2\n",
    "    top2-=1\n",
    "    a[top2]=x\n",
    "   \n",
    "def pop1(a):\n",
    "    global top1\n",
    "    if top1==-1:\n",
    "        return -1\n",
    "    re1=a[top1]\n",
    "    a[top1]=-1\n",
    "    top1-=1\n",
    "    return re1\n",
    "       \n",
    "def pop2(a):\n",
    "    global top2\n",
    "    if top2==101:\n",
    "        return -1\n",
    "    re2=a[top2]\n",
    "    a[top2]=-1\n",
    "    top2+=1\n",
    "    return re2"
   ]
  },
  {
   "cell_type": "markdown",
   "metadata": {},
   "source": [
    "# 283\tImplement \"N\" stacks in an Array\n"
   ]
  },
  {
   "cell_type": "code",
   "execution_count": 35,
   "metadata": {},
   "outputs": [
    {
     "name": "stdout",
     "output_type": "stream",
     "text": [
      "[-1, 0, -1, 2, 3, -1, 5, 6, 9, -1]\n",
      "[15, 45, 17, 49, 39, 11, 9, 7, 0, 0]\n",
      "45\n",
      "39\n",
      "7\n"
     ]
    }
   ],
   "source": [
    "class Kstack:\n",
    "    def __init__(self,k,n):\n",
    "        self.k=k\n",
    "        self.n=n\n",
    "        self.array=[0]*self.n\n",
    "        self.next=[i+1 for i in range(self.n)]\n",
    "        self.next[self.n-1]=-1 \n",
    "        self.top=[-1]*self.k\n",
    "        self.free=0\n",
    "        \n",
    "    def isEmpyt(self,sn):\n",
    "        return self.top[sn]==-1\n",
    "    \n",
    "    def isFull(self):\n",
    "        return self.free==-1\n",
    "\n",
    "    def puush(self,ke,sn):\n",
    "        if self.isFull():\n",
    "            print('satckoverflow puush')\n",
    "            return a\n",
    "        \n",
    "        insert_at=self.free\n",
    "        self.free=self.next[self.free]\n",
    "        self.array[insert_at]=ke\n",
    "        self.next[insert_at]=self.top[sn]\n",
    "        self.top[sn]=insert_at\n",
    "        \n",
    "    def poop(self,sn):\n",
    "        if not self.isEmpyt:\n",
    "            print('stackoverflow poop')\n",
    "            return \n",
    "        \n",
    "        top_of_stack=self.top[sn]\n",
    "        self.top[sn]=self.next[top_of_stack]\n",
    "        self.next[top_of_stack]=self.free\n",
    "        self.free=top_of_stack\n",
    "        print (self.array[top_of_stack])\n",
    "\n",
    "kstacks = Kstack(3, 10)\n",
    "\n",
    "# Push some items onto stack number 2.\n",
    "kstacks.puush(15, 2)\n",
    "kstacks.puush(45, 2)\n",
    "\n",
    "# Push some items onto stack number 1.\n",
    "kstacks.puush(17, 1)\n",
    "kstacks.puush(49, 1)\n",
    "kstacks.puush(39, 1)\n",
    "\n",
    "# Push some items onto stack number 0.\n",
    "kstacks.puush(11, 0)\n",
    "kstacks.puush(9, 0)\n",
    "kstacks.puush(7, 0)\n",
    "\n",
    "print(kstacks.next)\n",
    "print(kstacks.array)\n",
    "\n",
    "\n",
    "kstacks.poop(2)\n",
    "kstacks.poop(1)\n",
    "kstacks.poop(0)"
   ]
  },
  {
   "cell_type": "markdown",
   "metadata": {},
   "source": [
    "\n",
    "# 284\tCheck the expression has valid or Balanced parenthesis or not.\n"
   ]
  },
  {
   "cell_type": "code",
   "execution_count": 85,
   "metadata": {},
   "outputs": [
    {
     "name": "stdout",
     "output_type": "stream",
     "text": [
      "0 deque([])\n",
      "1 deque(['['])\n",
      "2 deque(['[', '('])\n",
      "3 deque(['['])\n",
      "x[-1]==[ and i==]\n",
      "4 deque([])\n",
      "5 deque(['{'])\n",
      "6 deque([])\n",
      "7 deque(['{'])\n",
      "8 deque(['{', '['])\n",
      "9 deque(['{', '[', '('])\n",
      "10 deque(['{', '['])\n",
      "11 deque(['{', '[', '('])\n",
      "12 deque(['{', '['])\n",
      "x[-1]==[ and i==]\n",
      "13 deque(['{'])\n",
      "14 deque(['{', '('])\n",
      "15 deque(['{'])\n",
      "0 len\n"
     ]
    }
   ],
   "source": [
    "'''MY'''\n",
    "from collections import deque\n",
    "a=deque()\n",
    "#x='[()]{}{[()()]()}'\n",
    "\n",
    "for i in range(len(x)):\n",
    "     #print(i,a)\n",
    "     if len(a)==0:\n",
    "            a.append(x[i])\n",
    "            continue\n",
    "     if a[-1]=='[' and x[i]==']':\n",
    "         #print('x[-1]==[ and i==]')\n",
    "         a.pop()\n",
    "         continue\n",
    "     if a[-1]=='(' and x[i]==')':\n",
    "         a.pop()\n",
    "         continue\n",
    "     if a[-1]=='{' and x[i]=='}':\n",
    "         a.pop()\n",
    "         continue\n",
    "     else:\n",
    "         a.append(x[i])\n",
    "\n",
    "\n",
    "re=len(a)\n",
    "if re==0:\n",
    "    return True\n",
    "else:\n",
    "    return False\n",
    "\n",
    "\n",
    "'''\n",
    "def ispar(self,s):\n",
    "    n = len(s)\n",
    "    if n % 2 != 0:\n",
    "        return False\n",
    "    \n",
    "    while '()' in s or '{}' in s or '[]' in s:\n",
    "        s = s.replace('{}','').replace('()','').replace('[]','')\n",
    "    \n",
    "    return s == ''\n",
    "'''\n",
    "        \n",
    "    "
   ]
  },
  {
   "cell_type": "markdown",
   "metadata": {},
   "source": [
    "# 285\tReverse a String using Stack\n"
   ]
  },
  {
   "cell_type": "code",
   "execution_count": null,
   "metadata": {},
   "outputs": [],
   "source": [
    "def reverse(S):\n",
    "    from collections import deque\n",
    "    q=deque()\n",
    "    for i in S:\n",
    "        q.append(i)\n",
    "        \n",
    "    re=''\n",
    "    for i in range(len(q)):\n",
    "        re+=q.pop()\n",
    "    return re"
   ]
  },
  {
   "cell_type": "markdown",
   "metadata": {},
   "source": [
    "# 286\tDesign a Stack that supports getMin() in O(1) time and O(1) extra space.\n"
   ]
  },
  {
   "cell_type": "code",
   "execution_count": null,
   "metadata": {},
   "outputs": [],
   "source": [
    "def push(arr, ele):\n",
    "    if isFull(n,arr)==True:\n",
    "        return\n",
    "    arr.append(ele)\n",
    "\n",
    "def pop(arr):\n",
    "    if isEmpty(arr):\n",
    "        return\n",
    "    \n",
    "    ret=a[-1]\n",
    "    del a[-1]\n",
    "    return ret\n",
    "\n",
    "def isFull(n, arr):\n",
    "    if len(arr)==n:\n",
    "        return True\n",
    "    return False\n",
    "\n",
    "def isEmpty(arr):\n",
    "    if len(arr)==0:\n",
    "        return True\n",
    "    return False\n",
    "\n",
    "def getMin(n, arr):\n",
    "    # Code here\n",
    "    if isEmpty==True:\n",
    "        return \n",
    "    return min(arr)"
   ]
  },
  {
   "cell_type": "markdown",
   "metadata": {},
   "source": [
    "# 287\tFind the next Greater element\n"
   ]
  },
  {
   "cell_type": "code",
   "execution_count": 139,
   "metadata": {},
   "outputs": [
    {
     "name": "stdout",
     "output_type": "stream",
     "text": [
      "[13, 21, -1, -1]\n"
     ]
    }
   ],
   "source": [
    "def nextLargerElement(arr,n):  \n",
    "    #code here\n",
    "    #arr=[3,4,2,1]\n",
    "    #arr=[11, 13, 21, 3 ]\n",
    "    #n=len(arr)\n",
    "\n",
    "    re=[-1]*n\n",
    "    from collections import deque        \n",
    "    d=deque()\n",
    "    i=-1\n",
    "    while(i<n-1):\n",
    "        i+=1\n",
    "        #print('i',i)\n",
    "        #print(re)\n",
    "        if len(d)==0:\n",
    "            d.append(i)\n",
    "            i+=1\n",
    "        #print('d',d) \n",
    "        if arr[d[-1]]>arr[i]:\n",
    "            d.append(i)\n",
    "\n",
    "        if arr[d[-1]]<arr[i]:\n",
    "            while(arr[d[-1]]<arr[i]):\n",
    "                a=d.pop()\n",
    "                #print('a',a,'    i',i)\n",
    "                re[a]=arr[i]\n",
    "                if len(d)==0:\n",
    "                    break\n",
    "            d.append(i)\n",
    "    #d\n",
    "    #print(re)\n",
    "    return re\n",
    "print(nextLargerElement([11, 13, 21, 3 ],4))"
   ]
  },
  {
   "cell_type": "markdown",
   "metadata": {},
   "source": [
    "# 288\tThe celebrity Problem\n"
   ]
  },
  {
   "cell_type": "code",
   "execution_count": 156,
   "metadata": {},
   "outputs": [
    {
     "name": "stdout",
     "output_type": "stream",
     "text": [
      "1\n",
      "0\n",
      "sum 0 found\n",
      "1 fdf\n"
     ]
    }
   ],
   "source": [
    "M=[[0,1],[0,0]]\n",
    "n=len(M)\n",
    "for i in range(n):\n",
    "    s=sum(M[i])\n",
    "    print(s)\n",
    "    if s==0:\n",
    "        print('sum 0 found')\n",
    "        a=0\n",
    "        for j in range(n):\n",
    "            a+=M[j][i]\n",
    "        if a==n-1:\n",
    "            print(i,'fdf')\n",
    "            #return i\n",
    "            break\n",
    "        "
   ]
  },
  {
   "cell_type": "markdown",
   "metadata": {},
   "source": [
    "# 290\tEvaluation of Postfix expression\n"
   ]
  },
  {
   "cell_type": "code",
   "execution_count": 204,
   "metadata": {},
   "outputs": [
    {
     "name": "stdout",
     "output_type": "stream",
     "text": [
      "1\n"
     ]
    }
   ],
   "source": [
    "tokens=[\"4\",\"3\",\"-\"]\n",
    "def check_num(s):\n",
    "  try:\n",
    "    int(s)\n",
    "    return True\n",
    "  except:\n",
    "    return False\n",
    "'''        for i in tokens:\n",
    "            if  i not in '+-/*':\n",
    "                stack.append(i)'''\n",
    "\n",
    "from collections import deque       \n",
    "\n",
    "d=deque()\n",
    "for i in tokens:\n",
    "    if check_num(i):\n",
    "        d.append(int(i))\n",
    "    else:\n",
    "        a=d.pop()\n",
    "        b=d.pop()\n",
    "        if i=='+':\n",
    "            d.append(a+b)\n",
    "        if i=='*':\n",
    "            d.append(a*b)\n",
    "        if i=='-':\n",
    "            d.append(b-a)\n",
    "        if i=='/':\n",
    "            d.append(math.trunc(b/a))\n",
    "#return d[0]\n",
    "print(d[0])"
   ]
  },
  {
   "cell_type": "code",
   "execution_count": null,
   "metadata": {},
   "outputs": [],
   "source": [
    "'''\n",
    "#leetcode solution\n",
    "def evalRPN(self, tokens: List[str]) -> int:\n",
    "    operations = {\n",
    "        '+': lambda x1, x2: x1 + x2,\n",
    "        '*': lambda x1, x2: x1 * x2,\n",
    "        '-': lambda x1, x2: x2 - x1,\n",
    "        '/': lambda x1, x2: -(abs(x2) // abs(x1)) if x1 * x2 < 0 else x2 // x1,\n",
    "    }\n",
    "    stack = []\n",
    "    for token in tokens:\n",
    "        if token.lstrip('-').isdigit():\n",
    "            stack.append(int(token))\n",
    "        else:\n",
    "            x1 = stack.pop()\n",
    "            x2 = stack.pop()\n",
    "            stack.append(operations[token](x1, x2))\n",
    "    return stack[-1]\n",
    "'''"
   ]
  },
  {
   "cell_type": "markdown",
   "metadata": {},
   "source": [
    "# 291\tImplement a method to insert an element at its bottom without using any other data structure.\n"
   ]
  },
  {
   "cell_type": "code",
   "execution_count": null,
   "metadata": {},
   "outputs": [],
   "source": [
    "def pushBottom(stack,x):\n",
    "    if len(stack)==0:\n",
    "        stack.append(x)\n",
    "    else:\n",
    "        temp=stack.pop()\n",
    "        pushBottom(stack,x)\n",
    "        stack.append(temp)\n",
    "#appendleft() if using deque"
   ]
  },
  {
   "cell_type": "markdown",
   "metadata": {},
   "source": [
    "# 292\tReverse a stack using recursion\n"
   ]
  },
  {
   "cell_type": "code",
   "execution_count": 213,
   "metadata": {},
   "outputs": [
    {
     "name": "stdout",
     "output_type": "stream",
     "text": [
      "2\n",
      "\n",
      "\n",
      "1\n",
      "3\n",
      "4\n",
      "5\n",
      "\n",
      "\n",
      "1\n",
      "3\n",
      "4\n",
      "5\n"
     ]
    }
   ],
   "source": [
    "s=[]\n",
    "def apppend(s,ke):\n",
    "    s.append(ke)\n",
    "def poop(s):\n",
    "    return s.pop()\n",
    "\n",
    "def prrint(s):\n",
    "    print('\\n')\n",
    "    for i in s:\n",
    "        print(i)\n",
    "\n",
    "'''\n",
    "def reverse(stack):\n",
    "    if not isEmpty(stack):\n",
    "        temp = pop(stack)\n",
    "        reverse(stack)\n",
    "        insertAtBottom(stack, temp)\n",
    "        \n",
    "def insertAtBottom(stack, item):\n",
    "    if isEmpty(stack):\n",
    "        push(stack, item)\n",
    "    else:\n",
    "        temp = pop(stack)\n",
    "        insertAtBottom(stack, item)\n",
    "        push(stack, temp)\n",
    "'''\n",
    "      \n",
    "apppend(s,1)\n",
    "apppend(s,2)\n",
    "print(poop(s))\n",
    "apppend(s,3)\n",
    "apppend(s,4)\n",
    "apppend(s,5)\n",
    "prrint(s)\n",
    "reverrse(s)\n",
    "prrint(s)"
   ]
  },
  {
   "cell_type": "markdown",
   "metadata": {},
   "source": [
    "# 293\tSort a Stack using recursion\n"
   ]
  },
  {
   "cell_type": "code",
   "execution_count": 217,
   "metadata": {},
   "outputs": [
    {
     "name": "stdout",
     "output_type": "stream",
     "text": [
      "Stack elements before sorting: \n",
      "-3 14 18 -5 30 \n",
      "\n",
      "Stack elements after sorting: \n",
      "30 18 14 -3 -5 \n"
     ]
    }
   ],
   "source": [
    "# Python program to sort a stack using recursion\n",
    "\n",
    "# Recursive method to insert element in sorted way\n",
    "\n",
    "\n",
    "def sortedInsert(s, element):\n",
    "\n",
    "\t# Base case: Either stack is empty or newly inserted\n",
    "\t# item is greater than top (more than all existing)\n",
    "\tif len(s) == 0 or element > s[-1]:\n",
    "\t\ts.append(element)\n",
    "\t\treturn\n",
    "\telse:\n",
    "\n",
    "\t\t# Remove the top item and recur\n",
    "\t\ttemp = s.pop()\n",
    "\t\tsortedInsert(s, element)\n",
    "\n",
    "\t\t# Put back the top item removed earlier\n",
    "\t\ts.append(temp)\n",
    "\n",
    "# Method to sort stack\n",
    "\n",
    "\n",
    "def sortStack(s):\n",
    "\n",
    "\t# If stack is not empty\n",
    "\tif len(s) != 0:\n",
    "\n",
    "\t\t# Remove the top item\n",
    "\t\ttemp = s.pop()\n",
    "\n",
    "\t\t# Sort remaining stack\n",
    "\t\tsortStack(s)\n",
    "\n",
    "\t\t# Push the top item back in sorted stack\n",
    "\t\tsortedInsert(s, temp)\n",
    "\n",
    "# Printing contents of stack\n",
    "\n",
    "\n",
    "def printStack(s):\n",
    "\tfor i in s[::-1]:\n",
    "\t\tprint(i, end=\" \")\n",
    "\tprint()\n",
    "\n",
    "\n",
    "# Driver Code\n",
    "if __name__ == '__main__':\n",
    "\ts = []\n",
    "\ts.append(30)\n",
    "\ts.append(-5)\n",
    "\ts.append(18)\n",
    "\ts.append(14)\n",
    "\ts.append(-3)\n",
    "\n",
    "\tprint(\"Stack elements before sorting: \")\n",
    "\tprintStack(s)\n",
    "\n",
    "\tsortStack(s)\n",
    "\n",
    "\tprint(\"\\nStack elements after sorting: \")\n",
    "\tprintStack(s)\n",
    "\n",
    "# This code is contributed by Muskan Kalra.\n"
   ]
  },
  {
   "cell_type": "markdown",
   "metadata": {},
   "source": [
    "# 294\tMerge Overlapping Intervals\n"
   ]
  },
  {
   "cell_type": "code",
   "execution_count": null,
   "metadata": {},
   "outputs": [],
   "source": [
    "'''MY'''\n",
    "def merge(self, intervals: List[List[int]]) -> List[List[int]]:\n",
    "    intervals.sort()\n",
    "    i=0\n",
    "\n",
    "    while(i<len(intervals)-1):\n",
    "\n",
    "        if intervals[i][1]>=intervals[i+1][1]:\n",
    "            intervals.remove(intervals[i+1])\n",
    "            continue\n",
    "\n",
    "        if intervals[i][1]>=intervals[i+1][0]:\n",
    "            t=intervals[i+1][1]\n",
    "            intervals.remove(intervals[i+1])\n",
    "            intervals[i][1]=t\n",
    "            continue\n",
    "\n",
    "        i+=1\n",
    "    return intervals\n",
    "\n",
    "'''\n",
    "#solution leetcode\n",
    "def merge(self, intervals):\n",
    "    intervals.sort()\n",
    "    res = [intervals[0]]\n",
    "    for i in range(1, len(intervals)):\n",
    "        if intervals[i][0] <= res[-1][1]:\n",
    "            res[-1][1] = max(intervals[i][1],res[-1][1])\n",
    "        else:\n",
    "            res.append(intervals[i])\n",
    "    return res\n",
    "'''"
   ]
  },
  {
   "cell_type": "markdown",
   "metadata": {},
   "source": [
    "# Placement question Duteche bank"
   ]
  },
  {
   "cell_type": "code",
   "execution_count": 80,
   "metadata": {},
   "outputs": [
    {
     "name": "stdout",
     "output_type": "stream",
     "text": [
      "myy\n"
     ]
    }
   ],
   "source": [
    "s='abhijeet  is myy name'\n",
    "s=s.split()\n",
    "a=len(s)\n",
    "\n",
    "import math\n",
    "if len(s)==1:\n",
    "    print( s[0])\n",
    "if a%2==1:\n",
    "    print(s[math.floor(a/2)])\n",
    "if a%2==0:    \n",
    "    #print((s[(a//2)]),(s[a//2-1]))\n",
    "    if len(s[(a//2)])>len(s[a//2-1]):\n",
    "        print((s[(a//2)]))\n",
    "    else:\n",
    "        print((s[(a//2-1)]))"
   ]
  },
  {
   "cell_type": "code",
   "execution_count": null,
   "metadata": {},
   "outputs": [],
   "source": []
  },
  {
   "cell_type": "code",
   "execution_count": 234,
   "metadata": {},
   "outputs": [
    {
     "name": "stdout",
     "output_type": "stream",
     "text": [
      "maxArea =  None\n"
     ]
    }
   ],
   "source": [
    "def getMaxArea(arr):\n",
    "#     n=len(arr)\n",
    "#     left=[n+1]*n\n",
    "#     right=[-1]*n\n",
    "    \n",
    "#     l=[0]\n",
    "#     i=1\n",
    "    \n",
    "#     while(i<n):\n",
    "#         if len(l)==0:\n",
    "#             l.append(arr[i])\n",
    "#         if arr[l[-1]]<arr[i]:\n",
    "#             l.append(i)\n",
    "#         if arr[l[-1]]>arr[i]:\n",
    "#             a=l.pop()\n",
    "#             print(a,'a')\n",
    "\n",
    "      s = [0]\n",
    "      n = len(arr)\n",
    "      area = 0\n",
    "      i = 0\n",
    "      left_smaller = [0]*n\n",
    "      #right_smaller = [n]*n\n",
    "        \n",
    "\n",
    "\n",
    "\n",
    "\n",
    "hist = [6, 2, 5, 4, 5, 1, 6]\n",
    "print(\"maxArea = \", getMaxArea(hist))"
   ]
  },
  {
   "cell_type": "code",
   "execution_count": 3,
   "metadata": {},
   "outputs": [
    {
     "data": {
      "text/plain": [
       "12"
      ]
     },
     "execution_count": 3,
     "metadata": {},
     "output_type": "execute_result"
    }
   ],
   "source": [
    "def largestRectangleArea( heights):\n",
    "\n",
    "\tstack, result = [], 0\n",
    "\n",
    "\tfor idx, i in enumerate(heights+[0]):\n",
    "\n",
    "\t\twhile stack and heights[stack[-1]] > i:\n",
    "\t\t\th = heights[stack.pop()]\n",
    "\t\t\tw = idx - stack[-1] - 1 if stack else idx\n",
    "\t\t\tresult = max(result, w * h)\n",
    "\n",
    "\t\tstack.append(idx)\n",
    "\n",
    "\treturn result\n",
    "largestRectangleArea([6,2,5,4,5,1,6])"
   ]
  },
  {
   "cell_type": "code",
   "execution_count": 8,
   "metadata": {},
   "outputs": [
    {
     "name": "stdout",
     "output_type": "stream",
     "text": [
      "idx 0 i 6\n",
      "idx 1 i 2\n",
      "idx 2 i 5\n",
      "idx 3 i 4\n",
      "idx 4 i 5\n",
      "idx 5 i 1\n",
      "idx 6 i 6\n",
      "idx 7 i 0\n"
     ]
    }
   ],
   "source": [
    "heights=[6,2,5,4,5,1,6]\n",
    "lstack=[]\n",
    "left=[]\n",
    "for i in range(n):\n",
    "    if len(lstack)==0:\n",
    "        left.append(0)\n"
   ]
  },
  {
   "cell_type": "code",
   "execution_count": 42,
   "metadata": {},
   "outputs": [
    {
     "name": "stdout",
     "output_type": "stream",
     "text": [
      "-1 .\n",
      "-1 .\n",
      "2\n",
      "2\n",
      "4\n",
      "-1 .\n",
      "1\n",
      "[1, 6]\n"
     ]
    }
   ],
   "source": [
    "numbers=[6,2,5,4,5,1,6]\n",
    "\n",
    "stack=[]\n",
    "\n",
    "i=0\n",
    "\n",
    "for i in range(len(numbers)):\n",
    "\n",
    "    try :\n",
    "\n",
    "        while((stack[-1]>=numbers[i])&(len(stack)>0)):\n",
    "            stack.pop()\n",
    "\n",
    "    except IndexError:\n",
    "        pass\n",
    "\n",
    "    if (len(stack)==0):\n",
    "        print (-1,'.')\n",
    "\n",
    "    else:\n",
    "        print (stack[-1])\n",
    "\n",
    "    stack.append(numbers[i])"
   ]
  },
  {
   "cell_type": "code",
   "execution_count": 41,
   "metadata": {},
   "outputs": [
    {
     "name": "stdout",
     "output_type": "stream",
     "text": [
      "-1\n",
      "-1\n",
      "-1\n",
      "-1\n",
      "-1\n",
      "-1\n",
      "-1\n"
     ]
    }
   ],
   "source": [
    "numbers=[6,2,5,4,5,1,6]\n",
    "left=[0]*len(numbers)\n",
    "le=[]\n",
    "\n",
    "for i in range(len(numbers)):\n",
    "    try:\n",
    "        if le[-1]>\n"
   ]
  },
  {
   "cell_type": "markdown",
   "metadata": {},
   "source": [
    "# NGR"
   ]
  },
  {
   "cell_type": "code",
   "execution_count": 76,
   "metadata": {
    "collapsed": true
   },
   "outputs": [
    {
     "data": {
      "text/plain": [
       "'while going to right i.e. NGR and NSR we reverse ans[::-1]'"
      ]
     },
     "execution_count": 76,
     "metadata": {},
     "output_type": "execute_result"
    }
   ],
   "source": [
    "'''\n",
    "while going to right i.e. NGR and NSR we reverse ans[::-1]\n",
    "                          and we use for i in range(n-1,-1,-1)\n",
    "'''"
   ]
  },
  {
   "cell_type": "code",
   "execution_count": 33,
   "metadata": {},
   "outputs": [
    {
     "data": {
      "text/plain": [
       "[13, 21, 21, 3]"
      ]
     },
     "execution_count": 33,
     "metadata": {},
     "output_type": "execute_result"
    }
   ],
   "source": [
    "'''N^2'''\n",
    "a=[11,13,21,3]\n",
    "for i in range(len(a)):\n",
    "    for j in range(i+1,len(a)):\n",
    "        if a[j]>a[i]:\n",
    "            a[i]=a[j]\n",
    "            break\n",
    "a"
   ]
  },
  {
   "cell_type": "code",
   "execution_count": 34,
   "metadata": {},
   "outputs": [
    {
     "name": "stdout",
     "output_type": "stream",
     "text": [
      "[8, -1, 1, 3, -1]\n"
     ]
    }
   ],
   "source": [
    "'''MY best optimised'''\n",
    "#a=[11,13,21,3]\n",
    "a=[6,8,0,1,3]\n",
    "s=[]\n",
    "ans=[]\n",
    "for i in range(len(a)-1,-1,-1):\n",
    "    if len(s)==0:\n",
    "        ans.append(-1)\n",
    "    else:\n",
    "        if s[-1]>a[i]:\n",
    "            ans.append(s[-1])\n",
    "        else:\n",
    "            while(len(s)>0 and s[-1]<a[i]):\n",
    "                s.pop()\n",
    "            if len(s)==0:\n",
    "                ans.append(-1)\n",
    "            else:# s[-1]>a[i]:\n",
    "                ans.append(s[-1])\n",
    "    s.append(a[i])\n",
    "print(ans[::-1])"
   ]
  },
  {
   "cell_type": "code",
   "execution_count": 55,
   "metadata": {},
   "outputs": [
    {
     "name": "stdout",
     "output_type": "stream",
     "text": [
      "[8, -1, 1, 3, -1]\n"
     ]
    }
   ],
   "source": [
    "'''GFG'''\n",
    "a=[6,8,0,1,3]\n",
    "s=[]\n",
    "ans=[]\n",
    "for i in range(len(a)-1,-1,-1):\n",
    "    \n",
    "    while(len(s)>0 and s[-1]<a[i]):\n",
    "        s.pop()\n",
    "    if len(s)==0:\n",
    "        ans.append(-1)\n",
    "    else:\n",
    "        ans.append(s[-1])\n",
    "        \n",
    "    s.append(a[i])\n",
    "print(ans[::-1])"
   ]
  },
  {
   "cell_type": "markdown",
   "metadata": {},
   "source": [
    "# NGL"
   ]
  },
  {
   "cell_type": "code",
   "execution_count": 62,
   "metadata": {},
   "outputs": [
    {
     "name": "stdout",
     "output_type": "stream",
     "text": [
      "[-1, -1, 8, 8, 4]\n"
     ]
    }
   ],
   "source": [
    "'''MY'''                                   #only 2 changes from NGR\n",
    "a=[6,8,0,4,3]\n",
    "s=[]\n",
    "ans=[]\n",
    "for i in range(len(a)):                               #change1 : range is changed\n",
    "    \n",
    "    while(len(s)>0 and s[-1]<a[i]):    \n",
    "        s.pop()\n",
    "    if len(s)==0:\n",
    "        ans.append(-1)\n",
    "    else:\n",
    "        ans.append(s[-1])\n",
    "    s.append(a[i])\n",
    "print(ans)                                             #change 2: we are not reversing ans"
   ]
  },
  {
   "cell_type": "markdown",
   "metadata": {},
   "source": [
    "# NSR"
   ]
  },
  {
   "cell_type": "code",
   "execution_count": 74,
   "metadata": {},
   "outputs": [
    {
     "name": "stdout",
     "output_type": "stream",
     "text": [
      "[2, 1, 4, 1, -1, -1]\n"
     ]
    }
   ],
   "source": [
    "a=[6,2,5,4,1,6]\n",
    "s=[]\n",
    "s=[]\n",
    "ans=[]\n",
    "for i in range(len(a)-1,-1,-1):\n",
    "    while(len(s)>0 and s[-1]>a[i]):\n",
    "        s.pop()\n",
    "    \n",
    "    if len(s)==0:\n",
    "        ans.append(-1)\n",
    "    else:\n",
    "        ans.append(s[-1])\n",
    "\n",
    "    s.append(a[i])\n",
    "print(ans[::-1])"
   ]
  },
  {
   "cell_type": "code",
   "execution_count": 86,
   "metadata": {},
   "outputs": [
    {
     "name": "stdout",
     "output_type": "stream",
     "text": [
      "[1, 4, 3, 4, -1, -1]\n"
     ]
    }
   ],
   "source": [
    "'''NSR with index'''\n",
    "a=[6,2,5,4,1,6]\n",
    "s=[]\n",
    "s=[]\n",
    "ans=[]\n",
    "for i in range(len(a)-1,-1,-1):\n",
    "    while(len(s)>0 and a[s[-1]]>=a[i]):\n",
    "        s.pop()\n",
    "    \n",
    "    if len(s)==0:\n",
    "        ans.append(-1)        #ans.append(len(a))         in histogram problem\n",
    "    else:\n",
    "        ans.append(s[-1])\n",
    "\n",
    "    s.append(i)\n",
    "print(ans[::-1])"
   ]
  },
  {
   "cell_type": "markdown",
   "metadata": {},
   "source": [
    "# NSL"
   ]
  },
  {
   "cell_type": "code",
   "execution_count": 75,
   "metadata": {},
   "outputs": [
    {
     "data": {
      "text/plain": [
       "[-1, -1, 2, 2, -1, 1]"
      ]
     },
     "execution_count": 75,
     "metadata": {},
     "output_type": "execute_result"
    }
   ],
   "source": [
    "a=[6,2,5,4,1,6]\n",
    "s=[]\n",
    "ans=[]\n",
    "for i in range(len(a)):\n",
    "    while(len(s)>0 and s[-1]>=a[i]):\n",
    "        s.pop()\n",
    "\n",
    "    if len(s)==0:\n",
    "        ans.append(-1)\n",
    "    else :#s[-1]<a[i]:\n",
    "        ans.append(s[-1])\n",
    "    s.append(a[i])\n",
    "ans"
   ]
  },
  {
   "cell_type": "code",
   "execution_count": 85,
   "metadata": {},
   "outputs": [
    {
     "data": {
      "text/plain": [
       "[-1, -1, 1, 1, 3, -1, 5]"
      ]
     },
     "execution_count": 85,
     "metadata": {},
     "output_type": "execute_result"
    }
   ],
   "source": [
    "'''NSL with index'''\n",
    "#a=[6,2,5,4,1,6]\n",
    "a=[6,2,5,4,5,1,6]=\n",
    "ans=[]\n",
    "s=[]\n",
    "for i in range(len(a)):\n",
    "    while(len(s)>0 and a[s[-1]]>=a[i]):\n",
    "        s.pop()\n",
    "    if len(s)==0:\n",
    "        ans.append(-1)\n",
    "    else:\n",
    "        ans.append(s[-1])\n",
    "    s.append(i)\n",
    "ans\n",
    "    "
   ]
  },
  {
   "cell_type": "markdown",
   "metadata": {},
   "source": [
    "# 295\tLargest rectangular Area in Histogram\n"
   ]
  },
  {
   "cell_type": "code",
   "execution_count": null,
   "metadata": {},
   "outputs": [],
   "source": [
    "def getMaxArea(self,histogram):\n",
    "    \n",
    "    s=[]\n",
    "\n",
    "    nsl=[]\n",
    "    for i in range(n):\n",
    "        while(len(s)>0 and histogram[s[-1]]>=histogram[i]):\n",
    "            s.pop()\n",
    "        if len(s)==0:\n",
    "            nsl.append(-1)\n",
    "        else:\n",
    "            nsl.append(s[-1])\n",
    "        s.append(i)\n",
    "    #print(nsl)\n",
    "\n",
    "    #s.clear()\n",
    "\n",
    "    nsr=[]\n",
    "    for i in range(n-1,-1,-1):\n",
    "        while(len(s)>0 and histogram[s[-1]]>=histogram[i]):\n",
    "            s.pop()\n",
    "        if len(s)==0:\n",
    "            nsr.append(len(histogram))\n",
    "        else:\n",
    "            nsr.append(s[-1])\n",
    "        s.append(i)\n",
    "    nsr=nsr[::-1]\n",
    "    #print(nsr)\n",
    "\n",
    "    re=0\n",
    "    for i in range(len(nsl)):\n",
    "        width=(nsr[i]-nsl[i]-1)*histogram[i]\n",
    "        if width>re:\n",
    "            re=width\n",
    "    return re"
   ]
  },
  {
   "cell_type": "markdown",
   "metadata": {},
   "source": [
    "# 296\tLength of the Longest Valid Substring\n"
   ]
  },
  {
   "cell_type": "code",
   "execution_count": 135,
   "metadata": {},
   "outputs": [
    {
     "data": {
      "text/plain": [
       "6"
      ]
     },
     "execution_count": 135,
     "metadata": {},
     "output_type": "execute_result"
    }
   ],
   "source": [
    "def findMaxLen( S):\n",
    "    # code here \n",
    "    result=0\n",
    "    if len(S)<2:\n",
    "        return result\n",
    "    st=[-1]\n",
    "    for i in range(len(S)):\n",
    "        if S[i]=='(':\n",
    "            st.append(i)\n",
    "        else:\n",
    "            if len(st)>0:\n",
    "                st.pop()\n",
    "            if len(st)==0:\n",
    "                st.append(i)\n",
    "            else:\n",
    "                result=max(result,i-st[-1])\n",
    "    return result\n",
    "findMaxLen(  '((()))'   )"
   ]
  },
  {
   "cell_type": "markdown",
   "metadata": {},
   "source": [
    "# 297\tExpression contains redundant bracket or not\n"
   ]
  },
  {
   "cell_type": "code",
   "execution_count": 187,
   "metadata": {},
   "outputs": [
    {
     "name": "stdout",
     "output_type": "stream",
     "text": [
      "Yes\n",
      "Yes\n",
      "No\n"
     ]
    }
   ],
   "source": [
    "def checkRedundancy(Str):\n",
    "    s=[]\n",
    "    \n",
    "    result=False\n",
    "    for i in Str:\n",
    "        flag=0\n",
    "        while i==')':\n",
    "            \n",
    "            a=s.pop()\n",
    "            if a=='+' or a=='-' or a=='/' or a=='*':\n",
    "                flag=1\n",
    "            if a=='(':\n",
    "                if flag==0:\n",
    "                    return True\n",
    "                break\n",
    "\n",
    "        s.append(i)\n",
    "\n",
    "    return False\n",
    "\n",
    "#Driver Code\n",
    "def findRedundant(Str):\n",
    "    ans = checkRedundancy(Str)\n",
    "    if (ans == True):\n",
    "        print(\"Yes\")\n",
    "    else:\n",
    "        print(\"No\")\n",
    "if __name__ == '__main__':\n",
    "    Str = \"((a+b))\"\n",
    "    findRedundant(Str)\n",
    "\n",
    "    Str = \"(a+(b)/c)\"\n",
    "    findRedundant(Str)\n",
    "\n",
    "    Str = \"(a+b*(c-d))\"\n",
    "    findRedundant(Str)\n"
   ]
  },
  {
   "cell_type": "markdown",
   "metadata": {},
   "source": [
    "# 298\tImplement Stack using Queue\n"
   ]
  },
  {
   "cell_type": "code",
   "execution_count": null,
   "metadata": {},
   "outputs": [],
   "source": [
    "'''MY'''\n",
    "#     queue_1 = [] # first queue\n",
    "#     queue_2 = [] # second queue\n",
    "#                          This was pre defined, not as queues but as arrays, error in code\n",
    "def push(x):\n",
    "    global queue_1\n",
    "    global queue_2\n",
    "    queue_2.append(x)\n",
    "    \n",
    "def pop():\n",
    "    global queue_1\n",
    "    global queue_2\n",
    "    \n",
    "    if len(queue_2)>0:\n",
    "        queue_1.extend([queue_2[i] for i in range(len(queue_2)-1)])\n",
    "        a=queue_2[-1]\n",
    "        queue_2.clear()\n",
    "        queue_2,queue_1=queue_1,queue_2\n",
    "        queue_1.clear()\n",
    "        return a\n",
    "    return -1"
   ]
  },
  {
   "cell_type": "markdown",
   "metadata": {},
   "source": [
    "# 300\tStack Permutations (Check if an array is stack permutation of other)\n"
   ]
  },
  {
   "cell_type": "code",
   "execution_count": null,
   "metadata": {},
   "outputs": [],
   "source": [
    "def validStackPermutation(first, other):\n",
    "    #print(first,other)\n",
    "    #return 0\n",
    "    s=[]\n",
    "    a=0\n",
    "    for i in first:\n",
    "        s.append(i)\n",
    "        while(len(s)>0 and s[-1] == other[a]):\n",
    "            s.pop()\n",
    "            a+=1\n",
    "    if len(s)==0:\n",
    "        return 1\n",
    "    else:\n",
    "        return 0"
   ]
  },
  {
   "cell_type": "markdown",
   "metadata": {},
   "source": [
    "# 301\tImplement Queue using Stack  \n"
   ]
  },
  {
   "cell_type": "code",
   "execution_count": null,
   "metadata": {},
   "outputs": [],
   "source": [
    "stack1=[]\n",
    "stack2=[]\n",
    "def Push(x,stack1,stack2):\n",
    "\n",
    "    stack1.append(x)\n",
    "\n",
    "def Pop(stack1,stack2):\n",
    "\n",
    "    for i in range(len(stack1)-1):\n",
    "        stack2.append(stack1.pop())\n",
    "    if len(stack1)>0:\n",
    "        a=stack1.pop()\n",
    "    else:\n",
    "        return -1\n",
    "    \n",
    "    for i in range(len(stack2)):\n",
    "        stack1.append(stack2.pop())\n",
    "    \n",
    "    return a\n"
   ]
  }
 ],
 "metadata": {
  "kernelspec": {
   "display_name": "Python 3",
   "language": "python",
   "name": "python3"
  },
  "language_info": {
   "codemirror_mode": {
    "name": "ipython",
    "version": 3
   },
   "file_extension": ".py",
   "mimetype": "text/x-python",
   "name": "python",
   "nbconvert_exporter": "python",
   "pygments_lexer": "ipython3",
   "version": "3.7.3"
  }
 },
 "nbformat": 4,
 "nbformat_minor": 2
}
