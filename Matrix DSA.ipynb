{
 "cells": [
  {
   "cell_type": "markdown",
   "metadata": {},
   "source": [
    "# 38\tSearch an element in a matriix\n",
    "\n"
   ]
  },
  {
   "cell_type": "code",
   "execution_count": 89,
   "metadata": {},
   "outputs": [
    {
     "name": "stdout",
     "output_type": "stream",
     "text": [
      "3 4\n"
     ]
    }
   ],
   "source": [
    "import numpy as np\n",
    "n,m=np.shape(matrix)\n",
    "print(n,m)"
   ]
  },
  {
   "cell_type": "code",
   "execution_count": 88,
   "metadata": {},
   "outputs": [
    {
     "name": "stdout",
     "output_type": "stream",
     "text": [
      "1\n"
     ]
    }
   ],
   "source": [
    "matrix = [[1,3,5,7],[10,11,16,20],[23,30,34,60]]\n",
    "target = 3\n",
    "#print(matrix)\n",
    "target\n",
    "falg=0\n",
    "if matrix[0][0]>target or target>matrix[len(matrix)-1][len(matrix[0])-1]:\n",
    "    flag=0\n",
    "for i in range(len(matrix)):\n",
    "    #print(matrix[i][0])\n",
    "    if matrix[i][0]>target:\n",
    "        #print(\"if\")\n",
    "        break\n",
    "i=i-1\n",
    "#print('i= ',i)\n",
    "if target in matrix[i]:\n",
    "    flag=1\n",
    "else:\n",
    "    flag=0\n",
    "if target in matrix[len(matrix)-1]:\n",
    "    flag=1\n",
    "print( flag)"
   ]
  },
  {
   "cell_type": "markdown",
   "metadata": {},
   "source": [
    "# 40\tFind row with maximum no. of 1's\n"
   ]
  },
  {
   "cell_type": "code",
   "execution_count": 440,
   "metadata": {},
   "outputs": [],
   "source": [
    "arr=    [[0, 1, 1, 1],\n",
    "         [0, 0, 1, 1],\n",
    "         [1, 1, 1, 1],\n",
    "         [0, 0, 0, 0]]"
   ]
  },
  {
   "cell_type": "code",
   "execution_count": 465,
   "metadata": {},
   "outputs": [
    {
     "name": "stdout",
     "output_type": "stream",
     "text": [
      "arr[i][n] n=3 i=3 0\n",
      "arr[i][n] n=3 i=2 1\n",
      "arr[i][n] n=2 i=2 1\n",
      "arr[i][n] n=1 i=2 1\n",
      "0 2\n",
      "4\n",
      "maxx 2\n"
     ]
    }
   ],
   "source": [
    "def rowWithMax1s(self,arr, n, m):\n",
    "    re=0\n",
    "    result=0\n",
    "    ix=0\n",
    "    for i in range(len(arr)):\n",
    "        re=sum(arr[i])\n",
    "        #print(re,'re',i)\n",
    "        if re>result:\n",
    "            result=re\n",
    "            ix=i\n",
    "    if result==0:\n",
    "        return -1\n",
    "    return (ix)"
   ]
  }
 ],
 "metadata": {
  "kernelspec": {
   "display_name": "Python 3",
   "language": "python",
   "name": "python3"
  },
  "language_info": {
   "codemirror_mode": {
    "name": "ipython",
    "version": 3
   },
   "file_extension": ".py",
   "mimetype": "text/x-python",
   "name": "python",
   "nbconvert_exporter": "python",
   "pygments_lexer": "ipython3",
   "version": "3.7.3"
  }
 },
 "nbformat": 4,
 "nbformat_minor": 2
}
