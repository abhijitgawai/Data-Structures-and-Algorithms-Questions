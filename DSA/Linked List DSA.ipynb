{
 "cells": [
  {
   "cell_type": "markdown",
   "metadata": {},
   "source": [
    "# Linked List\n"
   ]
  },
  {
   "cell_type": "code",
   "execution_count": 129,
   "metadata": {
    "collapsed": true
   },
   "outputs": [
    {
     "ename": "SyntaxError",
     "evalue": "invalid syntax (<ipython-input-129-cd8bcab23165>, line 1)",
     "output_type": "error",
     "traceback": [
      "\u001b[1;36m  File \u001b[1;32m\"<ipython-input-129-cd8bcab23165>\"\u001b[1;36m, line \u001b[1;32m1\u001b[0m\n\u001b[1;33m    https://github.com/codebasics/data-structures-algorithms-python/blame/f167a92cca1822bcf74d907d161bac7f52e8afe2/data_structures/3_LinkedList/3_linked_list.py#L34\u001b[0m\n\u001b[1;37m           ^\u001b[0m\n\u001b[1;31mSyntaxError\u001b[0m\u001b[1;31m:\u001b[0m invalid syntax\n"
     ]
    }
   ],
   "source": [
    "https://github.com/codebasics/data-structures-algorithms-python/blame/f167a92cca1822bcf74d907d161bac7f52e8afe2/data_structures/3_LinkedList/3_linked_list.py#L34\n",
    "https://www.geeksforgeeks.org/reverse-a-linked-list/"
   ]
  },
  {
   "cell_type": "code",
   "execution_count": 188,
   "metadata": {},
   "outputs": [
    {
     "name": "stdout",
     "output_type": "stream",
     "text": [
      "deque([1, 2, 3, 4])\n",
      "1\n",
      "2\n",
      "3\n",
      "4\n",
      "4 deque([1, 2, 3])\n"
     ]
    }
   ],
   "source": [
    "from collections import deque\n",
    "d = deque([1,2,3,4])\n",
    "\n",
    "print (d)\n",
    "for x in d:\n",
    "    print (x)\n",
    "print (d.pop(), d)"
   ]
  },
  {
   "cell_type": "code",
   "execution_count": 189,
   "metadata": {},
   "outputs": [
    {
     "name": "stdout",
     "output_type": "stream",
     "text": [
      "elements in the linked_list:\n",
      "deque(['first', 'second', 'third'])\n",
      "elements in the linked_list:\n",
      "deque(['first', 'fourth', 'second', 'third'])\n",
      "elements in the linked_list:\n",
      "deque(['first', 'fourth', 'second'])\n",
      "elements in the linked_list:\n",
      "deque(['first', 'second'])\n"
     ]
    }
   ],
   "source": [
    "# importing module\n",
    "import collections\n",
    "\n",
    "# initialising a deque() of arbitary length\n",
    "linked_lst = collections.deque()\n",
    "\n",
    "# filling deque() with elements\n",
    "linked_lst.append('first')\n",
    "linked_lst.append('second')\n",
    "linked_lst.append('third')\n",
    "\n",
    "print(\"elements in the linked_list:\")\n",
    "print(linked_lst)\n",
    "\n",
    "# adding element at an arbitary position\n",
    "linked_lst.insert(1, 'fourth')\n",
    "\n",
    "print(\"elements in the linked_list:\")\n",
    "print(linked_lst)\n",
    "\n",
    "# deleting the last element\n",
    "linked_lst.pop()\n",
    "\n",
    "print(\"elements in the linked_list:\")\n",
    "print(linked_lst)\n",
    "\n",
    "# removing a specific element\n",
    "linked_lst.remove('fourth')\n",
    "\n",
    "print(\"elements in the linked_list:\")\n",
    "print(linked_lst)\n"
   ]
  },
  {
   "cell_type": "code",
   "execution_count": 190,
   "metadata": {},
   "outputs": [
    {
     "data": {
      "text/plain": [
       "['__add__',\n",
       " '__bool__',\n",
       " '__class__',\n",
       " '__contains__',\n",
       " '__copy__',\n",
       " '__delattr__',\n",
       " '__delitem__',\n",
       " '__dir__',\n",
       " '__doc__',\n",
       " '__eq__',\n",
       " '__format__',\n",
       " '__ge__',\n",
       " '__getattribute__',\n",
       " '__getitem__',\n",
       " '__gt__',\n",
       " '__hash__',\n",
       " '__iadd__',\n",
       " '__imul__',\n",
       " '__init__',\n",
       " '__init_subclass__',\n",
       " '__iter__',\n",
       " '__le__',\n",
       " '__len__',\n",
       " '__lt__',\n",
       " '__mul__',\n",
       " '__ne__',\n",
       " '__new__',\n",
       " '__reduce__',\n",
       " '__reduce_ex__',\n",
       " '__repr__',\n",
       " '__reversed__',\n",
       " '__rmul__',\n",
       " '__setattr__',\n",
       " '__setitem__',\n",
       " '__sizeof__',\n",
       " '__str__',\n",
       " '__subclasshook__',\n",
       " 'append',\n",
       " 'appendleft',\n",
       " 'clear',\n",
       " 'copy',\n",
       " 'count',\n",
       " 'extend',\n",
       " 'extendleft',\n",
       " 'index',\n",
       " 'insert',\n",
       " 'maxlen',\n",
       " 'pop',\n",
       " 'popleft',\n",
       " 'remove',\n",
       " 'reverse',\n",
       " 'rotate']"
      ]
     },
     "execution_count": 190,
     "metadata": {},
     "output_type": "execute_result"
    }
   ],
   "source": [
    "dir(deque)"
   ]
  },
  {
   "cell_type": "code",
   "execution_count": 193,
   "metadata": {},
   "outputs": [
    {
     "name": "stdout",
     "output_type": "stream",
     "text": [
      "1\n",
      "2\n",
      "3\n"
     ]
    }
   ],
   "source": [
    "# A simple Python program for traversal of a linked list\n",
    "\n",
    "# Node class\n",
    "class Node:\n",
    "\n",
    "\t# Function to initialise the node object\n",
    "\tdef __init__(self, data):\n",
    "\t\tself.data = data # Assign data\n",
    "\t\tself.next = None # Initialize next as null\n",
    "\n",
    "\n",
    "# Linked List class contains a Node object\n",
    "class LinkedList:\n",
    "\n",
    "\t# Function to initialize head\n",
    "\tdef __init__(self):\n",
    "\t\tself.head = None\n",
    "\n",
    "\t# This function prints contents of linked list\n",
    "\t# starting from head\n",
    "\tdef printList(self):\n",
    "\t\ttemp = self.head\n",
    "\t\twhile (temp):\n",
    "\t\t\tprint (temp.data)\n",
    "\t\t\ttemp = temp.next\n",
    "\n",
    "\n",
    "# Code execution starts here\n",
    "\n",
    "\n",
    "# Start with the empty list\n",
    "llist = LinkedList()\n",
    "\n",
    "llist.head = Node(1)\n",
    "second = Node(2)\n",
    "third = Node(3)\n",
    "\n",
    "llist.head.next = second; # Link first node with second\n",
    "second.next = third; # Link second node with the third node\n",
    "\n",
    "llist.printList()\n"
   ]
  },
  {
   "cell_type": "code",
   "execution_count": 127,
   "metadata": {},
   "outputs": [
    {
     "name": "stdout",
     "output_type": "stream",
     "text": [
      "11\n",
      "12\n",
      "13\n",
      "11 -> 12 -> 13 -> 14 -> \n",
      "\n",
      "14\n",
      "1\n",
      "2\n",
      "3\n",
      "4\n",
      "get_len() 9\n",
      "7 -> 11 -> 12 -> 13 -> 14 -> 1 -> 2 -> 3 -> 4 -> 5 -> \n",
      "\n",
      "7 -> 11 -> 13 -> 14 -> 1 -> 2 -> 3 -> 4 -> 5 -> \n",
      "\n"
     ]
    }
   ],
   "source": [
    "'''self 2nd try'''\n",
    "class Node:\n",
    "    def __init__(self,new_data=None,next=None):     #taking next here is very important, while adding new node this is imp shotcut\n",
    "        self.data=new_data\n",
    "        self.next=None\n",
    "class LinkedListt():\n",
    "    def __init__(self):\n",
    "        self.head=None\n",
    "        \n",
    "    def append_at_end(self,data):\n",
    "        if self.head==None:\n",
    "            self.head=Node(data,None)\n",
    "            return\n",
    "        else:\n",
    "            h=self.head\n",
    "            while(h.next):\n",
    "                h=h.next\n",
    "            print(h.data)\n",
    "            h.next=Node(data,None)\n",
    "            #print(h.data)\n",
    "            return\n",
    "    \n",
    "    def print(self):\n",
    "        if self.head==None:\n",
    "            print('LL has no element form print')\n",
    "            return\n",
    "        else:\n",
    "            h=self.head\n",
    "            while(h):\n",
    "                print(h.data,'->',end=' ')\n",
    "                h=h.next\n",
    "        print('\\n')\n",
    "    \n",
    "    def get_len(self):\n",
    "        h=self.head\n",
    "        if h==None:\n",
    "            print('ll has length 0')\n",
    "        else:\n",
    "            cnt=0\n",
    "            while(h):\n",
    "                h=h.next\n",
    "                cnt+=1\n",
    "            print('get_len()',cnt)\n",
    "        return cnt\n",
    "        \n",
    "    def insert_at_begining(self,data):\n",
    "        h=self.head\n",
    "        temp=Node(data)\n",
    "        temp.next=self.head\n",
    "        self.head=temp\n",
    "        \n",
    "    def insert_at(self,key,data):            #write this again\n",
    "        h=self.head\n",
    "        n=0\n",
    "        if key<0 or self.get_len()<key:\n",
    "            print('You are inserting element at invalid key')\n",
    "            return\n",
    "        if key==0:\n",
    "            self.insert_at_begining(data)\n",
    "            return \n",
    "        while(h):\n",
    "            print('h.data',h.data)\n",
    "            p=h.next\n",
    "            if (n==key-1):\n",
    "                n+=1\n",
    "                print('if wala h.data',h.data)\n",
    "                print('h.next.data',h.next.data)\n",
    "                t=Node(data,p)\n",
    "                h.next=t\n",
    "                print('runned on if of insert_at')\n",
    "                \n",
    "            h=h.next\n",
    "            \n",
    "            n+=1\n",
    "        return\n",
    "    \n",
    "    def remove_at(self,key):\n",
    "        h=self.head\n",
    "        n=0\n",
    "        while(h):\n",
    "            n+=1\n",
    "            h=h.next\n",
    "            if n==key-1:\n",
    "                break     \n",
    "        h.next=h.next.next\n",
    "        \n",
    "            \n",
    "    def insert_values(self,arraay):\n",
    "        h=self.head\n",
    "        for i in arraay:\n",
    "            t=self.append_at_end(i)\n",
    "        \n",
    "        \n",
    "    \n",
    "        \n",
    "a=LinkedListt()\n",
    "a.insert_values([11,12,13,14])\n",
    "a.print()\n",
    "a.append_at_end(1)\n",
    "a.append_at_end(2)\n",
    "a.append_at_end(3)\n",
    "a.append_at_end(4)\n",
    "a.append_at_end(5)\n",
    "#a.print()\n",
    "a.get_len()\n",
    "a.insert_at_begining(7)\n",
    "a.print()\n",
    "a.remove_at(2)\n",
    "#a.insert_at(2,9)\n",
    "a.print()"
   ]
  },
  {
   "cell_type": "code",
   "execution_count": 211,
   "metadata": {},
   "outputs": [
    {
     "name": "stdout",
     "output_type": "stream",
     "text": [
      "3 -> \n",
      "\n",
      "3 -> 4 -> 5 -> 6 -> 7 -> 8 -> 9 -> \n",
      "\n",
      "3 -> 5 -> 6 -> 7 -> 8 -> 9 -> \n",
      "\n",
      "3 -> 5 -> 6 -> 11 -> 8 -> 9 -> \n",
      "\n",
      "3 -> 5 -> 6 -> 11 -> 8 -> 9 -> 22 -> 33 -> 44 -> \n",
      "\n",
      "44 -> 33 -> 22 -> 9 -> 8 -> 11 -> 6 -> 5 -> 3 -> \n",
      "\n",
      "<__main__.Node object at 0x000002AF453019B0>\n"
     ]
    }
   ],
   "source": [
    "'''3rd try, All done, Only edge cases,exception not handled'''\n",
    "class Node:\n",
    "    def __init__(self,data,next=None):\n",
    "        self.data=data\n",
    "        self.next=next\n",
    "        \n",
    "class Linkkedlist:\n",
    "    def __init__(self):\n",
    "        self.head=None\n",
    "    \n",
    "    def print_ll(self):\n",
    "        h=self.head\n",
    "        while(h):\n",
    "            print(h.data,'->',end=' ')\n",
    "            h=h.next\n",
    "        print('\\n')\n",
    "    def insert_at_begggg(self,key):\n",
    "        t=Node(key,self.head)\n",
    "        self.head=t\n",
    "    \n",
    "    def insert_at_eend(self,key):\n",
    "        h=self.head\n",
    "        while(h.next):\n",
    "            h=h.next\n",
    "        h.next=Node(key,None)\n",
    "        \n",
    "    def gget_len(self):\n",
    "        h=self.head\n",
    "        cnt=0\n",
    "        while(h):\n",
    "            h=h.next\n",
    "            cnt+=1\n",
    "        #print(cnt)\n",
    "        return cnt\n",
    "    \n",
    "    def remmove_at(self,key):\n",
    "        h=self.head\n",
    "        while(h.next.data!=key):\n",
    "            h=h.next()\n",
    "        h.next=h.next.next\n",
    "        \n",
    "    def insert_Values(self,llist):\n",
    "        for i in llist:\n",
    "            self.insert_at_eend(i)\n",
    "        \n",
    "    def insert_aat(self,ddata,ix):\n",
    "        n=0\n",
    "        h=self.head\n",
    "        while(not(n==ix-1)):\n",
    "            h=h.next\n",
    "            n+=1\n",
    "        h.next=Node(ddata,h.next.next)\n",
    "        \n",
    "    def rreverse(self):\n",
    "        curr=self.head\n",
    "        prev=None\n",
    "        while(curr):\n",
    "            nextt=curr.next\n",
    "            curr.next=prev\n",
    "            prev=curr            \n",
    "            curr=nextt\n",
    "        self.head=prev\n",
    "    \n",
    "        \n",
    "    \n",
    "xy=Linkkedlist()\n",
    "xy.insert_at_begggg(3)\n",
    "xy.print_ll()\n",
    "xy.insert_at_eend(4)\n",
    "xy.insert_at_eend(5)\n",
    "xy.insert_at_eend(6)\n",
    "xy.insert_at_eend(7)\n",
    "xy.insert_at_eend(8)\n",
    "xy.insert_at_eend(9)\n",
    "xy.print_ll()\n",
    "xy.remmove_at(4)\n",
    "xy.gget_len()\n",
    "xy.print_ll()\n",
    "xy.insert_aat(11,3)\n",
    "xy.print_ll()\n",
    "xy.insert_Values([22,33,44])\n",
    "xy.print_ll()\n",
    "xy.rreverse()\n",
    "xy.print_ll()\n",
    "print(xy.head)\n",
    "# print(Node(1))\n",
    "# print(Node(1).data)   #new node gets created ListNode{val: 1, next: None}"
   ]
  },
  {
   "cell_type": "markdown",
   "metadata": {},
   "source": [
    "# 130\tWrite a Program to reverse the Linked List. (Both Iterative and recursive)\n"
   ]
  },
  {
   "cell_type": "code",
   "execution_count": null,
   "metadata": {},
   "outputs": [],
   "source": [
    "    def rreverse(self):\n",
    "        curr=self.head\n",
    "        prev=None\n",
    "        while(curr):\n",
    "            nextt=curr.next\n",
    "            curr.next=prev\n",
    "            prev=curr            \n",
    "            curr=nextt\n",
    "        self.head=prev"
   ]
  },
  {
   "cell_type": "code",
   "execution_count": null,
   "metadata": {},
   "outputs": [],
   "source": [
    "'''one line'''\n",
    "def reverseList(self, head):\n",
    "    prev = None\n",
    "    while head:\n",
    "        head.next, prev, head = prev, head, head.next\n",
    "    return new_head"
   ]
  },
  {
   "cell_type": "code",
   "execution_count": 281,
   "metadata": {
    "collapsed": true
   },
   "outputs": [
    {
     "name": "stdout",
     "output_type": "stream",
     "text": [
      "1 -> 2 -> 3 -> 4 -> 5 -> 6 -> 7 -> 8 -> 9 -> 10 -> 11 -> 12 -> 13 -> 14 -> 15 -> 16 -> \n",
      "\n"
     ]
    },
    {
     "ename": "RecursionError",
     "evalue": "maximum recursion depth exceeded in comparison",
     "output_type": "error",
     "traceback": [
      "\u001b[1;31m---------------------------------------------------------------------------\u001b[0m",
      "\u001b[1;31mRecursionError\u001b[0m                            Traceback (most recent call last)",
      "\u001b[1;32m<ipython-input-281-e235a57c2b70>\u001b[0m in \u001b[0;36m<module>\u001b[1;34m\u001b[0m\n\u001b[0;32m     57\u001b[0m \u001b[0mxy\u001b[0m\u001b[1;33m.\u001b[0m\u001b[0minsert_Values\u001b[0m\u001b[1;33m(\u001b[0m\u001b[1;33m[\u001b[0m\u001b[0mi\u001b[0m \u001b[1;32mfor\u001b[0m \u001b[0mi\u001b[0m \u001b[1;32min\u001b[0m \u001b[0mrange\u001b[0m\u001b[1;33m(\u001b[0m\u001b[1;36m2\u001b[0m\u001b[1;33m,\u001b[0m\u001b[1;36m17\u001b[0m\u001b[1;33m)\u001b[0m\u001b[1;33m]\u001b[0m\u001b[1;33m)\u001b[0m\u001b[1;33m\u001b[0m\u001b[1;33m\u001b[0m\u001b[0m\n\u001b[0;32m     58\u001b[0m \u001b[0mxy\u001b[0m\u001b[1;33m.\u001b[0m\u001b[0mprint_ll\u001b[0m\u001b[1;33m(\u001b[0m\u001b[1;33m)\u001b[0m\u001b[1;33m\u001b[0m\u001b[1;33m\u001b[0m\u001b[0m\n\u001b[1;32m---> 59\u001b[1;33m \u001b[0mxy\u001b[0m\u001b[1;33m.\u001b[0m\u001b[0mreeverse_k\u001b[0m\u001b[1;33m(\u001b[0m\u001b[0mxy\u001b[0m\u001b[1;33m.\u001b[0m\u001b[0mhead\u001b[0m\u001b[1;33m,\u001b[0m\u001b[1;36m4\u001b[0m\u001b[1;33m)\u001b[0m\u001b[1;33m\u001b[0m\u001b[1;33m\u001b[0m\u001b[0m\n\u001b[0m\u001b[0;32m     60\u001b[0m \u001b[0mxy\u001b[0m\u001b[1;33m.\u001b[0m\u001b[0mprint_ll\u001b[0m\u001b[1;33m(\u001b[0m\u001b[1;33m)\u001b[0m\u001b[1;33m\u001b[0m\u001b[1;33m\u001b[0m\u001b[0m\n",
      "\u001b[1;32m<ipython-input-281-e235a57c2b70>\u001b[0m in \u001b[0;36mreeverse_k\u001b[1;34m(self, head, ke)\u001b[0m\n\u001b[0;32m     42\u001b[0m \u001b[1;33m\u001b[0m\u001b[0m\n\u001b[0;32m     43\u001b[0m             \u001b[1;32mif\u001b[0m \u001b[0mnextt\u001b[0m\u001b[1;33m:\u001b[0m\u001b[1;33m\u001b[0m\u001b[1;33m\u001b[0m\u001b[0m\n\u001b[1;32m---> 44\u001b[1;33m                 \u001b[0mhead\u001b[0m\u001b[1;33m.\u001b[0m\u001b[0mnext\u001b[0m\u001b[1;33m=\u001b[0m\u001b[0mself\u001b[0m\u001b[1;33m.\u001b[0m\u001b[0mreeverse_k\u001b[0m\u001b[1;33m(\u001b[0m\u001b[0mnextt\u001b[0m\u001b[1;33m,\u001b[0m\u001b[0mke\u001b[0m\u001b[1;33m)\u001b[0m\u001b[1;33m\u001b[0m\u001b[1;33m\u001b[0m\u001b[0m\n\u001b[0m\u001b[0;32m     45\u001b[0m         \u001b[1;32mreturn\u001b[0m \u001b[0mprev\u001b[0m\u001b[1;33m\u001b[0m\u001b[1;33m\u001b[0m\u001b[0m\n\u001b[0;32m     46\u001b[0m \u001b[1;33m\u001b[0m\u001b[0m\n",
      "... last 1 frames repeated, from the frame below ...\n",
      "\u001b[1;32m<ipython-input-281-e235a57c2b70>\u001b[0m in \u001b[0;36mreeverse_k\u001b[1;34m(self, head, ke)\u001b[0m\n\u001b[0;32m     42\u001b[0m \u001b[1;33m\u001b[0m\u001b[0m\n\u001b[0;32m     43\u001b[0m             \u001b[1;32mif\u001b[0m \u001b[0mnextt\u001b[0m\u001b[1;33m:\u001b[0m\u001b[1;33m\u001b[0m\u001b[1;33m\u001b[0m\u001b[0m\n\u001b[1;32m---> 44\u001b[1;33m                 \u001b[0mhead\u001b[0m\u001b[1;33m.\u001b[0m\u001b[0mnext\u001b[0m\u001b[1;33m=\u001b[0m\u001b[0mself\u001b[0m\u001b[1;33m.\u001b[0m\u001b[0mreeverse_k\u001b[0m\u001b[1;33m(\u001b[0m\u001b[0mnextt\u001b[0m\u001b[1;33m,\u001b[0m\u001b[0mke\u001b[0m\u001b[1;33m)\u001b[0m\u001b[1;33m\u001b[0m\u001b[1;33m\u001b[0m\u001b[0m\n\u001b[0m\u001b[0;32m     45\u001b[0m         \u001b[1;32mreturn\u001b[0m \u001b[0mprev\u001b[0m\u001b[1;33m\u001b[0m\u001b[1;33m\u001b[0m\u001b[0m\n\u001b[0;32m     46\u001b[0m \u001b[1;33m\u001b[0m\u001b[0m\n",
      "\u001b[1;31mRecursionError\u001b[0m: maximum recursion depth exceeded in comparison"
     ]
    }
   ],
   "source": [
    "class Node:\n",
    "    def __init__(self,data,next=None):\n",
    "        self.data=data\n",
    "        self.next=next\n",
    "        \n",
    "class Linkkedlist:\n",
    "    def reeverse_k(self,head,ke):\n",
    "        cnt=0\n",
    "        curr=self.head\n",
    "        prev=None\n",
    "        while(curr and cnt<ke):\n",
    "            \n",
    "            nextt=curr.next\n",
    "            curr.next=prev\n",
    "            prev=curr                 \n",
    "            curr=nextt\n",
    "            cnt+=1\n",
    "            \n",
    "            if nextt:\n",
    "                head.next=self.reeverse_k(nextt,ke)\n",
    "        return prev\n",
    "    def __init__(self):\n",
    "        self.head=None\n",
    "    \n",
    "    def print_ll(self):\n",
    "        h=self.head\n",
    "        while(h):\n",
    "            print(h.data,'->',end=' ')\n",
    "            h=h.next\n",
    "        print('\\n')\n",
    "        \n",
    "    def insert_at_begggg(self,key):\n",
    "        t=Node(key,self.head)\n",
    "        self.head=t\n",
    "    \n",
    "    def insert_at_eend(self,key):\n",
    "        h=self.head\n",
    "        while(h.next):\n",
    "            h=h.next\n",
    "        h.next=Node(key,None)\n",
    "    \n",
    "    def insert_Values(self,llist):\n",
    "        for i in llist:\n",
    "            self.insert_at_eend(i)\n",
    "\n",
    "\n",
    "         \n",
    "xy=Linkkedlist()\n",
    "xy.insert_at_begggg(1)\n",
    "xy.insert_Values([i for i in range(2,17)])\n",
    "xy.print_ll()\n",
    "xy.reeverse_k(xy.head,4)\n",
    "xy.print_ll()"
   ]
  },
  {
   "cell_type": "code",
   "execution_count": null,
   "metadata": {},
   "outputs": [],
   "source": [
    "def reverse(self, head):\n",
    "    if head is None or head.next is None:\n",
    "        return head\n",
    "    rest = self.reverse(head.next)\n",
    "    head.next.next = head\n",
    "    head.next = None\n",
    "    return rest"
   ]
  },
  {
   "cell_type": "code",
   "execution_count": 302,
   "metadata": {},
   "outputs": [
    {
     "name": "stdout",
     "output_type": "stream",
     "text": [
      "1 -> 2 -> 3 -> 4 -> 5 -> 6 -> 7 -> 8 -> 9 -> 10 -> 11 -> 12 -> 13 -> 14 -> 15 -> 16 -> \n",
      "\n",
      "1\n",
      "1 -> 2 -> 3 -> 4 -> 5 -> 6 -> 7 -> 8 -> 9 -> 10 -> 11 -> 12 -> 13 -> 14 -> 15 -> 16 -> \n",
      "\n"
     ]
    }
   ],
   "source": [
    "'''3rd try, All done, Only edge cases,exception not handled'''\n",
    "global aaa\n",
    "class Node:\n",
    "    def __init__(self,data,next=None):\n",
    "        self.data=data\n",
    "        self.next=next\n",
    "        \n",
    "class Linkkedlist:\n",
    "    def __init__(self):\n",
    "        self.head=None\n",
    "    \n",
    "    def print_ll(self):\n",
    "        h=self.head\n",
    "        while(h):\n",
    "            print(h.data,'->',end=' ')\n",
    "            h=h.next\n",
    "        print('\\n')\n",
    "    def insert_at_begggg(self,key):\n",
    "        t=Node(key,self.head)\n",
    "        self.head=t\n",
    "    \n",
    "    def insert_at_eend(self,key):\n",
    "        h=self.head\n",
    "        while(h.next):\n",
    "            h=h.next\n",
    "        h.next=Node(key,None)\n",
    "        \n",
    "    def gget_len(self):\n",
    "        h=self.head\n",
    "        cnt=0\n",
    "        while(h):\n",
    "            h=h.next\n",
    "            cnt+=1\n",
    "        #print(cnt)\n",
    "        return cnt\n",
    "    \n",
    "    def remmove_at(self,key):\n",
    "        h=self.head\n",
    "        while(h.next.data!=key):\n",
    "            h=h.next()\n",
    "        h.next=h.next.next\n",
    "        \n",
    "    def insert_Values(self,llist):\n",
    "        for i in llist:\n",
    "            self.insert_at_eend(i)\n",
    "        \n",
    "    def insert_aat(self,ddata,ix):\n",
    "        n=0\n",
    "        h=self.head\n",
    "        while(not(n==ix-1)):\n",
    "            h=h.next\n",
    "            n+=1\n",
    "        h.next=Node(ddata,h.next.next)\n",
    "        \n",
    "    def reeverse_k(self):\n",
    "        import collections\n",
    "        aaa = collections.deque()\n",
    "        h=self.head\n",
    "        while(h):\n",
    "            aaa.append(h)\n",
    "            h=h.next\n",
    "        \n",
    "\n",
    "    \n",
    "        \n",
    "    \n",
    "xy=Linkkedlist()\n",
    "xy.insert_at_begggg(1)\n",
    "xy.insert_Values([i for i in range(2,17)])\n",
    "xy.print_ll()\n",
    "xy.reeverse_k()\n",
    "xy.print_ll()\n"
   ]
  },
  {
   "cell_type": "markdown",
   "metadata": {},
   "source": [
    "# 132\tWrite a program to Detect loop in a linked list.\n"
   ]
  },
  {
   "cell_type": "code",
   "execution_count": null,
   "metadata": {},
   "outputs": [],
   "source": [
    "    def detectLoop(self, head):\n",
    "        \n",
    "        h=head\n",
    "        slow=h\n",
    "        fast=h\n",
    "        \n",
    "        while(slow and fast and fast.next and fast.next.next):\n",
    "            slow=slow.next\n",
    "            fast=fast.next.next\n",
    "            if slow==fast:\n",
    "                return True\n",
    "        return False"
   ]
  },
  {
   "cell_type": "code",
   "execution_count": null,
   "metadata": {},
   "outputs": [],
   "source": [
    "       Consider the following linked list, where E is the cylce entry and X, the crossing point of fast and slow.\n",
    "        H: distance from head to cycle entry E\n",
    "        D: distance from E to X\n",
    "        L: cycle length   _____\n",
    "                         /     \\\n",
    "        head_____H______E       \\\n",
    "                        \\       /\n",
    "                         X_____/   \n",
    "        If fast and slow both start at head, when fast catches slow, slow has traveled H+D and fast 2(H+D). \n",
    "        Assume fast has traveled n loops in the cycle, we have:\n",
    "        2H + 2D = H + D + L  -->  H + D = nL  --> H = nL - D\n",
    "        Thus if two pointers start from head and X, respectively, one first reaches E, the other also reaches E. \n",
    "        In my solution, since fast starts at head.next, we need to move slow one step forward in the beginning of part 2\n",
    "\n",
    "class Solution:\n",
    "    def detectCycle(self, head):\n",
    "        try:\n",
    "            fast = head.next\n",
    "            slow = head\n",
    "            while fast is not slow:\n",
    "                fast = fast.next.next\n",
    "                slow = slow.next\n",
    "        except:\n",
    "            return None\n",
    "\n",
    "        slow = slow.next\n",
    "        while head is not slow:\n",
    "            head = head.next\n",
    "            slow = slow.next\n",
    "\n",
    "        return head"
   ]
  },
  {
   "cell_type": "code",
   "execution_count": 4,
   "metadata": {},
   "outputs": [
    {
     "data": {
      "text/plain": [
       "[1, 2, 5]"
      ]
     },
     "execution_count": 4,
     "metadata": {},
     "output_type": "execute_result"
    }
   ],
   "source": [
    "b=[1,2,3,3,4,4,5]\n",
    "from collections import Counter\n",
    "z=[]\n",
    "c=Counter(b)\n",
    "for i in c:\n",
    "    if c[i]<2:\n",
    "        z.append(i)\n",
    "z"
   ]
  },
  {
   "cell_type": "markdown",
   "metadata": {},
   "source": [
    "# 133\tWrite a program to Delete loop in a linked list.\n"
   ]
  },
  {
   "cell_type": "code",
   "execution_count": 304,
   "metadata": {},
   "outputs": [],
   "source": [
    "    def removeLoop(self, head):\n",
    "        s=set()\n",
    "        h=head\n",
    "        prev=h\n",
    "        while(h):\n",
    "            \n",
    "            if h in s:\n",
    "                #print('rep data',h.data)\n",
    "                \n",
    "                prev.next=None                            #here we have terminated the loop\n",
    "                #print('prev',prev.data)\n",
    "                return 1\n",
    "                break\n",
    "            s.add(h)\n",
    "            prev=h\n",
    "            h=h.next\n",
    "            #print(h.data)\n",
    "        return 0"
   ]
  },
  {
   "cell_type": "markdown",
   "metadata": {},
   "source": [
    "# 134\tFind the starting point of the loop. \n"
   ]
  },
  {
   "cell_type": "code",
   "execution_count": 303,
   "metadata": {},
   "outputs": [],
   "source": [
    "'''https://www.geeksforgeeks.org/find-first-node-of-loop-in-a-linked-list/\n",
    "Floyd’s Cycle finding algorithm\n",
    "not MY\n",
    "\n",
    "M2-can be found by set method also like que 133'''\n",
    "def detectAndRemoveLoop(head):\n",
    "     \n",
    "    # If list is empty or has only one node\n",
    "    # without loop\n",
    "    if (head == None or head.next == None):\n",
    "        return None\n",
    "  \n",
    "    slow = head\n",
    "    fast = head\n",
    "  \n",
    "    # Move slow and fast 1 and 2 steps\n",
    "    # ahead respectively.\n",
    "    slow = slow.next\n",
    "    fast = fast.next.next\n",
    "  \n",
    "    # Search for loop using slow and\n",
    "    # fast pointers\n",
    "    while (fast and fast.next):\n",
    "        if (slow == fast):\n",
    "            break\n",
    "         \n",
    "        slow = slow.next\n",
    "        fast = fast.next.next\n",
    "  \n",
    "    # If loop does not exist\n",
    "    if (slow != fast):\n",
    "        return None\n",
    "  \n",
    "    # If loop exists. Start slow from\n",
    "    # head and fast from meeting point.\n",
    "    slow = head\n",
    "     \n",
    "    while (slow != fast):\n",
    "        slow = slow.next\n",
    "        fast = fast.next\n",
    "  \n",
    "    return slow"
   ]
  },
  {
   "cell_type": "markdown",
   "metadata": {},
   "source": [
    "# 135\tRemove Duplicates in a sorted Linked List.\n"
   ]
  },
  {
   "cell_type": "code",
   "execution_count": 328,
   "metadata": {},
   "outputs": [],
   "source": [
    "def removeDuplicates(head):\n",
    "    #code here\n",
    "    \n",
    "        h=head\n",
    "        while(h and h.next):\n",
    "            if h.data==h.next.data:\n",
    "                if h.next.next:\n",
    "                    h.next=h.next.next\n",
    "                else:\n",
    "                    h.next=None\n",
    "                continue\n",
    "            h=h.next"
   ]
  },
  {
   "cell_type": "markdown",
   "metadata": {},
   "source": [
    "# 136\tRemove Duplicates in a Un-sorted Linked List.\n"
   ]
  },
  {
   "cell_type": "code",
   "execution_count": 326,
   "metadata": {},
   "outputs": [
    {
     "name": "stdout",
     "output_type": "stream",
     "text": [
      "1 -> 5 -> 2 -> 2 -> 6 -> 7 -> 8 -> \n",
      "\n",
      "{1, 2, 5, 6, 7, 8}\n",
      "1 -> 5 -> 2 -> 6 -> 7 -> 8 -> \n",
      "\n"
     ]
    }
   ],
   "source": [
    "            def removeDuplicates_unsorted(self):\n",
    "        h=self.head\n",
    "        s=set()\n",
    "        s.add(h.data)\n",
    "        while(h.next):\n",
    "            if h.next.data not in s:\n",
    "                s.add(h.next.data)\n",
    "            else:\n",
    "                h.next=h.next.next\n",
    "                continue\n",
    "            h=h.next\n"
   ]
  },
  {
   "cell_type": "markdown",
   "metadata": {},
   "source": [
    "# 137 Write a Program to Move the last element to Front in a Linked List.\n"
   ]
  },
  {
   "cell_type": "code",
   "execution_count": 6,
   "metadata": {},
   "outputs": [
    {
     "name": "stdout",
     "output_type": "stream",
     "text": [
      "1 -> 2 -> 3 -> 4 -> 5 -> 6 -> 7 -> 8 -> 9 -> 10 -> 11 -> 12 -> 13 -> 14 -> 15 -> 16 -> \n",
      "\n",
      "16 -> 1 -> 2 -> 3 -> 4 -> 5 -> 6 -> 7 -> 8 -> 9 -> 10 -> 11 -> 12 -> 13 -> 14 -> 15 -> \n",
      "\n"
     ]
    }
   ],
   "source": [
    "class Node:\n",
    "    def __init__(self,data,next=None):\n",
    "        self.data=data\n",
    "        self.next=next\n",
    "        \n",
    "class Linkkedlist:\n",
    "    def __init__(self):\n",
    "        self.head=None\n",
    "    \n",
    "    def print_ll(self):\n",
    "        h=self.head\n",
    "        while(h):\n",
    "            print(h.data,'->',end=' ')\n",
    "            h=h.next\n",
    "        print('\\n')\n",
    "    def insert_at_begggg(self,key):\n",
    "        t=Node(key,self.head)\n",
    "        self.head=t\n",
    "    \n",
    "    def insert_at_eend(self,key):\n",
    "        h=self.head\n",
    "        while(h.next):\n",
    "            h=h.next\n",
    "        h.next=Node(key,None)\n",
    "        \n",
    "    def gget_len(self):\n",
    "        h=self.head\n",
    "        cnt=0\n",
    "        while(h):\n",
    "            h=h.next\n",
    "            cnt+=1\n",
    "        return cnt\n",
    "    \n",
    "    def remmove_at(self,key):\n",
    "        h=self.head\n",
    "        while(h.next.data!=key):\n",
    "            h=h.next()\n",
    "        h.next=h.next.next\n",
    "        \n",
    "    def insert_Values(self,llist):\n",
    "        for i in llist:\n",
    "            self.insert_at_eend(i)\n",
    "        \n",
    "    def insert_aat(self,ddata,ix):\n",
    "        n=0\n",
    "        h=self.head\n",
    "        while(not(n==ix-1)):\n",
    "            h=h.next\n",
    "            n+=1\n",
    "        h.next=Node(ddata,h.next.next)\n",
    "        \n",
    "    def last2fast(self):\n",
    "        h=self.head\n",
    "        while(h.next.next):\n",
    "            last=h\n",
    "            h=h.next\n",
    "        h.next.next=self.head\n",
    "        self.head=h.next\n",
    "        h.next=None\n",
    "    \n",
    "xy=Linkkedlist()\n",
    "xy.insert_at_begggg(1)\n",
    "xy.insert_Values([i for i in range(2,17)])\n",
    "xy.print_ll()\n",
    "xy.last2fast()\n",
    "xy.print_ll()"
   ]
  },
  {
   "cell_type": "markdown",
   "metadata": {},
   "source": [
    "# 138\tAdd “1” to a number represented as a Linked List.\n"
   ]
  },
  {
   "cell_type": "code",
   "execution_count": 348,
   "metadata": {},
   "outputs": [
    {
     "name": "stdout",
     "output_type": "stream",
     "text": [
      "1\n",
      "2\n"
     ]
    }
   ],
   "source": [
    "'''MY'''\n",
    "def addOne(self,head):\n",
    "    #Returns new head of linked List.\n",
    "    h=head\n",
    "    a=''\n",
    "    b=LinkedList()\n",
    "\n",
    "    while(h):\n",
    "        a+=str(h.data)\n",
    "        h=h.next\n",
    "    #print(a)\n",
    "    b=int(a)+1\n",
    "    #print(int(a)+1)\n",
    "    bb=LinkedList()\n",
    "    for digit in enumerate(str(b)):\n",
    "        bb.insert(int(digit[1]))\n",
    "    return bb.head"
   ]
  },
  {
   "cell_type": "code",
   "execution_count": null,
   "metadata": {},
   "outputs": [],
   "source": [
    "'''using carry GFG'''\n",
    "def addOne(head):\n",
    "    head = reverseList(head)\n",
    "    k = head\n",
    "    carry = 0\n",
    "    prev = None\n",
    "    head.data += 1\n",
    "    while(head != None) and (head.data > 9 or carry > 0):\n",
    "        prev = head\n",
    "        head.data += carry\n",
    "        carry = head.data // 10\n",
    "        head.data = head.data % 10\n",
    "        head = head.next\n",
    " \n",
    "    if carry > 0:\n",
    "        prev.next = Node(carry)\n",
    "    return reverseList(k)"
   ]
  },
  {
   "cell_type": "code",
   "execution_count": null,
   "metadata": {},
   "outputs": [],
   "source": [
    "# Can also be solved using recurssion"
   ]
  },
  {
   "cell_type": "markdown",
   "metadata": {},
   "source": [
    "# 139\tAdd two numbers represented by linked lists.\n"
   ]
  },
  {
   "cell_type": "code",
   "execution_count": 352,
   "metadata": {},
   "outputs": [],
   "source": [
    "    def addTwoLists(self, first, second):\n",
    "        a=''\n",
    "        b=''\n",
    "        sec=second\n",
    "        fir=first\n",
    "        while(fir):\n",
    "            a+=str(fir.data)\n",
    "            fir=fir.next\n",
    "        while(sec):\n",
    "            b+=str(sec.data)\n",
    "            sec=sec.next    \n",
    "            \n",
    "        result= int(a)+int(b)\n",
    "        #print(result)\n",
    "        \n",
    "        bb=LinkedList()\n",
    "        for i in enumerate(str(result)):\n",
    "            bb.insert(int(i[1]))\n",
    "        return bb.head"
   ]
  },
  {
   "cell_type": "markdown",
   "metadata": {},
   "source": [
    "# 140\tIntersection of two Sorted Linked List.\n"
   ]
  },
  {
   "cell_type": "code",
   "execution_count": 359,
   "metadata": {},
   "outputs": [],
   "source": [
    "def findIntersection(head1,head2):\n",
    "    #return head\n",
    "    bb=linkedList()\n",
    "    while(head1!=None and head2!=None):\n",
    "\n",
    "        if head1.data==head2.data:\n",
    "            bb.insert(head1.data)\n",
    "            head2=head2.next\n",
    "            head1=head1.next\n",
    "            continue                                #writing continue in Linked list problem is very important\n",
    "        if head1.data<head2.data:\n",
    "            head1=head1.next\n",
    "            continue\n",
    "        if head1.data>head2.data:\n",
    "            head2=head2.next\n",
    "            continue\n",
    "            \n",
    "    return bb.head"
   ]
  },
  {
   "cell_type": "markdown",
   "metadata": {},
   "source": [
    "# 141\tIntersection Point of two Linked Lists.\n"
   ]
  },
  {
   "cell_type": "code",
   "execution_count": 370,
   "metadata": {},
   "outputs": [],
   "source": [
    "'''MY'''\n",
    "def intersetPoint(head1,head2):\n",
    "\n",
    "    s=set()\n",
    "    \n",
    "    while(head1!=None):\n",
    "        s.add(head1)\n",
    "        head1=head1.next\n",
    "    \n",
    "    while(head2!=None):\n",
    "        if head2 in s:\n",
    "            return head2.data\n",
    "            break\n",
    "        s.add(head2)\n",
    "        head2=head2.next\n",
    "    return -1"
   ]
  },
  {
   "cell_type": "code",
   "execution_count": null,
   "metadata": {},
   "outputs": [],
   "source": [
    "#leetcode copied better solution\n",
    "def getIntersectionNode(self, headA: ListNode, headB: ListNode) -> ListNode:\n",
    "    temp,curr=headA,headB\n",
    "    while temp!=None or curr!=None:\n",
    "        if curr==None:\n",
    "            curr=headA\n",
    "        if temp==None:\n",
    "            temp=headB\n",
    "        if temp==curr:\n",
    "            return temp\n",
    "        curr,temp=curr.next,temp.next\n",
    "    return None"
   ]
  },
  {
   "cell_type": "code",
   "execution_count": 7,
   "metadata": {
    "collapsed": true
   },
   "outputs": [
    {
     "ename": "SyntaxError",
     "evalue": "invalid syntax (<ipython-input-7-c1e021f94e17>, line 1)",
     "output_type": "error",
     "traceback": [
      "\u001b[1;36m  File \u001b[1;32m\"<ipython-input-7-c1e021f94e17>\"\u001b[1;36m, line \u001b[1;32m1\u001b[0m\n\u001b[1;33m    import gc  '''garbage collector'''\u001b[0m\n\u001b[1;37m                                     ^\u001b[0m\n\u001b[1;31mSyntaxError\u001b[0m\u001b[1;31m:\u001b[0m invalid syntax\n"
     ]
    }
   ],
   "source": [
    "import gc  '''garbage collector'''\n",
    "gc.collect()"
   ]
  },
  {
   "cell_type": "markdown",
   "metadata": {},
   "source": [
    "# 142\tMerge Sort For Linked lists.[Very Important]\n"
   ]
  },
  {
   "cell_type": "code",
   "execution_count": null,
   "metadata": {},
   "outputs": [],
   "source": [
    "#this cell has complete solution only\n",
    "def midd(self,head):         #returns mid\n",
    "    s=head\n",
    "    f=head\n",
    "    while(f.next is not None and f.next.next is not None):\n",
    "        s=s.next\n",
    "        f=f.next.next\n",
    "    return s   \n",
    "    \n",
    "def sortedMerge(self,a,b):   #print a sorted list of a and b, a is left, b is right\n",
    "\n",
    "    result=None\n",
    "    if a is None:\n",
    "        return b\n",
    "    if b is None:\n",
    "        return a\n",
    "        \n",
    "    if a.data<b.data:\n",
    "        result=a\n",
    "        result.next=sortedMerge(self,a.next,b)\n",
    "    else : #if a.data>b.data:\n",
    "        result=b\n",
    "        result.next=sortedMerge(self,a,b.next)\n",
    "    \n",
    "    return result\n",
    "\n",
    "class Solution:\n",
    "\n",
    "    def mergeSort(self, head):\n",
    "        if head == None or head.next == None:\t\n",
    "            return head\n",
    "        mid=midd(self,head)\n",
    "        #printList(mid)\n",
    "        \n",
    "        nexttomid=mid.next\n",
    "        mid.next=None\n",
    "        prevtomid=head\n",
    "        \n",
    "        left=self.mergeSort(prevtomid)\n",
    "        right=self.mergeSort(nexttomid)\n",
    "        \n",
    "        #printList(nexttomid)\n",
    "        #printList(prevtomid)\n",
    "        \n",
    "        resultt = sortedMerge(self,left,right)\n",
    "        return resultt"
   ]
  },
  {
   "cell_type": "code",
   "execution_count": 9,
   "metadata": {},
   "outputs": [
    {
     "name": "stdout",
     "output_type": "stream",
     "text": [
      "printList(nexttomid) pL : 1 7 6  \n",
      "printList(prevtotomid) pL : 3 5 2 4  \n",
      "printList(nexttomid) pL : 2 4  \n",
      "printList(prevtotomid) pL : 3 5  \n",
      "printList(nexttomid) pL : 5  \n",
      "printList(prevtotomid) pL : 3  \n",
      "printList(nexttomid) pL : 4  \n",
      "printList(prevtotomid) pL : 2  \n",
      "printList(nexttomid) pL : 6  \n",
      "printList(prevtotomid) pL : 1 7  \n",
      "printList(nexttomid) pL : 7  \n",
      "printList(prevtotomid) pL : 1  \n",
      "pL : 1 2 3 4 5 6 7  \n",
      "solution\n"
     ]
    }
   ],
   "source": [
    "#This is driver code only\n",
    "class Node:\n",
    "    def __init__(self, data):  # data -> value stored in node\n",
    "        self.data = data\n",
    "        self.next = None\n",
    "class LinkedList:\n",
    "    def __init__(self):\n",
    "        self.head = None\n",
    "        self.tail = None\n",
    "    def append(self, new_value):\n",
    "        new_node = Node(new_value)\n",
    "        if self.head is None:\n",
    "            self.head = new_node\n",
    "            self.tail = new_node    \n",
    "            return\n",
    "        self.tail.next = new_node\n",
    "        self.tail = new_node\n",
    "def printList(head):\n",
    "    if head is None:\n",
    "        print(' ')\n",
    "        return\n",
    "    curr_node = head\n",
    "    print('pL :',end=' ')\n",
    "    while curr_node:\n",
    "        print(curr_node.data,end=\" \")\n",
    "        curr_node=curr_node.next\n",
    "    print(' ')\n",
    "if __name__ == '__main__':\n",
    "        p = LinkedList() # create a new linked list 'a'.\n",
    "        nodes_p = list([3 ,5 ,2, 4 ,1 ,7,6])\n",
    "        for x in nodes_p:\n",
    "            p.append(x)  # add to the end of the list\n",
    "        printList(Solution().mergeSort(p.head))\n",
    "        print('solution')"
   ]
  },
  {
   "cell_type": "markdown",
   "metadata": {},
   "source": [
    "# 144\tFind the middle Element of a linked list.\n"
   ]
  },
  {
   "cell_type": "code",
   "execution_count": null,
   "metadata": {},
   "outputs": [],
   "source": [
    "def middleNode(self, head: ListNode) -> ListNode:\n",
    "    s=head\n",
    "    f=head\n",
    "    while(f is not None and f.next is not None):\n",
    "        s=s.next\n",
    "        f=f.next.next\n",
    "    return s"
   ]
  },
  {
   "cell_type": "markdown",
   "metadata": {},
   "source": [
    "# 145\tCheck if a linked list is a circular linked list.\n"
   ]
  },
  {
   "cell_type": "code",
   "execution_count": null,
   "metadata": {},
   "outputs": [],
   "source": [
    "def isCircular(head):\n",
    "    s=set()\n",
    "    cnt=0\n",
    "    while(head and cnt<101):\n",
    "        if head in s:\n",
    "            return 1\n",
    "            break\n",
    "        else:\n",
    "            cnt=cnt+1\n",
    "            s.add(head)\n",
    "            head=head.next\n",
    "    return 0"
   ]
  },
  {
   "cell_type": "markdown",
   "metadata": {},
   "source": [
    "# 147\tWrite a Program to check whether the Singly Linked list is a palindrome or not.\n"
   ]
  },
  {
   "cell_type": "code",
   "execution_count": 4,
   "metadata": {},
   "outputs": [],
   "source": [
    "def isPalindrome(self, head):\n",
    "    #code here\n",
    "    a=''\n",
    "    h=head\n",
    "    while(h):\n",
    "        a=a+str((h.data))\n",
    "        h=h.next\n",
    "    #print(a)\n",
    "    if a==a[::-1]:\n",
    "        return True\n",
    "    else:\n",
    "        return False"
   ]
  },
  {
   "cell_type": "markdown",
   "metadata": {},
   "source": [
    "# 148\tDeletion from a Circular Linked List.\n"
   ]
  },
  {
   "cell_type": "code",
   "execution_count": 228,
   "metadata": {},
   "outputs": [],
   "source": [
    "def delete_node_from_circular_Linked_list(head,key):\n",
    "    prev=head\n",
    "    h=prev.next\n",
    "    while(h):\n",
    "        if h.data==key:\n",
    "            prev.next=h.next.next\n",
    "            break\n",
    "        prev=h\n",
    "        h=h.next"
   ]
  },
  {
   "cell_type": "markdown",
   "metadata": {},
   "source": [
    "# 149\tReverse a Doubly Linked list.\n"
   ]
  },
  {
   "cell_type": "code",
   "execution_count": 232,
   "metadata": {},
   "outputs": [],
   "source": [
    "'''MY'''\n",
    "def reverseDLL(head):\n",
    "    #return head after reversing\n",
    "    a=[]\n",
    "    h=head\n",
    "    while(h.next is not None):\n",
    "        \n",
    "        a.append(h.data)\n",
    "        h=h.next\n",
    "        \n",
    "    a.append(h.data)\n",
    "    print(a)\n",
    "    print(h.data)\n",
    "    \n",
    "    t=head\n",
    "    while(t):\n",
    "        t.data=a.pop()\n",
    "        t=t.next  \n",
    "    return head\n",
    "\n",
    "''' \n",
    "    #geeksforgeeks\n",
    "    def reverse(self):\n",
    "        temp = None\n",
    "        current = self.head\n",
    " \n",
    "        # Swap next and prev for all nodes of\n",
    "        # doubly linked list\n",
    "        while current is not None:\n",
    "            temp = current.prev                       #temp=current.prev    #just for finish\n",
    "            current.prev = current.next               #current.prev,current.next=current.next,current.prev\n",
    "            current.next = temp\n",
    "            current = current.prev                    #current=current.prev \n",
    "                                                      \n",
    "        if temp is not None:\n",
    "            self.head = temp.prev\n",
    "'''"
   ]
  },
  {
   "cell_type": "markdown",
   "metadata": {},
   "source": [
    "# 150\tFind pairs with a given sum in a DLL.\n"
   ]
  },
  {
   "cell_type": "code",
   "execution_count": 242,
   "metadata": {},
   "outputs": [
    {
     "name": "stdout",
     "output_type": "stream",
     "text": [
      "( 1 , 6 )\n",
      "( 2 , 5 )\n",
      "1\n",
      "2\n",
      "4\n",
      "5\n",
      "6\n",
      "8\n",
      "9\n",
      "[1, 2, 4, 5, 6, 8, 9]\n",
      "i (1, 6)\n",
      "i (2, 5)\n"
     ]
    }
   ],
   "source": [
    "'''MY'''\n",
    "class Node:\n",
    "\n",
    "    def __init__(self, x):\n",
    "\n",
    "        self.data = x\n",
    "        self.next = None\n",
    "        self.prev = None\n",
    "\n",
    "def pairSum(head, x):\n",
    "\n",
    "    first = head\n",
    "    second = head\n",
    "\n",
    "    while (second.next != None):\n",
    "        second = second.next\n",
    "\n",
    "    found = False\n",
    "\n",
    "    while (first != second and second.next != first):\n",
    "\n",
    "        if ((first.data + second.data) == x):\n",
    "            found = True\n",
    "            print(\"(\", first.data, \",\",\n",
    "                    second.data, \")\")\n",
    "            first = first.next\n",
    "            second = second.prev\n",
    "        else:\n",
    "            # DLL  is sorted\n",
    "            if ((first.data + second.data) < x):\n",
    "                first = first.next\n",
    "            else:\n",
    "                second = second.prev\n",
    "\n",
    "    if (found == False):\n",
    "        print(\"No pair found\")\n",
    "\n",
    "def insert(head, data):\n",
    "    temp = Node(data)\n",
    "    if not head:\n",
    "        head = temp\n",
    "    else:\n",
    "        temp.next = head\n",
    "        head.prev = temp\n",
    "        head = temp\n",
    "\n",
    "    return head\n",
    "def pprint(head):\n",
    "    h=head\n",
    "    while(h):\n",
    "        print(h.data)\n",
    "        h=h.next\n",
    "\n",
    "def pairSum_2(head,x):\n",
    "    h=head\n",
    "    from itertools import combinations\n",
    "    a=[]\n",
    "    while(h):\n",
    "        a.append(h.data)\n",
    "        h=h.next\n",
    "    print(a)\n",
    "    for i in combinations(a,2):\n",
    "        if sum(i)==x:\n",
    "            print('i',i)\n",
    "        \n",
    "if __name__ == '__main__':\n",
    "\n",
    "    head = None\n",
    "    head = insert(head, 9)\n",
    "    head = insert(head, 8)\n",
    "    head = insert(head, 6)\n",
    "    head = insert(head, 5)\n",
    "    head = insert(head, 4)\n",
    "    head = insert(head, 2)\n",
    "    head = insert(head, 1)\n",
    "    x = 7\n",
    "    pairSum(head, x)\n",
    "    pprint(head)\n",
    "    pairSum_2(head, x)"
   ]
  }
 ],
 "metadata": {
  "kernelspec": {
   "display_name": "Python 3",
   "language": "python",
   "name": "python3"
  },
  "language_info": {
   "codemirror_mode": {
    "name": "ipython",
    "version": 3
   },
   "file_extension": ".py",
   "mimetype": "text/x-python",
   "name": "python",
   "nbconvert_exporter": "python",
   "pygments_lexer": "ipython3",
   "version": "3.7.3"
  }
 },
 "nbformat": 4,
 "nbformat_minor": 2
}
