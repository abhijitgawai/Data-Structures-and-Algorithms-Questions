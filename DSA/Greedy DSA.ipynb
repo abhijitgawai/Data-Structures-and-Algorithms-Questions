{
 "cells": [
  {
   "cell_type": "markdown",
   "metadata": {},
   "source": [
    "# 225\tActivity Selection Problem\n"
   ]
  },
  {
   "cell_type": "code",
   "execution_count": 73,
   "metadata": {},
   "outputs": [
    {
     "name": "stdout",
     "output_type": "stream",
     "text": [
      "matrix [[1, 2], [3, 4], [0, 6], [5, 7], [8, 9], [5, 9]]\n",
      "[] should be blank\n",
      "[[1, 2], [3, 4], [5, 7], [8, 9]]\n"
     ]
    }
   ],
   "source": [
    "s=[ 3,1, 0, 5, 8, 5] \n",
    "f=[ 4,2, 6, 7, 9, 9]\n",
    "matrix=[]\n",
    "for i in range(len(s)):\n",
    "    matrix.append([s[i],f[i]])\n",
    "matrix.sort(key=lambda x : x[1])\n",
    "print('matrix',matrix)\n",
    "a=[]\n",
    "print(a,'should be blank')\n",
    "a.append(matrix[0])\n",
    "for i in range(1,len(matrix)):\n",
    "    if matrix[i][0]>a[-1][1]:\n",
    "        a.append(matrix[i])\n",
    "print(a)\n",
    "#return len(a)"
   ]
  },
  {
   "cell_type": "markdown",
   "metadata": {},
   "source": [
    "# 226\tJob SequencingProblem\n"
   ]
  },
  {
   "cell_type": "code",
   "execution_count": null,
   "metadata": {},
   "outputs": [],
   "source": [
    "def JobScheduling(self,Jobs,n):\n",
    "    cnt=2\n",
    "    matrix=[0]*n\n",
    "\n",
    "    for i in range(n):\n",
    "        matrix[i]=list([Jobs[i].id,Jobs[i].deadline,Jobs[i].profit])\n",
    "    a=[]\n",
    "    matrix.sort(reverse=True,key=lambda x: x[2])\n",
    "   #print(matrix)\n",
    "    if matrix[0][2] is not None:\n",
    "        a.append(matrix[0][2])\n",
    "\n",
    "    for i in range(1,n):\n",
    "        if matrix[i][1]>=cnt:\n",
    "            a.append(matrix[i][2])\n",
    "            cnt+=1\n",
    "\n",
    "    #print('cnt',cnt)    \n",
    "    print(a)\n",
    "    return [cnt-1,sum(a)]"
   ]
  },
  {
   "cell_type": "markdown",
   "metadata": {},
   "source": [
    "# 227\tHuffman Coding\n"
   ]
  },
  {
   "cell_type": "code",
   "execution_count": null,
   "metadata": {},
   "outputs": [],
   "source": [
    "class Nodes:\n",
    "    def __init__(self,symbol,freq,right=None,left=None):\n",
    "        self.symbol=symbol\n",
    "        self.freq=freq\n",
    "        self.right=right\n",
    "        self.left=left\n",
    "        self.huff=''\n",
    "\n",
    "def huffmanCodes(self,S,f,N):\n",
    "    a=[]\n",
    "    for i in range(N):\n",
    "        a.append(Nodes(S[i],f[i]))\n",
    "    b=a\n",
    "    \n",
    "    while(len(a)>1):\n",
    "        a.sort(key=lambda x : x.freq)\n",
    "        a.append(Nodes(a[0].symbol+a[1].symbol,a[0].freq+a[1].freq,right=a[1],left=a[0]))\n",
    "        a.remove(a[0])\n",
    "        a.remove(a[0])\n",
    "\n",
    "    def hello(r,huff):\n",
    "        if r.right:\n",
    "            huff+='1'\n",
    "            r.right.huff=huff\n",
    "            #print(r.right.symbol,r.right.freq,r.right.huff)\n",
    "            hello(r.right,huff)\n",
    "        if r.left:\n",
    "            huff=huff[:len(huff)-1]\n",
    "            huff+='0'\n",
    "            r.left.huff=huff\n",
    "            #print(r.left.symbol,r.left.freq,r.left.huff)\n",
    "            hello(r.left,huff)\n",
    "    huff=''\n",
    "    hello(a[0],huff)\n",
    "    res=[]\n",
    "    def printsoln(r):\n",
    "        if r is None:\n",
    "            return\n",
    "        if len(r.symbol)<2:\n",
    "            res.append(r.huff)\n",
    "        printsoln(r.left)\n",
    "        printsoln(r.right)\n",
    "    \n",
    "    printsoln(a[0])\n",
    "    return res"
   ]
  },
  {
   "cell_type": "markdown",
   "metadata": {},
   "source": [
    "# 228\tWater Connection Problem\n"
   ]
  },
  {
   "cell_type": "code",
   "execution_count": 354,
   "metadata": {
    "scrolled": true
   },
   "outputs": [
    {
     "name": "stdout",
     "output_type": "stream",
     "text": [
      "5 s\n",
      "[13, 9, 19]\n",
      "1 s\n",
      "[5, 10, 50]\n",
      "4 s\n",
      "[1, 7, 37]\n",
      "3 s\n",
      "[3, 2, 41]\n",
      "9 s\n",
      "[14, 8, 3]\n",
      "5 s\n",
      "[13, 12, 19]\n",
      "5\n",
      "a [[1, 7, 37], [3, 2, 41], [5, 10, 50], [13, 9, 19], [13, 12, 19], [14, 8, 3]]\n"
     ]
    }
   ],
   "source": [
    "n = 9\n",
    "p = 10\n",
    "a = [4, 5, 6, 3, 1, 13, 15, 11, 4, 14]\n",
    "b = [9, 10, 4, 15, 7, 6, 2, 8, 12, 11]\n",
    "d = [44, 50, 100, 41, 37, 19, 99, 3, 35, 65] \n",
    "matrix=[a,b,d,[0]*p,[0]*p]\n",
    "matrix\n",
    "for i in range(p):\n",
    "    if (matrix[1][i]) not in (matrix[0]):\n",
    "        matrix[4][i]=1\n",
    "matrix    \n",
    "a=[]\n",
    "for i in range(p):\n",
    "    mm=0\n",
    "    if matrix[4][i]==1: \n",
    "        s=i\n",
    "        mm=matrix[2][s]\n",
    "        for j in range(p):\n",
    "            \n",
    "            if matrix[0][s] in matrix[1]:\n",
    "                s=matrix[1].index(matrix[0][s]) \n",
    "                if matrix[2][s]<mm:\n",
    "                    mm=matrix[2][s]\n",
    "                \n",
    "        print(s,'s')\n",
    "        b=[matrix[0][s],matrix[1][i],mm]\n",
    "        print(b)\n",
    "        a.append(b)\n",
    "\n",
    "print(s)\n",
    "a.sort(key=lambda x : x[0])\n",
    "print('a',a)"
   ]
  },
  {
   "cell_type": "markdown",
   "metadata": {},
   "source": [
    "# 229\tFractional Knapsack Problem\n"
   ]
  },
  {
   "cell_type": "code",
   "execution_count": null,
   "metadata": {},
   "outputs": [],
   "source": [
    "def fractionalknapsack(self, W,Items,n):\n",
    "    a=[]\n",
    "    for i in range(n):\n",
    "        a.append([Items[i].value,Items[i].weight,Items[i].value/Items[i].weight])\n",
    "\n",
    "    a.sort(reverse=True,key=lambda x : x[2])\n",
    "    ans=0\n",
    "    cp=0\n",
    "    for i in range(n):\n",
    "        if W>=cp+a[i][1]:\n",
    "            ans+=a[i][0]\n",
    "            W-=a[i][1]\n",
    "        else:\n",
    "            ans+=(W*(a[i][0])/a[i][1])\n",
    "            break\n",
    "    return ans"
   ]
  },
  {
   "cell_type": "code",
   "execution_count": null,
   "metadata": {},
   "outputs": [],
   "source": [
    "A='lnm'\n",
    "mmi=''\n",
    "for i in range(len(A)-1):\n",
    "    #print(AA[i],AA[i+1:])\n",
    "    flag=0\n",
    "    for i in A[i:]\n",
    "    mi=min(A[i+1:])\n",
    "    if A[i]>mi and mi not in A[:i]:\n",
    "        flag=1\n",
    "        print(A[:i],'mi',mi,A[i])\n",
    "        mx=A[i]\n",
    "        break\n",
    "print('mi',mi,'mx',mx,flag)\n",
    "\n",
    "if flag==0:\n",
    "    #return A\n",
    "    print(A,'final')\n",
    "else:\n",
    "    result=''\n",
    "    for i in A:\n",
    "        if i==mi:\n",
    "            result+=mx\n",
    "            continue\n",
    "        if i==mx:\n",
    "            result+=mi\n",
    "            continue\n",
    "        else:\n",
    "            result+=i\n",
    "    print(result,'result')"
   ]
  }
 ],
 "metadata": {
  "kernelspec": {
   "display_name": "Python 3",
   "language": "python",
   "name": "python3"
  },
  "language_info": {
   "codemirror_mode": {
    "name": "ipython",
    "version": 3
   },
   "file_extension": ".py",
   "mimetype": "text/x-python",
   "name": "python",
   "nbconvert_exporter": "python",
   "pygments_lexer": "ipython3",
   "version": "3.7.3"
  }
 },
 "nbformat": 4,
 "nbformat_minor": 2
}
