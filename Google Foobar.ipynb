{
 "cells": [
  {
   "cell_type": "markdown",
   "metadata": {},
   "source": [
    "# QUE 1    level1         bunny"
   ]
  },
  {
   "cell_type": "code",
   "execution_count": null,
   "metadata": {},
   "outputs": [],
   "source": [
    "def solution(x, y):\n",
    "    # Your code here\n",
    "    if len(x)>len(y):\n",
    "        for i in range(len(x)):\n",
    "            if x[i] not in y:\n",
    "                return sum(y)-sum(x)\n",
    "    if len(x)<len(y):\n",
    "        for i in range(len(y)):\n",
    "            if y[i] not in x:\n",
    "                sum(x)-sum(y)"
   ]
  },
  {
   "cell_type": "markdown",
   "metadata": {},
   "source": [
    "# QUE 1      level 2     i alredy did that"
   ]
  },
  {
   "cell_type": "code",
   "execution_count": 54,
   "metadata": {
    "scrolled": true
   },
   "outputs": [
    {
     "name": "stdout",
     "output_type": "stream",
     "text": [
      "220101 <class 'str'>\n",
      "212201 <class 'str'>\n",
      "210111 <class 'str'>\n",
      "122221 <class 'str'>\n",
      "102212 <class 'str'>\n",
      "210111 <class 'str'>\n",
      "['220101', '212201', '210111', '122221', '102212']\n",
      "3\n"
     ]
    }
   ],
   "source": [
    "def to_base_n(int_base_10, n):\n",
    "    residual = int(int_base_10)\n",
    "    digits_base_n = []\n",
    "    while residual >= n:\n",
    "        r = residual % n\n",
    "        digits_base_n.append(str(r))\n",
    "        residual = (residual - r) // n\n",
    "    digits_base_n.append(str(residual))\n",
    "    return ''.join(digits_base_n[::-1])\n",
    "\n",
    "def btoten(n,b):\n",
    "    a=[]\n",
    "    k=len(n)\n",
    "    while(1):\n",
    "        next=to_base_n(str(int(''.join(sorted(n,reverse=True)),b)-int(''.join(sorted(n)),b)),b)\n",
    "        print(next,type(next))\n",
    "        if next in a:\n",
    "            print(a)\n",
    "            print(len(a)-a.index(next))\n",
    "            break\n",
    "        if int(next)==0:\n",
    "            return 1\n",
    "        if len(next)!=k:\n",
    "            next='0'*(k-len(next))+next\n",
    "        a.append(next)\n",
    "        n=next\n",
    "        \n",
    "btoten('210022',3)\n"
   ]
  },
  {
   "cell_type": "code",
   "execution_count": 62,
   "metadata": {},
   "outputs": [
    {
     "name": "stdout",
     "output_type": "stream",
     "text": [
      "True\n",
      "True\n"
     ]
    }
   ],
   "source": [
    "class Computer:\n",
    "    def __init__(self):\n",
    "        self.name='Pra'\n",
    "        self.age=30\n",
    "    def compare(self,other):\n",
    "        return self.age==other.age\n",
    "c1=Computer()\n",
    "c2=Computer()\n",
    "#c1.name='a'\n",
    "print(c1.name==c2.name)\n",
    "print(c1.compare(c2))"
   ]
  },
  {
   "cell_type": "markdown",
   "metadata": {},
   "source": [
    "# QUE 2      level 2   Gearing up for Destruction"
   ]
  },
  {
   "cell_type": "code",
   "execution_count": 91,
   "metadata": {},
   "outputs": [
    {
     "name": "stdout",
     "output_type": "stream",
     "text": [
      "sum -48 pegs[0] 4 pegs[-1] 86\n"
     ]
    },
    {
     "data": {
      "text/plain": [
       "[12, 1]"
      ]
     },
     "execution_count": 91,
     "metadata": {},
     "output_type": "execute_result"
    }
   ],
   "source": [
    "def solution(pegs):\n",
    "    \n",
    "\n",
    "    from fractions import Fraction\n",
    "    # Your code here\n",
    "    if len(pegs)==2:\n",
    "        return [int(2*(pegs[1]-pegs[0]))/3,1]\n",
    "    if (len(pegs)-2)%2==0:\n",
    "        s=0\n",
    "        for i in range(1,len(pegs)-1):\n",
    "            s+=((-1)**(i+1))*pegs[i]\n",
    "        s=s*2\n",
    "        if int( (2*(pegs[-1]+s-pegs[0]))/3 )>=2:\n",
    "            \n",
    "            currentRadius = (2*(pegs[-1]+s-pegs[0]))/3\n",
    "            for index in xrange(0, arrLength-2):\n",
    "                CenterDistance = pegs[index+1] - pegs[index]\n",
    "                NextRadius = CenterDistance - currentRadius\n",
    "                if (currentRadius < 1 or NextRadius < 1):\n",
    "                    return [-1,-1]\n",
    "                else:\n",
    "                    currentRadius = NextRadius\n",
    "            \n",
    "            \n",
    "            return [int( (2*(pegs[-1]+s-pegs[0]))/3 ),1]\n",
    "        else:\n",
    "            return [-1,-1]\n",
    "    \n",
    "    if (len(pegs)-2)%2==1:\n",
    "        s=0\n",
    "        for i in range(1,len(pegs)-1):\n",
    "            s+=((-1)**(i))*pegs[i]\n",
    "        print('sum',s,'pegs[0]',pegs[0],'pegs[-1]',pegs[-1])\n",
    "        s=s*2\n",
    "        #print((2*(abs(s)-pegs[-1]-pegs[0])).as_integer_ratio())\n",
    "        ans=2*(abs(s)-pegs[-1]-pegs[0])\n",
    "        #ans=1.25\n",
    "#         if (isinstance(ans, int)):\n",
    "#             return( [int(ans),1])\n",
    "#         else:\n",
    "#             \n",
    "        a=Decimal(str(ans)).as_integer_ratio()\n",
    "        return [a[0],a[1]]\n",
    "        \n",
    "        #return [  int(2*(abs(s)-pegs[-1]-pegs[0])) ,1]\n",
    "        \n",
    "solution([4,30,50,68,86])"
   ]
  },
  {
   "cell_type": "code",
   "execution_count": 161,
   "metadata": {},
   "outputs": [
    {
     "name": "stdout",
     "output_type": "stream",
     "text": [
      "22 5\n"
     ]
    }
   ],
   "source": [
    "from decimal import Decimal\n",
    "\n",
    "s=4.4\n",
    "if (isinstance(s, int)):\n",
    "    print( [s,1])\n",
    "else:\n",
    "    a=Decimal(str(s)).as_integer_ratio()\n",
    "    print(a[0],a[1])\n",
    "    "
   ]
  },
  {
   "cell_type": "code",
   "execution_count": 102,
   "metadata": {},
   "outputs": [
    {
     "name": "stdout",
     "output_type": "stream",
     "text": [
      "[16, 1]\n"
     ]
    }
   ],
   "source": [
    "ans=16.0\n",
    "a=Decimal(str(ans)).as_integer_ratio()\n",
    "print( [a[0],a[1]])"
   ]
  },
  {
   "cell_type": "code",
   "execution_count": 100,
   "metadata": {},
   "outputs": [
    {
     "data": {
      "text/plain": [
       "[12, 1]"
      ]
     },
     "execution_count": 100,
     "metadata": {},
     "output_type": "execute_result"
    }
   ],
   "source": [
    "def solution(pegs):\n",
    "    # Your code here\n",
    "    if len(pegs)==2:\n",
    "        return [int((2*(pegs[1]-pegs[0]))/3),1]\n",
    "    if (len(pegs)-2)%2==0:\n",
    "        s=0\n",
    "        for i in range(1,len(pegs)-1):\n",
    "            s+=((-1)**(i+1))*pegs[i]\n",
    "        s=s*2\n",
    "        return [int( (2*(pegs[-1]+s-pegs[0]))/3 ),1]\n",
    "        \n",
    "    \n",
    "    if (len(pegs)-2)%2==1:\n",
    "        s=0\n",
    "        for i in range(1,len(pegs)-1):\n",
    "            s+=((-1)**(i))*pegs[i]\n",
    "        #print('sum',s,'pegs[0]',pegs[0],'pegs[-1]',pegs[-1])\n",
    "        s=s*2\n",
    "        return [  int(2*(abs(s)-pegs[-1]-pegs[0])) ,1]\n",
    "solution([4,30,58,78])"
   ]
  },
  {
   "cell_type": "code",
   "execution_count": 202,
   "metadata": {},
   "outputs": [
    {
     "name": "stdout",
     "output_type": "stream",
     "text": [
      "-58\n",
      "30\n",
      "sum -56\n",
      "-56 4 78\n",
      "even\n",
      "12.0 ans    fd f\n",
      "[12.0, 1] break\n",
      "[12, 1]\n",
      "12 fra\n"
     ]
    },
    {
     "ename": "IndexError",
     "evalue": "list index out of range",
     "output_type": "error",
     "traceback": [
      "\u001b[1;31m---------------------------------------------------------------------------\u001b[0m",
      "\u001b[1;31mIndexError\u001b[0m                                Traceback (most recent call last)",
      "\u001b[1;32m<ipython-input-202-2eda30e65d10>\u001b[0m in \u001b[0;36m<module>\u001b[1;34m\u001b[0m\n\u001b[0;32m     63\u001b[0m         \u001b[0mprint\u001b[0m\u001b[1;33m(\u001b[0m\u001b[0mFraction\u001b[0m\u001b[1;33m(\u001b[0m\u001b[0mans\u001b[0m\u001b[1;33m)\u001b[0m\u001b[1;33m.\u001b[0m\u001b[0mlimit_denominator\u001b[0m\u001b[1;33m(\u001b[0m\u001b[1;33m)\u001b[0m\u001b[1;33m,\u001b[0m\u001b[1;34m'fra'\u001b[0m\u001b[1;33m)\u001b[0m\u001b[1;33m\u001b[0m\u001b[1;33m\u001b[0m\u001b[0m\n\u001b[0;32m     64\u001b[0m         \u001b[0ma\u001b[0m\u001b[1;33m=\u001b[0m\u001b[0mstr\u001b[0m\u001b[1;33m(\u001b[0m\u001b[0mFraction\u001b[0m\u001b[1;33m(\u001b[0m\u001b[0mans\u001b[0m\u001b[1;33m)\u001b[0m\u001b[1;33m.\u001b[0m\u001b[0mlimit_denominator\u001b[0m\u001b[1;33m(\u001b[0m\u001b[1;33m)\u001b[0m\u001b[1;33m)\u001b[0m\u001b[1;33m.\u001b[0m\u001b[0msplit\u001b[0m\u001b[1;33m(\u001b[0m\u001b[1;34m'/'\u001b[0m\u001b[1;33m)\u001b[0m\u001b[1;33m\u001b[0m\u001b[1;33m\u001b[0m\u001b[0m\n\u001b[1;32m---> 65\u001b[1;33m         \u001b[0mprint\u001b[0m\u001b[1;33m(\u001b[0m\u001b[1;33m[\u001b[0m\u001b[0mint\u001b[0m\u001b[1;33m(\u001b[0m\u001b[0ma\u001b[0m\u001b[1;33m[\u001b[0m\u001b[1;36m0\u001b[0m\u001b[1;33m]\u001b[0m\u001b[1;33m)\u001b[0m\u001b[1;33m,\u001b[0m\u001b[0mint\u001b[0m\u001b[1;33m(\u001b[0m\u001b[0ma\u001b[0m\u001b[1;33m[\u001b[0m\u001b[1;36m1\u001b[0m\u001b[1;33m]\u001b[0m\u001b[1;33m)\u001b[0m\u001b[1;33m]\u001b[0m\u001b[1;33m,\u001b[0m\u001b[1;34m'ffkk'\u001b[0m\u001b[1;33m)\u001b[0m\u001b[1;33m\u001b[0m\u001b[1;33m\u001b[0m\u001b[0m\n\u001b[0m\u001b[0;32m     66\u001b[0m \u001b[1;33m\u001b[0m\u001b[0m\n\u001b[0;32m     67\u001b[0m \u001b[1;33m\u001b[0m\u001b[0m\n",
      "\u001b[1;31mIndexError\u001b[0m: list index out of range"
     ]
    }
   ],
   "source": [
    "pegs=[4,30,58,78]\n",
    "from decimal import Decimal\n",
    "j=1\n",
    "s=0\n",
    "for i in range(len(pegs)-2,0,-1):\n",
    "    print(pegs[i]*((-1)**j))\n",
    "    s+=pegs[i]*((-1)**j)\n",
    "    j+=1\n",
    "s=2*s\n",
    "print('sum',s)\n",
    "\n",
    "print(s,pegs[0],pegs[-1])\n",
    "\n",
    "if len(pegs)%2==1: #odd\n",
    "    \n",
    "    currentRadius = -2*( s+pegs[0]+pegs[-1])\n",
    "    for index in range(0, len(pegs)-2):\n",
    "        CenterDistance = pegs[index+1] - pegs[index]\n",
    "        NextRadius = CenterDistance - currentRadius\n",
    "        if (currentRadius < 1 or NextRadius < 1):\n",
    "            print ([-1,-1])\n",
    "        else:\n",
    "            currentRadius = NextRadius\n",
    "    \n",
    "\n",
    "    ans=-2*( s+pegs[0]+pegs[-1])\n",
    "    #ans=4.5\n",
    "    if (isinstance(ans, int)):\n",
    "        print( [ans,1],'int')\n",
    "    else:\n",
    "        a=Decimal(str(ans)).as_integer_ratio()\n",
    "        print([a[0],a[1]])\n",
    "        print(Fraction(ans).limit_denominator(),'fra')\n",
    "        a=str(Fraction(ans).limit_denominator()).split('/')\n",
    "        print([int(a[0]),int(a[1])],'ffkk')\n",
    "\n",
    "\n",
    "        print( [-2*( s+pegs[0]+pegs[-1]),1],'final')\n",
    "#pegs(s,pegs[0],pegs[len(pegs)-1])\n",
    "if len(pegs)%2==0: #odd\n",
    "    print('even')\n",
    "    currentRadius =(2*(pegs[-1]+s+pegs[0]))/3\n",
    "    for index in range(0, len(pegs)-2):\n",
    "        CenterDistance = pegs[index+1] - pegs[index]\n",
    "        NextRadius = CenterDistance - currentRadius\n",
    "        if (currentRadius < 1 or NextRadius < 1):\n",
    "            print ([-1,-1])\n",
    "        else:\n",
    "            currentRadius = NextRadius\n",
    "    \n",
    "\n",
    "    ans=(2*(pegs[-1]+s-pegs[0]))/3\n",
    "    #ans=4.5\n",
    "    print(ans,'ans    fd f')\n",
    "    if (isinstance(ans, int)):\n",
    "        print( [ans,1],'int')\n",
    "    else:\n",
    "        if ans==int(ans):\n",
    "            print([ans,1],'break')\n",
    "            \n",
    "        a=Decimal(str(ans)).as_integer_ratio()\n",
    "        print([a[0],a[1]])\n",
    "        print(Fraction(ans).limit_denominator(),'fra')\n",
    "        a=str(Fraction(ans).limit_denominator()).split('/')\n",
    "        print([int(a[0]),int(a[1])],'ffkk')\n",
    "\n",
    "\n",
    "        print( [2*( s+pegs[0]+pegs[-1]),1],'final')"
   ]
  },
  {
   "cell_type": "markdown",
   "metadata": {},
   "source": [
    "# QUE 1      level 3     Queue To Do"
   ]
  },
  {
   "cell_type": "code",
   "execution_count": 1,
   "metadata": {},
   "outputs": [
    {
     "data": {
      "text/plain": [
       "1"
      ]
     },
     "execution_count": 1,
     "metadata": {},
     "output_type": "execute_result"
    }
   ],
   "source": [
    "1^0"
   ]
  },
  {
   "cell_type": "code",
   "execution_count": 2,
   "metadata": {},
   "outputs": [
    {
     "data": {
      "text/plain": [
       "0"
      ]
     },
     "execution_count": 2,
     "metadata": {},
     "output_type": "execute_result"
    }
   ],
   "source": [
    "0^0"
   ]
  },
  {
   "cell_type": "code",
   "execution_count": 32,
   "metadata": {},
   "outputs": [
    {
     "data": {
      "text/plain": [
       "0"
      ]
     },
     "execution_count": 32,
     "metadata": {},
     "output_type": "execute_result"
    }
   ],
   "source": [
    "1^1"
   ]
  },
  {
   "cell_type": "code",
   "execution_count": 4,
   "metadata": {},
   "outputs": [
    {
     "data": {
      "text/plain": [
       "2"
      ]
     },
     "execution_count": 4,
     "metadata": {},
     "output_type": "execute_result"
    }
   ],
   "source": [
    "0^1^2^3^4^6"
   ]
  },
  {
   "cell_type": "code",
   "execution_count": 36,
   "metadata": {},
   "outputs": [
    {
     "data": {
      "text/plain": [
       "14"
      ]
     },
     "execution_count": 36,
     "metadata": {},
     "output_type": "execute_result"
    }
   ],
   "source": [
    "17^18^19^20^21^22^23^25^26^29"
   ]
  },
  {
   "cell_type": "code",
   "execution_count": 34,
   "metadata": {},
   "outputs": [
    {
     "data": {
      "text/plain": [
       "7"
      ]
     },
     "execution_count": 34,
     "metadata": {},
     "output_type": "execute_result"
    }
   ],
   "source": [
    "4^5^6"
   ]
  },
  {
   "cell_type": "code",
   "execution_count": 44,
   "metadata": {},
   "outputs": [
    {
     "data": {
      "text/plain": [
       "21"
      ]
     },
     "execution_count": 44,
     "metadata": {},
     "output_type": "execute_result"
    }
   ],
   "source": [
    "int(\"10101\",2)"
   ]
  },
  {
   "cell_type": "code",
   "execution_count": 23,
   "metadata": {},
   "outputs": [
    {
     "name": "stdout",
     "output_type": "stream",
     "text": [
      "14\n"
     ]
    }
   ],
   "source": [
    "a=[17,18,19,20,21,22,23,25,26,29]\n",
    "#a=[0,1,2,3,4,6]\n",
    "s=0\n",
    "for i in range(len(a)-1,-1,-1):\n",
    "    s^=a[i]\n",
    "print(s)"
   ]
  },
  {
   "cell_type": "code",
   "execution_count": 56,
   "metadata": {},
   "outputs": [
    {
     "name": "stdout",
     "output_type": "stream",
     "text": [
      "3\n"
     ]
    }
   ],
   "source": [
    "'''May be takes longer time'''\n",
    "def solution(start, length):\n",
    "    from operator import ixor\n",
    "    from functools import reduce\n",
    "    # Your code here\n",
    "    if length==1:\n",
    "        return 0\n",
    "    a=[[0 for i in range(length)] for i in range(length)]\n",
    "    #print(a)\n",
    "    b=[]\n",
    "    for i in range(len(a)):\n",
    "        for j in range(len(a)):\n",
    "            a[i][j]=start\n",
    "            start+=1\n",
    "    #print(a)\n",
    "    result=0\n",
    "    for i in range(len(a)-1,-1,-1):\n",
    "        for j in range(0,len(a)-i):\n",
    "            b.append(a[i][j])\n",
    "    \n",
    "    return reduce(ixor, b)\n",
    "    \n",
    "print(solution(0,2))"
   ]
  },
  {
   "cell_type": "code",
   "execution_count": 47,
   "metadata": {},
   "outputs": [
    {
     "name": "stdout",
     "output_type": "stream",
     "text": [
      "[[0, 0, 0, 0], [0, 0, 0, 0], [0, 0, 0, 0], [0, 0, 0, 0]]\n",
      "[[17, 18, 19, 20], [21, 22, 23, 24], [25, 26, 27, 28], [29, 30, 31, 32]]\n",
      "29 29\n",
      "4 25\n",
      "30 26\n",
      "11 21\n",
      "29 22\n",
      "10 23\n",
      "27 17\n",
      "9 18\n",
      "26 19\n",
      "14 20\n",
      "14\n"
     ]
    }
   ],
   "source": [
    "'''1,2, ,4, , ,7,8, ,10'''\n",
    "def solution(start, length):\n",
    "    # Your code here\n",
    "    if length==1:\n",
    "        return start\n",
    "    a=[[0 for i in range(length)] for i in range(length)]\n",
    "    print(a)\n",
    "    for i in range(len(a)):\n",
    "        for j in range(len(a)):\n",
    "            a[i][j]=start\n",
    "            start+=1\n",
    "    print(a)\n",
    "    result=0\n",
    "    for i in range(len(a)-1,-1,-1):\n",
    "        for j in range(0,len(a)-i):\n",
    "            result^=a[i][j]\n",
    "            print(result,a[i][j])\n",
    "    return result\n",
    "    \n",
    "print(solution(17,4))"
   ]
  },
  {
   "cell_type": "code",
   "execution_count": 60,
   "metadata": {},
   "outputs": [
    {
     "name": "stdout",
     "output_type": "stream",
     "text": [
      "17\n",
      "18\n",
      "19\n",
      "20\n",
      "21\n",
      "22\n",
      "23\n",
      "25\n",
      "26\n",
      "29\n",
      "14\n"
     ]
    }
   ],
   "source": [
    "'''1,2,3, 4, , ,7,8, ,10'''\n",
    "def solution(start, length):\n",
    "    # Your code here\n",
    "    if length==1:\n",
    "        return start\n",
    "    result=0\n",
    "    for i in range(length):\n",
    "        for j in range(length-i):\n",
    "            print(start)\n",
    "            result^=start\n",
    "            start+=1\n",
    "        start+=i\n",
    "    return result\n",
    "\n",
    "print(solution(17,4))"
   ]
  },
  {
   "cell_type": "code",
   "execution_count": 61,
   "metadata": {},
   "outputs": [
    {
     "data": {
      "text/plain": [
       "14"
      ]
     },
     "execution_count": 61,
     "metadata": {},
     "output_type": "execute_result"
    }
   ],
   "source": [
    "(17^18^19^20)^(21^22^23)^(25^26)^(29)"
   ]
  },
  {
   "cell_type": "code",
   "execution_count": 91,
   "metadata": {},
   "outputs": [
    {
     "data": {
      "text/plain": [
       "0"
      ]
     },
     "execution_count": 91,
     "metadata": {},
     "output_type": "execute_result"
    }
   ],
   "source": [
    "16^17^18^19^20^21^22^23"
   ]
  },
  {
   "cell_type": "code",
   "execution_count": null,
   "metadata": {},
   "outputs": [],
   "source": [
    "17^18^19^20^21^22^23"
   ]
  },
  {
   "cell_type": "code",
   "execution_count": 92,
   "metadata": {},
   "outputs": [
    {
     "data": {
      "text/plain": [
       "0"
      ]
     },
     "execution_count": 92,
     "metadata": {},
     "output_type": "execute_result"
    }
   ],
   "source": [
    "20^21^22^23"
   ]
  },
  {
   "cell_type": "code",
   "execution_count": 128,
   "metadata": {},
   "outputs": [
    {
     "name": "stdout",
     "output_type": "stream",
     "text": [
      "5 9 se a 3\n",
      "[5]\n",
      "10 13 se a 3\n",
      "[5, 0]\n",
      "15 17 se a 1\n",
      "[5, 0, 14]\n",
      "20 21 se a 1\n",
      "[5, 0, 14, 1]\n",
      "25 25 se a 3\n",
      "[5, 0, 14, 1, 25]\n",
      "19\n"
     ]
    }
   ],
   "source": [
    "'''1,2,3, 4, , ,7,8, ,10'''\n",
    "def even_xor(s,e):\n",
    "    a=(e-s)%4\n",
    "    print(s,e,'se','a',a)\n",
    "    if a==0:\n",
    "        return e\n",
    "    if a==1:\n",
    "        return 1\n",
    "    if a==2:\n",
    "        return e+1\n",
    "    if a==3:\n",
    "        return 0\n",
    "    \n",
    "def odd_xor(s,e):\n",
    "    a=(e-s)%4\n",
    "    \n",
    "    print(s-1,e,'se','a',a)\n",
    "    if a==0:\n",
    "        return e^(s-1)\n",
    "    if a==1:\n",
    "        return 1^(s-1)\n",
    "    if a==2:\n",
    "        return (e+1)^(s-1)\n",
    "    if a==3:\n",
    "        return 0^(s-1)\n",
    "def xorOfArray(arr, n):\n",
    " \n",
    "    # Resultant variable\n",
    "    xor_arr = 0\n",
    " \n",
    "    # Iterating through every element in\n",
    "    # the array\n",
    "    for i in range(n):\n",
    " \n",
    "        # Find XOR with the result\n",
    "        xor_arr = xor_arr ^ arr[i]\n",
    " \n",
    "    # Return the XOR\n",
    "    return xor_arr\n",
    "\n",
    "def solution(start, length):\n",
    "    # Your code here\n",
    "    if length==1:\n",
    "        return start\n",
    "    result=0\n",
    "    sub=0\n",
    "    arr=[]\n",
    "    for i in range(length):\n",
    "#         if i==length-1:\n",
    "#             result^=start+(i*length)\n",
    "#             break\n",
    "        ss=(start+(i*length))\n",
    "        if ss%2==0:\n",
    "            arr.append(even_xor(ss,ss+length-sub-1))#,'xor_even')\n",
    "            sub+=1\n",
    "        if ss%2==1:\n",
    "            \n",
    "            arr.append(odd_xor(ss+1,ss+length-sub-1))#,'xor_odd')\n",
    "            sub+=1\n",
    "        print(arr)\n",
    "        \n",
    "    return  (xorOfArray(arr,len(arr)))\n",
    "print(solution(5,5))"
   ]
  },
  {
   "cell_type": "code",
   "execution_count": 122,
   "metadata": {},
   "outputs": [],
   "source": [
    "apple=[5, 0, 14, 1, 25]\n"
   ]
  },
  {
   "cell_type": "code",
   "execution_count": 96,
   "metadata": {},
   "outputs": [
    {
     "name": "stdout",
     "output_type": "stream",
     "text": [
      "25 25 1\n"
     ]
    }
   ],
   "source": [
    "#even tester\n",
    "x=0\n",
    "for i in range(25,25+1):\n",
    "       x^=i\n",
    "       print(x,  i,(i-4)%4)\n",
    "       if x==0:\n",
    "            print('-')"
   ]
  },
  {
   "cell_type": "code",
   "execution_count": 106,
   "metadata": {},
   "outputs": [
    {
     "data": {
      "text/plain": [
       "19"
      ]
     },
     "execution_count": 106,
     "metadata": {},
     "output_type": "execute_result"
    }
   ],
   "source": [
    "5^0^14^1^25^0"
   ]
  },
  {
   "cell_type": "code",
   "execution_count": 120,
   "metadata": {},
   "outputs": [
    {
     "data": {
      "text/plain": [
       "19"
      ]
     },
     "execution_count": 120,
     "metadata": {},
     "output_type": "execute_result"
    }
   ],
   "source": [
    "5^6^7^8^9^10^11^12^13^15^16^17^20^21^25"
   ]
  },
  {
   "cell_type": "code",
   "execution_count": 49,
   "metadata": {
    "scrolled": true
   },
   "outputs": [
    {
     "name": "stdout",
     "output_type": "stream",
     "text": [
      "5 5 1\n",
      "3 6 2\n",
      "4 7 3\n",
      "12 8 0\n",
      "5 9 1\n",
      "15 10 2\n",
      "4 11 3\n"
     ]
    }
   ],
   "source": [
    "#odd tester\n",
    "x=0\n",
    "for i in range(5,11+1):\n",
    "       x^=i\n",
    "       print(x,  i,(i-4)%4)\n",
    "       if x==0:\n",
    "            print('-')"
   ]
  },
  {
   "cell_type": "code",
   "execution_count": 50,
   "metadata": {
    "scrolled": true
   },
   "outputs": [
    {
     "name": "stdout",
     "output_type": "stream",
     "text": [
      "6 3 6 2\n",
      "1 4 7 3\n",
      "9 12 8 0\n",
      "0 5 9 1\n",
      "-\n",
      "10 15 10 2\n",
      "1 4 11 3\n"
     ]
    }
   ],
   "source": [
    "#odd coder\n",
    "x=0\n",
    "a=6\n",
    "for i in range(a,11+1):\n",
    "       x^=i\n",
    "       print(x, x^5, i,(i-4)%4)\n",
    "       if x==0:\n",
    "            print('-')"
   ]
  },
  {
   "cell_type": "code",
   "execution_count": 60,
   "metadata": {
    "scrolled": true
   },
   "outputs": [
    {
     "name": "stdout",
     "output_type": "stream",
     "text": [
      "6 6 2\n",
      "1 7 3\n",
      "9 8 0\n",
      "0 9 1\n",
      "-\n"
     ]
    }
   ],
   "source": [
    "#even tester\n",
    "x=0\n",
    "for i in range(6,9+1):\n",
    "       x^=i\n",
    "       print(x,  i,(i-4)%4)\n",
    "       if x==0:\n",
    "            print('-')"
   ]
  },
  {
   "cell_type": "code",
   "execution_count": 130,
   "metadata": {},
   "outputs": [
    {
     "name": "stdout",
     "output_type": "stream",
     "text": [
      "19\n"
     ]
    }
   ],
   "source": [
    "'''Finale'''\n",
    "def solution(start, length):\n",
    "    # Your code here\n",
    "    if length==1:\n",
    "        return start\n",
    "    result=0\n",
    "    sub=0\n",
    "    arr=[]\n",
    "    for i in range(length):\n",
    "#         if i==length-1:\n",
    "#             result^=start+(i*length)\n",
    "#             break\n",
    "        ss=(start+(i*length))\n",
    "        \n",
    "        if ss%2==0:\n",
    "            arr.append(even_xor(ss,ss+length-sub-1))#,'xor_even')\n",
    "            sub+=1\n",
    "            \n",
    "        if ss%2==1:\n",
    "            arr.append(odd_xor(ss+1,ss+length-sub-1))#,'xor_odd')\n",
    "            sub+=1\n",
    "        #print(arr)\n",
    "        \n",
    "    return  (xorOfArray(arr,len(arr)))\n",
    "\n",
    "def even_xor(s,e):\n",
    "    a=(e-s)%4\n",
    "    #print(s,e,'se','a',a)\n",
    "    if a==0:\n",
    "        return e\n",
    "    if a==1:\n",
    "        return 1\n",
    "    if a==2:\n",
    "        return e+1\n",
    "    if a==3:\n",
    "        return 0\n",
    "    \n",
    "def odd_xor(s,e):\n",
    "    a=(e-s)%4\n",
    "    \n",
    "    #print(s-1,e,'se','a',a)\n",
    "    if a==0:\n",
    "        return e^(s-1)\n",
    "    if a==1:\n",
    "        return 1^(s-1)\n",
    "    if a==2:\n",
    "        return (e+1)^(s-1)\n",
    "    if a==3:\n",
    "        return 0^(s-1)\n",
    "def xorOfArray(arr, n):\n",
    " \n",
    "    # Resultant variable\n",
    "    xor_arr = 0\n",
    " \n",
    "    # Iterating through every element in\n",
    "    # the array\n",
    "    for i in range(n):\n",
    " \n",
    "        # Find XOR with the result\n",
    "        xor_arr = xor_arr ^ arr[i]\n",
    " \n",
    "    # Return the XOR\n",
    "    return xor_arr\n",
    "print(solution(5, 5))"
   ]
  },
  {
   "cell_type": "markdown",
   "metadata": {},
   "source": [
    "# QUE 2 level 3 bomb-baby"
   ]
  },
  {
   "cell_type": "code",
   "execution_count": 192,
   "metadata": {},
   "outputs": [
    {
     "name": "stdout",
     "output_type": "stream",
     "text": [
      "[[2, 1], [2, 3], [2, 5], [2, 7], [2, 9], [5, 3], [8, 3], [3, 1], [3, 4], [3, 7], [7, 4], [4, 1], [4, 5], [5, 1], [5, 6], [6, 1], [7, 1], [8, 1]]\n",
      "[2, 1] 1\n",
      "[[2, 1]] a 1\n",
      "[3, 1] 2\n",
      "[2, 3] 2\n",
      "[[3, 1], [2, 3]] a 2\n",
      "[4, 1] 3\n",
      "[3, 4] 3\n",
      "[5, 3] 3\n",
      "[2, 5] 3\n",
      "[[4, 1], [3, 4], [5, 3], [2, 5]] a 3\n",
      "[5, 1] 4\n",
      "[4, 5] 4\n",
      "[7, 4] 4\n",
      "[3, 7] 4\n",
      "[8, 3] 4\n",
      "[2, 7] 4\n",
      "[[5, 1], [4, 5], [7, 4], [3, 7], [8, 3], [2, 7]] a 4\n",
      "[6, 1] 5\n",
      "[5, 6] 5\n",
      "[2, 9] 5\n",
      "5 final [2, 9]\n",
      "5 this is finale\n"
     ]
    }
   ],
   "source": [
    "class Node:\n",
    "    def __init__(self,data,right=None,left=None):\n",
    "        self.data=data\n",
    "        self.right=right\n",
    "        self.left=left\n",
    "\n",
    "def insert(root,x,y):\n",
    "    if root.data[0]+root.data[1]<=x+y:\n",
    "        if 2*root.data[0]+root.data[1]<=x+y:\n",
    "            root.right=Node([root.data[0],root.data[0]+root.data[1]])\n",
    "        #if 2*root.data[0]+root.data[1]==x+y:\n",
    "            if abs(root.right.data[0]-root.right.data[1]==abs(x-y)):\n",
    "                return\n",
    "            insert(root.right,x,y)\n",
    "        if root.data[0]+2*root.data[1]<=x+y:\n",
    "            root.left=Node([root.data[0]+root.data[1],root.data[1]])\n",
    "        #if root.data[0]+2*root.data[1]==x+y:\n",
    "            if abs(root.left.data[0]-root.left.data[1]==abs(x-y)):\n",
    "                return\n",
    "            insert(root.left,x,y)\n",
    "from collections import deque\n",
    "def printt(root):\n",
    "    d=deque()\n",
    "    a=[]\n",
    "    if root:\n",
    "        d.append(root)\n",
    "    while(len(d)):\n",
    "        t=d.pop()\n",
    "        a.append(t.data)\n",
    "        if t.left:\n",
    "            d.append(t.left)\n",
    "        if t.right:\n",
    "            d.append(t.right)\n",
    "    print(a)\n",
    "\n",
    "def bsf(root,x,y):\n",
    "    a=[]\n",
    "    if root is None:\n",
    "        return a\n",
    "    r=root\n",
    "    from collections import deque\n",
    "    q=deque()\n",
    "    t=root\n",
    "    result=0\n",
    "    q.append(t)\n",
    "    while(q):\n",
    "        lent=len(q)\n",
    "        result+=1\n",
    "        for i in range(lent):\n",
    "            t=q.popleft()\n",
    "            a.append(t.data)\n",
    "            print(t.data,result)#,'            ',sum(t.data),t.data[0],t.data[1],x+y)\n",
    "            if sum(t.data)==x+y:\n",
    "                #print('mcccccc')\n",
    "                if abs(t.data[0]-t.data[1])==abs(x-y):\n",
    "                    print(result,'final',t.data)\n",
    "                    return result\n",
    "            if t.left:\n",
    "                q.append(t.left)\n",
    "            if t.right:\n",
    "                q.append(t.right)\n",
    "        print(a,'a',result)\n",
    "        a=[]\n",
    "    return a\n",
    "    \n",
    "        \n",
    "def solution(x, y):\n",
    "    x=int(x)\n",
    "    y=int(y)\n",
    "    root=Node([2,1])\n",
    "    #print(root.data[0])\n",
    "    insert(root,x,y)\n",
    "\n",
    "    #print(root.data)\n",
    "    printt(root)\n",
    "    \n",
    "    print(str(bsf(root,x,y)),'this is finale')\n",
    "    \n",
    "solution('9','2')"
   ]
  },
  {
   "cell_type": "code",
   "execution_count": 225,
   "metadata": {},
   "outputs": [
    {
     "name": "stdout",
     "output_type": "stream",
     "text": [
      "impossible\n"
     ]
    }
   ],
   "source": [
    "'''Finale'''\n",
    "def answer(x, y):\n",
    "    a=[int(x),int(y)]\n",
    "    a.sort()\n",
    "    count=0\n",
    "    while a[1] != 1:\n",
    "        if a[1] % a[0] == 0:\n",
    "            return \"impossible\"\n",
    "\n",
    "        count += a[1]/a[0]\n",
    "        a[1]=a[1]%a[0]\n",
    "        a.sort()\n",
    "    return count + a[1] - 1\n",
    "\n",
    "print (answer('4','7'))"
   ]
  },
  {
   "cell_type": "markdown",
   "metadata": {},
   "source": [
    "# QUE 3 level 3 find-the-access-codes"
   ]
  },
  {
   "cell_type": "code",
   "execution_count": 261,
   "metadata": {},
   "outputs": [
    {
     "name": "stdout",
     "output_type": "stream",
     "text": [
      "[[0, 1, 1, 1, 1, 1], [0, 0, 0, 1, 0, 1], [0, 0, 0, 0, 0, 1], [0, 0, 0, 0, 0, 0], [0, 0, 0, 0, 0, 0], [0, 0, 0, 0, 0, 0]]\n",
      "[5, 2, 1, 0, 0, 0] ss\n",
      "1 j\n",
      "2 j\n",
      "3 j\n",
      "4 j\n",
      "5 j\n",
      "3 j\n",
      "5 j\n",
      "5 j\n",
      "3\n"
     ]
    }
   ],
   "source": [
    "'''finale'''\n",
    "def solution(l):\n",
    "    result=0\n",
    "    a=[[0 for i in range(len(l))] for i in range(len(l))]\n",
    "    for i in range(len(a)):\n",
    "        for j in range(i+1,len(a[0])):\n",
    "            if l[j]%l[i]==0:\n",
    "                a[i][j]=1\n",
    "    print(a)\n",
    "    ss=[sum(a[i]) for i in range(len(a))]\n",
    "    print(ss,'ss')\n",
    "    #s=set()\n",
    "    for i in range(len(a)):\n",
    "        for j in range(i+1,len(a[0])):\n",
    "            if a[i][j]==1:\n",
    "                #for k in range(len(a[0])):                    #remove this # if you want to count only unique elements, but this question dowsnt need this\n",
    "                    #if a[j][k]==1:\n",
    "                        #t=tuple([l[i],l[j],l[k]])\n",
    "                        #s.add(t)\n",
    "                ##result+=sum(a[j])\n",
    "                print(j,'j')\n",
    "                result+=ss[j]\n",
    "    print(result)\n",
    "    #print(len(s))\n",
    "    #print(s)\n",
    "    \n",
    "    \n",
    "solution([1,2,3,4,5,6])"
   ]
  },
  {
   "cell_type": "markdown",
   "metadata": {},
   "source": [
    "# Que 1 level 4 bringing-a-gun-to-a-trainer-fight"
   ]
  },
  {
   "cell_type": "code",
   "execution_count": 90,
   "metadata": {
    "scrolled": false
   },
   "outputs": [
    {
     "name": "stdout",
     "output_type": "stream",
     "text": [
      "        0       1       2       3       4       5\n",
      "0  [0, 0]  [0, 0]  [0, 0]  [0, 0]  [0, 0]  [0, 0]\n",
      "1  [0, 0]  [0, 0]  [0, 0]  [0, 0]  [0, 0]  [0, 0]\n",
      "2  [0, 0]  [0, 0]  [0, 0]  [0, 0]  [0, 0]  [0, 0]\n",
      "3  [0, 0]  [0, 0]  [0, 0]  [0, 0]  [0, 0]  [0, 0]\n",
      "4  [0, 0]  [0, 0]  [0, 0]  [0, 0]  [0, 0]  [0, 0]\n",
      "5  [0, 0]  [0, 0]  [0, 0]  [0, 0]  [0, 0]  [0, 0]\n",
      "[415, 450] added\n",
      "4 resutl*4\n",
      "[1385, 1000] m[3,4]\n",
      "[185, 100] added len(m)\n",
      "[185, 450] added len(m)\n",
      "[185, 100] added len(m[0])\n",
      "[415, 100] added len(m[0])\n",
      "[[[185, 100], [415, 100], [785, 100], [1015, 100], [1385, 100], [1615, 100]], [[185, 450], [415, 450], [785, 450], [1015, 450], [1385, 450], [1615, 450]], [[185, 650], [415, 650], [785, 650], [1015, 650], [1385, 650], [1615, 650]], [[185, 1000], [415, 1000], [785, 1000], [1015, 1000], [1385, 1000], [1615, 1000]], [[185, 1200], [415, 1200], [785, 1200], [1015, 1200], [1385, 1200], [1615, 1200]], [[185, 1550], [415, 1550], [785, 1550], [1015, 1550], [1385, 1550], [1615, 1550]]]\n",
      "             0            1            2             3             4  \\\n",
      "0   [185, 100]   [415, 100]   [785, 100]   [1015, 100]   [1385, 100]   \n",
      "1   [185, 450]   [415, 450]   [785, 450]   [1015, 450]   [1385, 450]   \n",
      "2   [185, 650]   [415, 650]   [785, 650]   [1015, 650]   [1385, 650]   \n",
      "3  [185, 1000]  [415, 1000]  [785, 1000]  [1015, 1000]  [1385, 1000]   \n",
      "4  [185, 1200]  [415, 1200]  [785, 1200]  [1015, 1200]  [1385, 1200]   \n",
      "5  [185, 1550]  [415, 1550]  [785, 1550]  [1015, 1550]  [1385, 1550]   \n",
      "\n",
      "              5  \n",
      "0   [1615, 100]  \n",
      "1   [1615, 450]  \n",
      "2   [1615, 650]  \n",
      "3  [1615, 1000]  \n",
      "4  [1615, 1200]  \n",
      "5  [1615, 1550]  \n",
      "9 final\n"
     ]
    }
   ],
   "source": [
    "def solution(dimensions, your_position, trainer_position, distance):\n",
    "    \n",
    "    #Your code here\n",
    "    #m=[[0 for i in range(dimensions[0]+distance)] for i in range(dimensions[1]+distance)]\n",
    "    m=[[[0,0] for i in range((distance//dimensions[0])+5)] for i in range((distance//dimensions[1])+5)]\n",
    "    #print(m)\n",
    "    from pandas import DataFrame\n",
    "    x = m\n",
    "    print (DataFrame(x)  )\n",
    "    result=0\n",
    "    #c=0 \n",
    "    for i in range(0,len(m)):\n",
    "        c=0\n",
    "        for j in range(0,len(m[0])):\n",
    "            \n",
    "            if i%2==0:\n",
    "                if j%2==0:\n",
    "                    m[i][j]=[dimensions[0]*(c)+trainer_position[0],dimensions[1]*i+trainer_position[1]]\n",
    "                    c+=1\n",
    "                    \n",
    "                if j%2==1:\n",
    "                    m[i][j]=[dimensions[0]*(c+1)-trainer_position[0],dimensions[1]*i+trainer_position[1]]\n",
    "                    c+=1\n",
    "            if i%2==1:\n",
    "                if j%2==0:\n",
    "                    m[i][j]=[dimensions[0]*(c)+trainer_position[0],dimensions[1]*(i+1)-trainer_position[1]]\n",
    "                    c+=1\n",
    "                if j%2==1:\n",
    "                    m[i][j]=[dimensions[0]*(c+1)-trainer_position[0],dimensions[1]*(i+1)-trainer_position[1]]\n",
    "                    c+=1\n",
    "                    \n",
    "#             else:\n",
    "#                     c+=1\n",
    "        #c=0\n",
    "    for i in range(1,len(m)):\n",
    "        for j in range(1,len(m[0])):\n",
    "            if ( ((m[i][j][0]-your_position[0])*(m[i][j][0]-your_position[0])) +  ((m[i][j][1]-your_position[1])*(m[i][j][1]-your_position[1]))     <=distance*distance      ):\n",
    "                print(m[i][j],'added')\n",
    "                result+=1\n",
    "    result*=4\n",
    "    print(result,'resutl*4')\n",
    "    \n",
    "    if your_position[0]==trainer_position[0] or your_position[1]==trainer_position[1]:\n",
    "        result/=2\n",
    "        result+=1\n",
    "    \n",
    "    else:\n",
    "        print(m[3][4],'m[3,4]')\n",
    "        now=0\n",
    "        for i in range(len(m)):\n",
    "            if ( ((m[i][0][0]-your_position[0])*(m[i][0][0]-your_position[0])) +  ((m[i][0][1]-your_position[1])*(m[i][0][1]-your_position[1]))     <=distance*distance      ):\n",
    "                now+=1\n",
    "                print(m[i][0],'added len(m)')\n",
    "        for i in range(len(m[0])):\n",
    "            if ( ((m[0][i][0]-your_position[0])*(m[0][i][0]-your_position[0])) +  ((m[0][i][1]-your_position[1])*(m[0][i][1]-your_position[1]))     <=distance*distance      ):\n",
    "                now+=1\n",
    "                print(m[0][i],'added len(m[0])')\n",
    "\n",
    "        now-=2\n",
    "        result+=2*now\n",
    "        result+=1\n",
    "    \n",
    "    x = m\n",
    "    print(m)\n",
    "    print (DataFrame(x))\n",
    "    print(result,'final')\n",
    "                    \n",
    "                    \n",
    "    \n",
    "solution([300,275], [150,150], [185,100], 500)\n",
    "    #Your code here"
   ]
  },
  {
   "cell_type": "code",
   "execution_count": 108,
   "metadata": {},
   "outputs": [
    {
     "name": "stdout",
     "output_type": "stream",
     "text": [
      "[4, 3] added\n",
      "2 2 now\n",
      "[[[2, 1], [4, 1]], [[2, 3], [4, 3]], [[2, 5], [4, 5]]]\n",
      "        0       1\n",
      "0  [2, 1]  [4, 1]\n",
      "1  [2, 3]  [4, 3]\n",
      "2  [2, 5]  [4, 5]\n",
      "7 final\n",
      "7\n"
     ]
    }
   ],
   "source": [
    "'''* by 4 wala'''\n",
    "def solution(dimensions, your_position, trainer_position, distance):\n",
    "    \n",
    "    #Your code here \\\n",
    "    #def solution(dimensions, your_position, trainer_position, distance):\n",
    "    \n",
    "    #Your code here\n",
    "    #m=[[0 for i in range(dimensions[0]+distance)] for i in range(dimensions[1]+distance)]\n",
    "    m=[[[0,0] for i in range((distance//dimensions[0])+1)] for i in range((distance//dimensions[1])+1)]\n",
    "    #print(m)\n",
    "    from pandas import DataFrame\n",
    "    x = m\n",
    "    #print (DataFrame(x)  )\n",
    "    result=0\n",
    "    #c=0 \n",
    "    for i in range(0,len(m)):\n",
    "        c=0\n",
    "        for j in range(0,len(m[0])):\n",
    "            \n",
    "            if i%2==0:\n",
    "                if j%2==0:\n",
    "                    m[i][j]=[dimensions[0]*(c)+trainer_position[0],dimensions[1]*i+trainer_position[1]]\n",
    "                    c+=1\n",
    "                    \n",
    "                if j%2==1:\n",
    "                    m[i][j]=[dimensions[0]*(c+1)-trainer_position[0],dimensions[1]*i+trainer_position[1]]\n",
    "                    c+=1\n",
    "            if i%2==1:\n",
    "                if j%2==0:\n",
    "                    m[i][j]=[dimensions[0]*(c)+trainer_position[0],dimensions[1]*(i+1)-trainer_position[1]]\n",
    "                    c+=1\n",
    "                if j%2==1:\n",
    "                    m[i][j]=[dimensions[0]*(c+1)-trainer_position[0],dimensions[1]*(i+1)-trainer_position[1]]\n",
    "                    c+=1\n",
    "                    \n",
    "#             else:\n",
    "#                     c+=1\n",
    "        #c=0\n",
    "    for i in range(1,len(m)):\n",
    "        for j in range(1,len(m[0])):\n",
    "            if ( ((m[i][j][0]-your_position[0])*(m[i][j][0]-your_position[0])) +  ((m[i][j][1]-your_position[1])*(m[i][j][1]-your_position[1]))     <=distance*distance      ):\n",
    "                print(m[i][j],'added')\n",
    "                result+=1\n",
    "    result*=4\n",
    "    #print(result,'resutl*4')\n",
    "    \n",
    "    if your_position[0]==trainer_position[0] or your_position[1]==trainer_position[1]:\n",
    "        \n",
    "        now=0\n",
    "        #result+=1\n",
    "        if your_position[1]==trainer_position[1]:\n",
    "            for i in range(len(m)):\n",
    "                if ( ((m[i][0][0]-your_position[0])*(m[i][0][0]-your_position[0])) +  ((m[i][0][1]-your_position[1])*(m[i][0][1]-your_position[1]))     <=distance*distance      ):\n",
    "                    now+=1\n",
    "            print(now,now,'now')\n",
    "            result+=now*2-1\n",
    "        if your_position[0]==trainer_position[0]:\n",
    "            for i in range(len(m[0])):\n",
    "                if ( ((m[0][i][0]-your_position[0])*(m[0][i][0]-your_position[0])) +  ((m[0][i][1]-your_position[1])*(m[0][i][1]-your_position[1]))     <=distance*distance      ):\n",
    "                    now+=1\n",
    "            print(now,now,'now')\n",
    "            result+=now*2-1\n",
    "    \n",
    "    else:\n",
    "        #print(m[3][4],'m[3,4]')\n",
    "        now=0\n",
    "        for i in range(len(m)):\n",
    "            if ( ((m[i][0][0]-your_position[0])*(m[i][0][0]-your_position[0])) +  ((m[i][0][1]-your_position[1])*(m[i][0][1]-your_position[1]))     <=distance*distance      ):\n",
    "                now+=1\n",
    "                #print(m[i][0],'added len(m)')\n",
    "        for i in range(len(m[0])):\n",
    "            if ( ((m[0][i][0]-your_position[0])*(m[0][i][0]-your_position[0])) +  ((m[0][i][1]-your_position[1])*(m[0][i][1]-your_position[1]))     <=distance*distance      ):\n",
    "                now+=1\n",
    "                #print(m[0][i],'added len(m[0])')\n",
    "\n",
    "        now-=2\n",
    "        result+=2*now\n",
    "        result+=1\n",
    "    \n",
    "    x = m\n",
    "    print(m)\n",
    "    print (DataFrame(x))\n",
    "    print(result,'final')\n",
    "    return result\n",
    "                    \n",
    "                    \n",
    "    \n",
    "#print(solution([300,275], [150,150], [185,100], 500))\n",
    "print(solution([3,2], [1,1], [2,1], 4))\n",
    "    #Your code here"
   ]
  },
  {
   "cell_type": "code",
   "execution_count": 113,
   "metadata": {},
   "outputs": [
    {
     "name": "stdout",
     "output_type": "stream",
     "text": [
      "[415, 450] added\n",
      "[[[185, 100], [415, 100]], [[185, 450], [415, 450]]]\n",
      "            0           1\n",
      "0  [185, 100]  [415, 100]\n",
      "1  [185, 450]  [415, 450]\n",
      "9 final\n",
      "9\n"
     ]
    }
   ],
   "source": [
    "'''* by 4 wala'''\n",
    "def solution(dimensions, your_position, trainer_position, distance):\n",
    "    \n",
    "    #Your code here \\\n",
    "    #def solution(dimensions, your_position, trainer_position, distance):\n",
    "    \n",
    "    #Your code here\n",
    "    #m=[[0 for i in range(dimensions[0]+distance)] for i in range(dimensions[1]+distance)]\n",
    "    m=[[[0,0] for i in range((distance//dimensions[0])+1)] for i in range((distance//dimensions[1])+1)]\n",
    "    #print(m)\n",
    "    from pandas import DataFrame\n",
    "    x = m\n",
    "    #print (DataFrame(x)  )\n",
    "    result=0\n",
    "    #c=0 \n",
    "    for i in range(0,len(m)):\n",
    "        c=0\n",
    "        for j in range(0,len(m[0])):\n",
    "            \n",
    "            if i%2==0:\n",
    "                if j%2==0:          #may be replace here i by c\n",
    "                    m[i][j]=[dimensions[0]*(c)+trainer_position[0],dimensions[1]*i+trainer_position[1]]\n",
    "                    c+=1\n",
    "                    \n",
    "                if j%2==1:\n",
    "                    m[i][j]=[dimensions[0]*(c+1)-trainer_position[0],dimensions[1]*i+trainer_position[1]]\n",
    "                    c+=1\n",
    "            if i%2==1:\n",
    "                if j%2==0:\n",
    "                    m[i][j]=[dimensions[0]*(c)+trainer_position[0],dimensions[1]*(i+1)-trainer_position[1]]\n",
    "                    c+=1\n",
    "                if j%2==1:\n",
    "                    m[i][j]=[dimensions[0]*(c+1)-trainer_position[0],dimensions[1]*(i+1)-trainer_position[1]]\n",
    "                    c+=1\n",
    "                    \n",
    "#             else:\n",
    "#                     c+=1\n",
    "        #c=0\n",
    "    for i in range(1,len(m)):\n",
    "        for j in range(1,len(m[0])):\n",
    "            if ( ((m[i][j][0]-your_position[0])*(m[i][j][0]-your_position[0])) +  ((m[i][j][1]-your_position[1])*(m[i][j][1]-your_position[1]))     <=distance*distance      ):\n",
    "                print(m[i][j],'added')\n",
    "                result+=1\n",
    "    result*=4\n",
    "    #print(result,'resutl*4')\n",
    "    \n",
    "    if your_position[0]==trainer_position[0] or your_position[1]==trainer_position[1]:\n",
    "        \n",
    "        now=0\n",
    "        #result+=1\n",
    "        if your_position[1]==trainer_position[1]:\n",
    "            for i in range(len(m)):\n",
    "                if ( ((m[i][0][0]-your_position[0])*(m[i][0][0]-your_position[0])) +  ((m[i][0][1]-your_position[1])*(m[i][0][1]-your_position[1]))     <=distance*distance      ):\n",
    "                    now+=1\n",
    "            print(now,now,'now')\n",
    "            result+=now*2-1\n",
    "        if your_position[0]==trainer_position[0]:\n",
    "            for i in range(len(m[0])):\n",
    "                if ( ((m[0][i][0]-your_position[0])*(m[0][i][0]-your_position[0])) +  ((m[0][i][1]-your_position[1])*(m[0][i][1]-your_position[1]))     <=distance*distance      ):\n",
    "                    now+=1\n",
    "            print(now,now,'now')\n",
    "            result+=now*2-1\n",
    "    \n",
    "    else:\n",
    "        #print(m[3][4],'m[3,4]')\n",
    "        now=0\n",
    "        for i in range(len(m)):\n",
    "            if ( ((m[i][0][0]-your_position[0])*(m[i][0][0]-your_position[0])) +  ((m[i][0][1]-your_position[1])*(m[i][0][1]-your_position[1]))     <=distance*distance      ):\n",
    "                now+=1\n",
    "                #print(m[i][0],'added len(m)')\n",
    "        for i in range(len(m[0])):\n",
    "            if ( ((m[0][i][0]-your_position[0])*(m[0][i][0]-your_position[0])) +  ((m[0][i][1]-your_position[1])*(m[0][i][1]-your_position[1]))     <=distance*distance      ):\n",
    "                now+=1\n",
    "                #print(m[0][i],'added len(m[0])')\n",
    "\n",
    "        now-=2\n",
    "        result+=2*now\n",
    "        result+=1\n",
    "    \n",
    "    x = m\n",
    "    print(m)\n",
    "    print (DataFrame(x))\n",
    "    print(result,'final')\n",
    "    return result\n",
    "                    \n",
    "                    \n",
    "    \n",
    "print(solution([300,275], [150,150], [185,100], 500))\n",
    "#print(solution([3,2], [1,1], [2,1], 4))\n",
    "    #Your code here"
   ]
  },
  {
   "cell_type": "code",
   "execution_count": 236,
   "metadata": {
    "scrolled": true
   },
   "outputs": [
    {
     "name": "stdout",
     "output_type": "stream",
     "text": [
      "[[[[0, 0], [0, 0]], [[0, 0], [0, 0]], [[0, 0], [0, 0]], [[0, 0], [0, 0]], [[0, 0], [0, 0]]], [[[0, 0], [0, 0]], [[0, 0], [0, 0]], [[0, 0], [0, 0]], [[0, 0], [0, 0]], [[0, 0], [0, 0]]], [[[0, 0], [0, 0]], [[0, 0], [0, 0]], [[0, 0], [0, 0]], [[0, 0], [0, 0]], [[0, 0], [0, 0]]], [[[0, 0], [0, 0]], [[0, 0], [0, 0]], [[0, 0], [0, 0]], [[0, 0], [0, 0]], [[0, 0], [0, 0]]], [[[0, 0], [0, 0]], [[0, 0], [0, 0]], [[0, 0], [0, 0]], [[0, 0], [0, 0]], [[0, 0], [0, 0]]]]\n",
      "                        0                 1                         2  \\\n",
      "0  [[-450, -400], [0, 0]]  [[0, 0], [0, 0]]     [[150, -400], [0, 0]]   \n",
      "1     [[-450, 0], [0, 0]]  [[0, 0], [0, 0]]        [[150, 0], [0, 0]]   \n",
      "2   [[-450, 150], [0, 0]]  [[0, 0], [0, 0]]  [[150, 150], [185, 100]]   \n",
      "3     [[-450, 0], [0, 0]]  [[0, 0], [0, 0]]        [[150, 0], [0, 0]]   \n",
      "4   [[-450, 700], [0, 0]]  [[0, 0], [0, 0]]      [[150, 700], [0, 0]]   \n",
      "\n",
      "                  3                      4  \n",
      "0  [[0, 0], [0, 0]]  [[750, -400], [0, 0]]  \n",
      "1  [[0, 0], [0, 0]]     [[750, 0], [0, 0]]  \n",
      "2  [[0, 0], [0, 0]]   [[750, 150], [0, 0]]  \n",
      "3  [[0, 0], [0, 0]]     [[750, 0], [0, 0]]  \n",
      "4  [[0, 0], [0, 0]]   [[750, 700], [0, 0]]  \n",
      "None\n"
     ]
    }
   ],
   "source": [
    "def solution(dimensions, your_position, trainer_position, distance):\n",
    "    m=[[[[0,0],[0,0]] for i in range((((distance)//dimensions[0])*2)+3)] for i in range((((distance)//dimensions[1])*2)+3)]\n",
    "    print(m)\n",
    "    from pandas import DataFrame\n",
    "    a0=len(m)//2\n",
    "    a1=len(m[0])//2\n",
    "    a=m[a0][a1]\n",
    "    m[a0][a1]=[[your_position[0],your_position[1]],[trainer_position[0],trainer_position[1]]]\n",
    "    #print(a,'a')\n",
    "#    a[0][0]=4    \n",
    "    for i in range(len(m)):                #to initilize my posn\n",
    "        r=-a0           # '''Remove this r, never use r, use only i,j,a0,a1'''\n",
    "        for j in range(len(m[0])):\n",
    "            if i%2==0:\n",
    "                if j%2==0:\n",
    "                    m[i][j][0][0]=your_position[0]+(j-a1)*dimensions[0]\n",
    "                    m[i][j][0][1]=your_position[1]+(i-a0)*dimensions[1]\n",
    "                    r+=1\n",
    "\n",
    "                if j%2==1:\n",
    "                    m[i][j][0][0]=(r+1)*dimensions[0]-your_position[0]\n",
    "                    m[i][j][0][0]=0\n",
    "                    r+=1\n",
    "            if i%2==1:\n",
    "                if j%2==0:\n",
    "                    m[i][j][0][0]=your_position[0]+(j-a1)*dimensions[0]\n",
    "                    ##m[i][j][0][0]=0\n",
    "                    r+=1\n",
    "                if j%2==1:\n",
    "                    m[i][j][0][0]=(r+1)*dimensions[0]-your_position[0]\n",
    "                    m[i][j][0][0]=0#your_position[1]+r*dimensions[1]\n",
    "                    r+=1\n",
    "  \n",
    "\n",
    "    x=m\n",
    "    print (DataFrame(x)  )\n",
    "print(solution([300,275], [150,150], [185,100], 500))\n",
    "#print(solution([3,2], [1,1], [2,1], 4))"
   ]
  },
  {
   "cell_type": "code",
   "execution_count": 126,
   "metadata": {},
   "outputs": [
    {
     "data": {
      "text/plain": [
       "1"
      ]
     },
     "execution_count": 126,
     "metadata": {},
     "output_type": "execute_result"
    }
   ],
   "source": [
    "500//300"
   ]
  },
  {
   "cell_type": "code",
   "execution_count": 242,
   "metadata": {},
   "outputs": [
    {
     "data": {
      "text/plain": [
       "1.3333333333333333"
      ]
     },
     "execution_count": 242,
     "metadata": {},
     "output_type": "execute_result"
    }
   ],
   "source": [
    "0  [[150, -400], [185, -450]]          [[0, -400], [0, -450]]   \n",
    "1        [[150, 0], [185, 0]]                [[0, 0], [0, 0]]   \n",
    "2    [[150, 150], [185, 100]]            [[0, 150], [0, 100]]   \n",
    "3        [[150, 0], [185, 0]]                [[0, 0], [0, 0]]   \n",
    "4    [[150, 700], [185, 650]]            [[0, 700], [0, 650]]         "
   ]
  },
  {
   "cell_type": "code",
   "execution_count": 426,
   "metadata": {},
   "outputs": [
    {
     "name": "stdout",
     "output_type": "stream",
     "text": [
      "{3: 4, 4: 4, 5: 5, 6: 6, 7: 7, 8: 80}\n",
      "{3: 4, 4: 4, 5: 5, 6: 6, 7: 7, 8: 80}\n",
      "80\n"
     ]
    }
   ],
   "source": [
    "set_my={}\n",
    "\n",
    "\n",
    "set_my[3]=4\n",
    "set_my[4]=4\n",
    "set_my[5]=5\n",
    "set_my[6]=6\n",
    "set_my[7]=7\n",
    "set_my[8]=80\n",
    "print(set_my)\n",
    "if 8 in set_my:\n",
    "    print(set_my)\n",
    "    print(set_my[8])"
   ]
  },
  {
   "cell_type": "code",
   "execution_count": 589,
   "metadata": {
    "scrolled": false
   },
   "outputs": [
    {
     "name": "stdout",
     "output_type": "stream",
     "text": [
      "[[[[0, 0], [0, 0]], [[0, 0], [0, 0]], [[0, 0], [0, 0]], [[0, 0], [0, 0]], [[0, 0], [0, 0]]], [[[0, 0], [0, 0]], [[0, 0], [0, 0]], [[0, 0], [0, 0]], [[0, 0], [0, 0]], [[0, 0], [0, 0]]], [[[0, 0], [0, 0]], [[0, 0], [0, 0]], [[0, 0], [0, 0]], [[0, 0], [0, 0]], [[0, 0], [0, 0]]], [[[0, 0], [0, 0]], [[0, 0], [0, 0]], [[0, 0], [0, 0]], [[0, 0], [0, 0]], [[0, 0], [0, 0]]], [[[0, 0], [0, 0]], [[0, 0], [0, 0]], [[0, 0], [0, 0]], [[0, 0], [0, 0]], [[0, 0], [0, 0]]], [[[0, 0], [0, 0]], [[0, 0], [0, 0]], [[0, 0], [0, 0]], [[0, 0], [0, 0]], [[0, 0], [0, 0]]], [[[0, 0], [0, 0]], [[0, 0], [0, 0]], [[0, 0], [0, 0]], [[0, 0], [0, 0]], [[0, 0], [0, 0]]]]\n",
      "[[1, 1], [2, 1]] a\n",
      "3 a0 2 a1\n",
      "                      0                     1                     2  \\\n",
      "0  [[-8, -3], [-7, -3]]  [[-4, -3], [-5, -3]]  [[-2, -3], [-1, -3]]   \n",
      "1  [[-8, -1], [-7, -1]]  [[-4, -1], [-5, -1]]  [[-2, -1], [-1, -1]]   \n",
      "2    [[-8, 1], [-7, 1]]    [[-4, 1], [-5, 1]]    [[-2, 1], [-1, 1]]   \n",
      "3    [[-8, 3], [-7, 3]]    [[-4, 3], [-5, 3]]    [[-2, 3], [-1, 3]]   \n",
      "4    [[-8, 5], [-7, 5]]    [[-4, 5], [-5, 5]]    [[-2, 5], [-1, 5]]   \n",
      "5    [[-8, 7], [-7, 7]]    [[-4, 7], [-5, 7]]    [[-2, 7], [-1, 7]]   \n",
      "6    [[-8, 9], [-7, 9]]    [[-4, 9], [-5, 9]]    [[-2, 9], [-1, 9]]   \n",
      "\n",
      "                    3                   4  \n",
      "0  [[2, -3], [1, -3]]  [[4, -3], [5, -3]]  \n",
      "1  [[2, -1], [1, -1]]  [[4, -1], [5, -1]]  \n",
      "2    [[2, 1], [1, 1]]    [[4, 1], [5, 1]]  \n",
      "3    [[2, 3], [1, 3]]    [[4, 3], [5, 3]]  \n",
      "4    [[2, 5], [1, 5]]    [[4, 5], [5, 5]]  \n",
      "5    [[2, 7], [1, 7]]    [[4, 7], [5, 7]]  \n",
      "6    [[2, 9], [1, 9]]    [[4, 9], [5, 9]]  \n",
      "\n",
      "[[-2, 3], [-1, 3]] middle\n",
      "\n",
      "[-2, -1]\n",
      "[-4, 1]\n",
      "[-2, 1]\n",
      "[-4, 3]\n",
      "[2, 3]\n",
      "[-4, 5]\n",
      "[-2, 5]\n",
      "[-2, 7]\n",
      "[[-2, -1], [-4, 1], [-2, 1], [-4, 3], [2, 3], [-4, 5], [-2, 5], [-2, 7]]\n",
      "\n",
      "[1.0, -0.0, 0.0, -1.0]\n",
      "\n",
      "my_a below\n",
      "[[-4, 0], [-2, -2], [-2, 0], [0, -2], [0, 4], [2, -2], [2, 0], [4, 0]]\n",
      "[[1.0, -0.0, 0.0, -1.0], [4, 4, 16, 4]] my_slope_2d\n",
      "\n",
      "--train\n",
      "[-5, 1]\n",
      "[-1, 1]\n",
      "[1, 1]\n",
      "[-5, 3]\n",
      "[1, 3]\n",
      "[-5, 5]\n",
      "[-1, 5]\n",
      "[1, 5]\n",
      "[[-5, 1], [-1, 1], [1, 1], [-5, 3], [1, 3], [-5, 5], [-1, 5], [1, 5]]\n",
      "\n",
      "[0.6666666666666666, -2.0, -0.6666666666666666, -0.0, 0.0, -0.6666666666666666, 2.0, 0.6666666666666666]\n",
      "\n",
      "train_a below\n",
      "[[-2, -3], [-2, 1], [-2, 3], [0, -3], [0, 3], [2, -3], [2, 1], [2, 3]]\n",
      "None\n"
     ]
    }
   ],
   "source": [
    "'''Finale'''\n",
    "def solution(dimensions, your_position, trainer_position, distance):\n",
    "    m=[[[[0,0],[0,0]] for i in range((((distance)//dimensions[0])*2)+3)] for i in range((((distance)//dimensions[1])*2)+3)]\n",
    "    print(m)\n",
    "    from pandas import DataFrame\n",
    "    a0=len(m)//2\n",
    "    a1=len(m[0])//2\n",
    "\n",
    "    m[a0][a1]=[[your_position[0],your_position[1]],[trainer_position[0],trainer_position[1]]]\n",
    "    a=m[a0][a1]\n",
    "    print(a,'a')\n",
    "    print(a0,'a0',a1,'a1')\n",
    "    \n",
    "    #print(a,'a')\n",
    "#    a[0][0]=4    \n",
    "    x=m\n",
    "    #print (DataFrame(x)  )\n",
    "    for i in range(len(m)):                #to initilize my posn\n",
    "        #r=-a0           # '''Remove this r, never use r, use only i,j,a0,a1'''\n",
    "        for j in range(len(m[0])):\n",
    "            \n",
    "            if i%2==0:\n",
    "                if j%2==0:\n",
    "                    \n",
    "                    m[i][j][0][0]=your_position[0]+(j-a0)*dimensions[0]\n",
    "                    m[i][j][0][1]=your_position[1]+(i-a1)*dimensions[1]\n",
    "                    \n",
    "                    m[i][j][1][0]=trainer_position[0]+(j-a0)*dimensions[0]\n",
    "                    m[i][j][1][1]=trainer_position[1]+(i-a1)*dimensions[1]\n",
    "                    \n",
    "            if i%2==0:\n",
    "                if j%2==1:\n",
    "                    \n",
    "                    m[i][j][0][0]=(j-a0)*dimensions[0]+dimensions[0]-your_position[0]#'?'\n",
    "                    m[i][j][0][1]=your_position[1]+(i-a1)*dimensions[1]\n",
    "                    \n",
    "                    m[i][j][1][0]=(j-a0)*dimensions[0]+dimensions[0]-trainer_position[0]#'_'#0\n",
    "                    m[i][j][1][1]=trainer_position[1]+(i-a1)*dimensions[1]        \n",
    "                    \n",
    "            if i%2==1:\n",
    "                if j%2==0:\n",
    "                    \n",
    "                    m[i][j][0][0]=your_position[0]+(j-a0)*dimensions[0]         \n",
    "                    m[i][j][0][1]=(i-a1)*dimensions[1] + dimensions[1]-your_position[1]#'_'#((i+1)*(dimensions[1]-your_position[1]))+your_position[1]##your_position[1]+(i-a1)*dimensions[1]\n",
    "                    \n",
    "                    m[i][j][1][0]=trainer_position[0]+(j-a0)*dimensions[0]   \n",
    "                    m[i][j][1][1]=(i-a1)*dimensions[1] + dimensions[1]-trainer_position[1]#'_'\n",
    "                    \n",
    "            if i%2==1:\n",
    "                if j%2==1:\n",
    "                    \n",
    "                    m[i][j][0][0]=(j-a0)*dimensions[0]+dimensions[0]-your_position[0]#'_'#0\n",
    "                    m[i][j][0][1]=(i-a1)*dimensions[1] + dimensions[1]-your_position[1]#'_'#0\n",
    "                    \n",
    "                    m[i][j][1][0]=(j-a0)*dimensions[0]+dimensions[0]-trainer_position[0]#'_'#(j-a0)*dimensions[0]+dimensions[0]-trainer_position[0]#'#'#'_'#0\n",
    "                    m[i][j][1][1]=(i-a1)*dimensions[1] + dimensions[1]-trainer_position[1]#'_'\n",
    "  \n",
    "\n",
    "    x=m\n",
    "    print (DataFrame(x)  )\n",
    "    print('')\n",
    "    print(m[len(m)//2][len(m[0])//2],'middle')\n",
    "    print('')\n",
    "    \n",
    "    #                if ( ((m[0][i][0]-your_position[0])*(m[0][i][0]-your_position[0])) +  ((m[0][i][1]-your_position[1])*(m[0][i][1]-your_position[1]))     <=distance*distance      ):\n",
    "    my=[]\n",
    "    my_slope=[]\n",
    "    my_a=[]\n",
    "    my_slope_2d=[]\n",
    "    my_slope_2d0=[]\n",
    "    my_slope_2d1=[]\n",
    "    #my_dict={}\n",
    "    for i in range(len(m)):\n",
    "        for j in range(len(m[0])):\n",
    "            #print(m[i][j][0][0])\n",
    "            if m[i][j][0]==m[len(m)//2][len(m[0])//2][0]:\n",
    "                continue\n",
    "            if ( (m[i][j][0][0]-m[len(m)//2][len(m[0])//2][0][0])*(m[i][j][0][0]-m[len(m)//2][len(m[0])//2][0][0]) ) + ( (m[i][j][0][1]-m[len(m)//2][len(m[0])//2][0][1])*(m[i][j][0][1]-m[len(m)//2][len(m[0])//2][0][1]) )      <= (distance) *(distance)   :       \n",
    "                print(m[i][j][0])\n",
    "                \n",
    "                my.append(m[i][j][0])\n",
    "                try:\n",
    "                    my_a.append([(m[i][j][0][1]-m[len(m)//2][len(m[0])//2][0][1]),(m[i][j][0][0]-m[len(m)//2][len(m[0])//2][0][0])])\n",
    "                    my_slope.append((m[i][j][0][1]-m[len(m)//2][len(m[0])//2][0][1])/(m[i][j][0][0]-m[len(m)//2][len(m[0])//2][0][0]))\n",
    "                    #my_dict[((m[i][j][0][1]-m[len(m)//2][len(m[0])//2][0][1])/(m[i][j][0][0]-m[len(m)//2][len(m[0])//2][0][0]))]=((m[i][j][0][0]-m[len(m)//2][len(m[0])//2][0][0])*(m[i][j][0][0]-m[len(m)//2][len(m[0])//2][0][0]) ) + ( (m[i][j][0][1]-m[len(m)//2][len(m[0])//2][0][1])*(m[i][j][0][1]-m[len(m)//2][len(m[0])//2][0][1]) )\n",
    "                    \n",
    "                    my_slope_2d0.append((m[i][j][0][1]-m[len(m)//2][len(m[0])//2][0][1])/(m[i][j][0][0]-m[len(m)//2][len(m[0])//2][0][0]))\n",
    "                    my_slope_2d1.append((m[i][j][0][0]-m[len(m)//2][len(m[0])//2][0][0])*(m[i][j][0][0]-m[len(m)//2][len(m[0])//2][0][0]) ) + ( (m[i][j][0][1]-m[len(m)//2][len(m[0])//2][0][1])*(m[i][j][0][1]-m[len(m)//2][len(m[0])//2][0][1]) )\n",
    "                except:\n",
    "                    pass\n",
    "                \n",
    "    \n",
    "                    \n",
    "    print(my)\n",
    "    print('')\n",
    "    print(my_slope)\n",
    "    \n",
    "    print('')\n",
    "    print('my_a below')\n",
    "    print(my_a)\n",
    "    \n",
    "    my_slope_2d.append(my_slope_2d0)\n",
    "    my_slope_2d.append(my_slope_2d1)\n",
    "    \n",
    "    print(my_slope_2d,'my_slope_2d')\n",
    "    \n",
    "    \n",
    "    print('')\n",
    "    \n",
    "    print('--train')\n",
    "    ##################\n",
    "    train=[]\n",
    "    train_slope=[]\n",
    "    train_a=[]                                         #same slope can also be counted if train is nearer than my, thats why maintain 2d array [2][x]\n",
    "    for i in range(len(m)):\n",
    "        for j in range(len(m[0])):\n",
    "            #print(m[i][j][0][0])\n",
    "            if m[i][j][1]==m[len(m)//2][len(m[0])//2][1]:\n",
    "                continue\n",
    "            if ( (m[i][j][1][0]-m[len(m)//2][len(m[0])//2][0][0])*(m[i][j][1][0]-m[len(m)//2][len(m[0])//2][0][0]) ) + ( (m[i][j][1][1]-m[len(m)//2][len(m[0])//2][0][1])*(m[i][j][1][1]-m[len(m)//2][len(m[0])//2][0][1]) )      <= (distance) *(distance)   :       \n",
    "                print(m[i][j][1])\n",
    "                \n",
    "                train.append(m[i][j][1])\n",
    "                try:\n",
    "                    train_a.append([(m[i][j][1][1]-m[len(m)//2][len(m[0])//2][0][1]),(m[i][j][1][0]-m[len(m)//2][len(m[0])//2][0][0])])\n",
    "                    train_slope.append((m[i][j][1][1]-m[len(m)//2][len(m[0])//2][0][1])/(m[i][j][1][0]-m[len(m)//2][len(m[0])//2][0][0]))\n",
    "                except:\n",
    "                    pass\n",
    "    \n",
    "    print(train)\n",
    "    print('')\n",
    "    print(train_slope)\n",
    "    \n",
    "    print('')\n",
    "    print('train_a below')\n",
    "    print(train_a)\n",
    "    \n",
    "    \n",
    "    \n",
    "    \n",
    "    \n",
    "    #print((m[i][j][0][1]-m[len(m)//2][len(m[0])//2][0][0])/(m[i][j][0][0])-m[len(m)//2][len(m[0])//2][0][1])\n",
    "            \n",
    "            \n",
    "#print(solution([300,275], [150,150], [185,100], 500))\n",
    "print(solution([3,2], [1,1], [2,1], 4))"
   ]
  },
  {
   "cell_type": "code",
   "execution_count": 493,
   "metadata": {},
   "outputs": [],
   "source": [
    "from math import ceil"
   ]
  },
  {
   "cell_type": "code",
   "execution_count": 508,
   "metadata": {},
   "outputs": [
    {
     "name": "stdout",
     "output_type": "stream",
     "text": [
      "[[[0, 0], [0, 0], [0, 0], [0, 0], [0, 0]], [[0, 0], [0, 0], [0, 0], [0, 0], [0, 0]], [[0, 0], [0, 0], [0, 0], [0, 0], [0, 0]], [[0, 0], [0, 0], [0, 0], [0, 0], [0, 0]], [[0, 0], [0, 0], [0, 0], [0, 0], [0, 0]]]\n",
      "5 5 1 1\n",
      "2 my_a0 2 my_a1\n",
      "        0       1           2       3       4\n",
      "0  [#, #]  [#, #]      [#, #]  [#, #]  [#, #]\n",
      "1  [#, #]  [#, #]      [#, #]  [#, #]  [#, #]\n",
      "2  [#, #]  [#, #]  [150, 150]  [#, #]  [#, #]\n",
      "3  [#, #]  [#, #]      [#, #]  [#, #]  [#, #]\n",
      "4  [#, #]  [#, #]      [#, #]  [#, #]  [#, #]\n",
      "None\n"
     ]
    }
   ],
   "source": [
    "'''Finale'''\n",
    "def solution(dimensions, your_position, trainer_position, distance):\n",
    "    #((distance//dimensions[0])*2)+3\n",
    "    my_m=[[ [0,0] for i in range((((distance)//dimensions[0])*2)+3)] for i in range((((distance)//dimensions[1])*2)+3)]\n",
    "    train_m=[[ [0,0] for i in range((((distance)//dimensions[0])*2)+3)] for i in range((((distance)//dimensions[1])*2)+3)]\n",
    "\n",
    "    print(my_m)\n",
    "    from pandas import DataFrame\n",
    "    print(len(my_m),len(my_m[0]),  (((distance)//dimensions[0])) ,  (((distance)//dimensions[1]))              )\n",
    "    my_a0=len(my_m)//2\n",
    "    my_a1=len(my_m[0])//2\n",
    "\n",
    "    my_m[my_a0][my_a1]=[your_position[0],your_position[1]]\n",
    "    #a=my_m[my_a0][my_a1]   #useless\n",
    "    #print(a,'a')\n",
    "    print(my_a0,'my_a0',my_a1,'my_a1')\n",
    "\n",
    "    \n",
    "    for i in range(len(my_m)):\n",
    "        for j in range(len(my_m[0])):\n",
    "            if i==my_a0 and j==my_a1:\n",
    "                continue\n",
    "                \n",
    "            my_m[my_a0-j]\n",
    "#             if i%2==0:\n",
    "#                 if j%2==0:\n",
    "#                         my_m[i][j][0]='#'#your_position[0]+(j-my_a0)*(dimensions[0])\n",
    "#                         my_m[i][j][1]='#'#\n",
    "#                 if j%2==1:\n",
    "#                         my_m[i][j][0]='#'\n",
    "#                         my_m[i][j][1]='#'\n",
    "#             if i%2==1:\n",
    "#                 if j%2==0:\n",
    "#                         my_m[i][j][0]='#'\n",
    "#                         my_m[i][j][1]='#'\n",
    "#                 if j%2==1:\n",
    "#                         my_m[i][j][0]='#'\n",
    "#                         my_m[i][j][1]='#'\n",
    "                    \n",
    "            \n",
    "            \n",
    "            \n",
    "            \n",
    "        my_x=my_m\n",
    "    print(DataFrame(my_x))\n",
    "#print(solution([3,2], [1,1], [2,1], 4))\n",
    "print(solution([300,275], [150,150], [185,100], 300))"
   ]
  },
  {
   "cell_type": "code",
   "execution_count": null,
   "metadata": {},
   "outputs": [],
   "source": []
  },
  {
   "cell_type": "code",
   "execution_count": 677,
   "metadata": {
    "scrolled": false
   },
   "outputs": [
    {
     "name": "stdout",
     "output_type": "stream",
     "text": [
      "[[[0, 0], [0, 0], [0, 0], [0, 0], [0, 0]], [[0, 0], [0, 0], [0, 0], [0, 0], [0, 0]], [[0, 0], [0, 0], [0, 0], [0, 0], [0, 0]], [[0, 0], [0, 0], [0, 0], [0, 0], [0, 0]], [[0, 0], [0, 0], [0, 0], [0, 0], [0, 0]]]\n",
      "[[[0, 0], [0, 0], [0, 0], [0, 0], [0, 0]], [[0, 0], [0, 0], [0, 0], [0, 0], [0, 0]], [[0, 0], [0, 0], [0, 0], [0, 0], [0, 0]], [[0, 0], [0, 0], [0, 0], [0, 0], [0, 0]], [[0, 0], [0, 0], [0, 0], [0, 0], [0, 0]]]\n",
      "5 5 1 1\n",
      "2 my_a0 2 my_a1\n",
      "              0             1            2            3            4\n",
      "0  [-450, -400]  [-150, -400]  [150, -400]  [450, -400]  [750, -400]\n",
      "1  [-450, -150]  [-150, -150]  [150, -150]  [450, -150]  [750, -150]\n",
      "2   [-450, 150]   [-150, 150]   [150, 150]   [450, 150]   [750, 150]\n",
      "3   [-450, 400]   [-150, 400]   [150, 400]   [450, 400]   [750, 400]\n",
      "4   [-450, 700]   [-150, 700]   [150, 700]   [450, 700]   [750, 700]\n",
      "              0             1            2            3            4\n",
      "0  [-415, -450]  [-185, -450]  [185, -450]  [415, -450]  [785, -450]\n",
      "1  [-415, -100]  [-185, -100]  [185, -100]  [415, -100]  [785, -100]\n",
      "2   [-415, 100]   [-185, 100]   [185, 100]   [415, 100]   [785, 100]\n",
      "3   [-415, 450]   [-185, 450]   [185, 450]   [415, 450]   [785, 450]\n",
      "4   [-415, 650]   [-185, 650]   [185, 650]   [415, 650]   [785, 650]\n",
      "\n",
      "{1.0: 180000, -1.0: 180000, -0.0: 90000, -0.8333333333333334: 152500, 0.8333333333333334: 152500} my_m_dict\n",
      "\n",
      "{0.5970149253731343: 176900, -0.7547169811320755: 92900, -0.0: 52900, 1.320754716981132: 175400} train_m_dict\n",
      "None\n"
     ]
    }
   ],
   "source": [
    "'''Finale'''\n",
    "def solution(dimensions, your_position, trainer_position, distance):\n",
    "    #((distance//dimensions[0])*2)+3\n",
    "    my_m=[[ [0,0] for i in range((((distance)//dimensions[0])*2)+3)] for i in range((((distance)//dimensions[1])*2)+3)]\n",
    "    train_m=[[ [0,0] for i in range((((distance)//dimensions[0])*2)+3)] for i in range((((distance)//dimensions[1])*2)+3)]\n",
    "\n",
    "    print(my_m)\n",
    "    print(train_m)\n",
    "    from pandas import DataFrame\n",
    "    print(len(my_m),len(my_m[0]),  (((distance)//dimensions[0])) ,  (((distance)//dimensions[1]))              )\n",
    "    my_a1=(len(my_m)//2)\n",
    "    my_a0=(len(my_m[0])//2)\n",
    "    #print(len(my_m),len(my_m[0]),'len(my_m),len(my_m[0])')\n",
    "    my_m[my_a0][my_a1]=[your_position[0],your_position[1]]\n",
    "    train_m[my_a0][my_a1]=[trainer_position[0],trainer_position[1]]\n",
    "    #a=my_m[my_a0][my_a1]   #useless\n",
    "    #print(a,'a')\n",
    "    print(my_a0,'my_a0',my_a1,'my_a1')\n",
    "\n",
    "    \n",
    "    for i in range(len(my_m)):\n",
    "        for j in range(len(my_m[0])):\n",
    "#               \n",
    "            if (my_a0-j)%2==0:\n",
    "                my_m[i][j][0]=your_position[0]+(j-my_a0)*dimensions[0]\n",
    "            if (my_a0-j)%2==1:\n",
    "                my_m[i][j][0]=(j-my_a0+1)*dimensions[0]-your_position[0]\n",
    "            if (my_a1-i)%2==0:\n",
    "                my_m[i][j][1]=your_position[1]+(i-my_a1)*dimensions[1]\n",
    "            if (my_a1-i)%2==1:\n",
    "                my_m[i][j][1]=(i-my_a1+1)*dimensions[1]-your_position[1]\n",
    "                \n",
    "    for i in range(len(my_m)):\n",
    "        for j in range(len(my_m[0])):\n",
    "#               \n",
    "            if (my_a0-j)%2==0:\n",
    "                train_m[i][j][0]=trainer_position[0]+(j-my_a0)*dimensions[0]\n",
    "            if (my_a0-j)%2==1:\n",
    "                train_m[i][j][0]=(j-my_a0+1)*dimensions[0]-trainer_position[0]\n",
    "            if (my_a1-i)%2==0:\n",
    "                train_m[i][j][1]=trainer_position[1]+(i-my_a1)*dimensions[1]\n",
    "            if (my_a1-i)%2==1:\n",
    "                train_m[i][j][1]=(i-my_a1+1)*dimensions[1]-trainer_position[1]\n",
    "            \n",
    "    my_x=my_m\n",
    "    print(DataFrame(my_x))\n",
    "    train_x=train_m\n",
    "    print(DataFrame(train_x))\n",
    "    \n",
    "    \n",
    "    \n",
    "    ####---disatnce \n",
    "    my_m_dict={}\n",
    "    d_2=distance**2\n",
    "    for i in range(len(my_m)):\n",
    "        for j in range(len(my_m[0])):\n",
    "            #print(i,j)\n",
    "            d_curr = (my_m[i][j][0]-your_position[0])**2 + (my_m[i][j][1]-your_position[1])**2\n",
    "            if d_curr<=d_2:\n",
    "                #print('hello',my_m[i][j][0],my_m[i][j][1])\n",
    "                if my_m[i][j][0]!=your_position[0]:\n",
    "                    val=(my_m[i][j][1]-your_position[1])/(my_m[i][j][0]-your_position[0])\n",
    "                    if val in my_m_dict:\n",
    "                        #print('duplicate found',my_m_dict[val],d_curr)\n",
    "                        if my_m_dict[val]<=d_curr:\n",
    "                            #print('**************************')\n",
    "                            continue\n",
    "                    my_m_dict[val]=d_curr\n",
    "#                     print(val,'val')\n",
    "#                 else:\n",
    "#                     print('re')\n",
    "\n",
    "    print('')\n",
    "    print(my_m_dict,'my_m_dict')\n",
    "                    \n",
    "    ####---train _distance \n",
    "    train_m_dict={}\n",
    "    #d_2=distance**2\n",
    "    for i in range(len(my_m)):\n",
    "        for j in range(len(my_m[0])):\n",
    "            #print(i,j)\n",
    "            d_curr = (train_m[i][j][0]-trainer_position[0])**2 + (train_m[i][j][1]-trainer_position[1])**2\n",
    "            if d_curr<=d_2:\n",
    "                #print('hello',my_m[i][j][0],my_m[i][j][1])\n",
    "                if train_m[i][j][0]!=trainer_position[0]:\n",
    "                    val=(train_m[i][j][1]-trainer_position[1])/(my_m[i][j][0]-trainer_position[0])\n",
    "                    if val in train_m_dict:\n",
    "                        #print('duplicate found',my_m_dict[val],d_curr)\n",
    "                        if train_m_dict[val]<=d_curr:\n",
    "                            #print('**************************')\n",
    "                            continue\n",
    "                    if val in my_m_dict and my_m_dict[val]<=d_curr:\n",
    "                        continue\n",
    "                    train_m_dict[val]=d_curr\n",
    "#                     print(val,'val')\n",
    "#                 else:\n",
    "#                     print('re')\n",
    "\n",
    "    print('')\n",
    "    print(train_m_dict,'train_m_dict')    \n",
    "    \n",
    "    \n",
    "#print(solution([3,2], [1,1], [2,1], 4))         \n",
    "print(solution([300,275], [150,150], [185,100], 500)) #1900"
   ]
  },
  {
   "cell_type": "code",
   "execution_count": null,
   "metadata": {},
   "outputs": [],
   "source": []
  },
  {
   "cell_type": "code",
   "execution_count": null,
   "metadata": {},
   "outputs": [],
   "source": []
  },
  {
   "cell_type": "code",
   "execution_count": null,
   "metadata": {},
   "outputs": [],
   "source": []
  }
 ],
 "metadata": {
  "kernelspec": {
   "display_name": "Python 3",
   "language": "python",
   "name": "python3"
  },
  "language_info": {
   "codemirror_mode": {
    "name": "ipython",
    "version": 3
   },
   "file_extension": ".py",
   "mimetype": "text/x-python",
   "name": "python",
   "nbconvert_exporter": "python",
   "pygments_lexer": "ipython3",
   "version": "3.7.3"
  }
 },
 "nbformat": 4,
 "nbformat_minor": 2
}
